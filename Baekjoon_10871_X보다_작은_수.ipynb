{
  "nbformat": 4,
  "nbformat_minor": 0,
  "metadata": {
    "colab": {
      "name": "Baekjoon_10871_X보다 작은 수.ipynb",
      "provenance": [],
      "authorship_tag": "ABX9TyObrgKDFcITalGG17qG1RfW",
      "include_colab_link": true
    },
    "kernelspec": {
      "name": "python3",
      "display_name": "Python 3"
    },
    "language_info": {
      "name": "python"
    }
  },
  "cells": [
    {
      "cell_type": "markdown",
      "metadata": {
        "id": "view-in-github",
        "colab_type": "text"
      },
      "source": [
        "<a href=\"https://colab.research.google.com/github/Vulter3653/python/blob/main/Baekjoon_10871_X%EB%B3%B4%EB%8B%A4_%EC%9E%91%EC%9D%80_%EC%88%98.ipynb\" target=\"_parent\"><img src=\"https://colab.research.google.com/assets/colab-badge.svg\" alt=\"Open In Colab\"/></a>"
      ]
    },
    {
      "cell_type": "code",
      "execution_count": 6,
      "metadata": {
        "colab": {
          "base_uri": "https://localhost:8080/"
        },
        "id": "YCPpoIrHj2Ez",
        "outputId": "99c946e3-5ae9-4a21-8a22-08b9b00d9621"
      },
      "outputs": [
        {
          "output_type": "stream",
          "name": "stdout",
          "text": [
            "10 5\n",
            "1 10 4 9 2 3 8 5 7 6\n",
            "1 4 2 3\n"
          ]
        }
      ],
      "source": [
        "from collections import deque\n",
        "\n",
        "N,X = map(int, input().rstrip().split())\n",
        "a = deque(list(map(int, input().rstrip().split())))\n",
        "for _ in range(N):\n",
        "  Y = a.popleft()\n",
        "  if Y < X:\n",
        "    a.append(Y)\n",
        "\n",
        "b = str(a.popleft())\n",
        "for _ in range(len(a)):\n",
        "  b +=' '+str(a.popleft())\n",
        "  \n",
        "print(b)  "
      ]
    },
    {
      "cell_type": "code",
      "source": [
        "import sys\n",
        "from collections import deque\n",
        "\n",
        "N,X = map(int, sys.stdin.readline().rstrip().split())\n",
        "a = deque(list(map(int, sys.stdin.readline().rstrip().split())))\n",
        "for _ in range(N):\n",
        "  Y = a.popleft()\n",
        "  if Y < X:\n",
        "    a.append(Y)\n",
        "\n",
        "b = str(a.popleft())\n",
        "for _ in range(len(a)):\n",
        "  b +=' '+str(a.popleft())\n",
        "  \n",
        "print(b)  "
      ],
      "metadata": {
        "id": "Wow7PYRqwVoF"
      },
      "execution_count": null,
      "outputs": []
    }
  ]
}