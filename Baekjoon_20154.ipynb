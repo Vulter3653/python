{
  "nbformat": 4,
  "nbformat_minor": 0,
  "metadata": {
    "colab": {
      "name": "Baekjoon_20154.ipynb",
      "provenance": [],
      "collapsed_sections": [],
      "authorship_tag": "ABX9TyP3VnjfNXUKXwTD2lVMj8Y3",
      "include_colab_link": true
    },
    "kernelspec": {
      "name": "python3",
      "display_name": "Python 3"
    },
    "language_info": {
      "name": "python"
    }
  },
  "cells": [
    {
      "cell_type": "markdown",
      "metadata": {
        "id": "view-in-github",
        "colab_type": "text"
      },
      "source": [
        "<a href=\"https://colab.research.google.com/github/Vulter3653/python/blob/main/Baekjoon_20154.ipynb\" target=\"_parent\"><img src=\"https://colab.research.google.com/assets/colab-badge.svg\" alt=\"Open In Colab\"/></a>"
      ]
    },
    {
      "cell_type": "code",
      "execution_count": null,
      "metadata": {
        "colab": {
          "base_uri": "https://localhost:8080/"
        },
        "id": "EUeE1gQX1Y6T",
        "outputId": "670c8e82-1c51-40bc-ea4a-3dbe558a5a88"
      },
      "outputs": [
        {
          "output_type": "stream",
          "name": "stdout",
          "text": [
            "AECF\n",
            "You're the winner?\n"
          ]
        }
      ],
      "source": [
        "x = input()\n",
        "y = []\n",
        "\n",
        "a ='ABCDEFGHIJKLMNOPQRSTUVWXYZ'\n",
        "b ='32123333113133122212112221'\n",
        "\n",
        "c = list(a)\n",
        "d = list(b)\n",
        "\n",
        "point = dict(zip(c,d))\n",
        "\n",
        "e = list(x)\n",
        "\n",
        "while True:\n",
        "  try:\n",
        "    f = e.pop(0)\n",
        "    if f in point:\n",
        "      y.append(int(point[f]))\n",
        "  except:\n",
        "    if sum(y)%2==1:\n",
        "      print(\"I'm a winner!\")\n",
        "      break\n",
        "    else:\n",
        "      print(\"You're the winner?\")\n",
        "      break"
      ]
    },
    {
      "cell_type": "code",
      "source": [
        "import sys\n",
        "\n",
        "y = []\n",
        "\n",
        "a ='ABCDEFGHIJKLMNOPQRSTUVWXYZ'\n",
        "b ='32123333113133122212112221'\n",
        "\n",
        "c = list(a)\n",
        "d = list(b)\n",
        "\n",
        "point = dict(zip(c,d))\n",
        "\n",
        "e = list(sys.stdin.readline())\n",
        "\n",
        "while True:\n",
        "  try:\n",
        "    f = e.pop(0)\n",
        "    if f in point:\n",
        "      y.append(int(point[f]))\n",
        "  except:\n",
        "    if sum(y)%2==1:\n",
        "      print(\"I'm a winner!\")\n",
        "      break\n",
        "    else:\n",
        "      print(\"You're the winner?\")\n",
        "      break"
      ],
      "metadata": {
        "colab": {
          "base_uri": "https://localhost:8080/",
          "height": 431
        },
        "id": "LivwaAXCADSp",
        "outputId": "193ef878-0179-4050-d50c-7f016d9c34c9"
      },
      "execution_count": null,
      "outputs": [
        {
          "output_type": "error",
          "ename": "TypeError",
          "evalue": "ignored",
          "traceback": [
            "\u001b[0;31m---------------------------------------------------------------------------\u001b[0m",
            "\u001b[0;31mIndexError\u001b[0m                                Traceback (most recent call last)",
            "\u001b[0;32m<ipython-input-36-b4f02e5bc2cd>\u001b[0m in \u001b[0;36m<module>\u001b[0;34m()\u001b[0m\n\u001b[1;32m     16\u001b[0m   \u001b[0;32mtry\u001b[0m\u001b[0;34m:\u001b[0m\u001b[0;34m\u001b[0m\u001b[0;34m\u001b[0m\u001b[0m\n\u001b[0;32m---> 17\u001b[0;31m     \u001b[0mf\u001b[0m \u001b[0;34m=\u001b[0m \u001b[0me\u001b[0m\u001b[0;34m.\u001b[0m\u001b[0mpop\u001b[0m\u001b[0;34m(\u001b[0m\u001b[0;36m0\u001b[0m\u001b[0;34m)\u001b[0m\u001b[0;34m\u001b[0m\u001b[0;34m\u001b[0m\u001b[0m\n\u001b[0m\u001b[1;32m     18\u001b[0m     \u001b[0;32mif\u001b[0m \u001b[0mf\u001b[0m \u001b[0;32min\u001b[0m \u001b[0mpoint\u001b[0m\u001b[0;34m:\u001b[0m\u001b[0;34m\u001b[0m\u001b[0;34m\u001b[0m\u001b[0m\n",
            "\u001b[0;31mIndexError\u001b[0m: pop from empty list",
            "\nDuring handling of the above exception, another exception occurred:\n",
            "\u001b[0;31mTypeError\u001b[0m                                 Traceback (most recent call last)",
            "\u001b[0;32m<ipython-input-36-b4f02e5bc2cd>\u001b[0m in \u001b[0;36m<module>\u001b[0;34m()\u001b[0m\n\u001b[1;32m     19\u001b[0m       \u001b[0my\u001b[0m\u001b[0;34m.\u001b[0m\u001b[0mappend\u001b[0m\u001b[0;34m(\u001b[0m\u001b[0mint\u001b[0m\u001b[0;34m(\u001b[0m\u001b[0mpoint\u001b[0m\u001b[0;34m[\u001b[0m\u001b[0mf\u001b[0m\u001b[0;34m]\u001b[0m\u001b[0;34m)\u001b[0m\u001b[0;34m)\u001b[0m\u001b[0;34m\u001b[0m\u001b[0;34m\u001b[0m\u001b[0m\n\u001b[1;32m     20\u001b[0m   \u001b[0;32mexcept\u001b[0m\u001b[0;34m:\u001b[0m\u001b[0;34m\u001b[0m\u001b[0;34m\u001b[0m\u001b[0m\n\u001b[0;32m---> 21\u001b[0;31m     \u001b[0;32mif\u001b[0m \u001b[0msum\u001b[0m\u001b[0;34m(\u001b[0m\u001b[0my\u001b[0m\u001b[0;34m)\u001b[0m\u001b[0;34m%\u001b[0m\u001b[0;36m2\u001b[0m\u001b[0;34m==\u001b[0m\u001b[0;36m1\u001b[0m\u001b[0;34m:\u001b[0m\u001b[0;34m\u001b[0m\u001b[0;34m\u001b[0m\u001b[0m\n\u001b[0m\u001b[1;32m     22\u001b[0m       \u001b[0mprint\u001b[0m\u001b[0;34m(\u001b[0m\u001b[0;34m\"I'm a winner!\"\u001b[0m\u001b[0;34m)\u001b[0m\u001b[0;34m\u001b[0m\u001b[0;34m\u001b[0m\u001b[0m\n\u001b[1;32m     23\u001b[0m       \u001b[0;32mbreak\u001b[0m\u001b[0;34m\u001b[0m\u001b[0;34m\u001b[0m\u001b[0m\n",
            "\u001b[0;31mTypeError\u001b[0m: 'int' object is not callable"
          ]
        }
      ]
    },
    {
      "cell_type": "code",
      "source": [
        "import sys\n",
        "\n",
        "alpdict = {\"A\":3, \"B\":2, \"C\":1, \"D\":2, \"E\":3, \"F\":3, \"G\":3, \"H\":3, \"I\":1, \"J\":1, \"K\":3, \"L\":1, \"M\":3, \"N\":3, \"O\":1, \"P\":2, \"Q\":2, \"R\":2, \"S\":1, \"T\":2, \"U\":1, \"V\":1, \"W\":2, \"X\":2, \"Y\":2, \"Z\":1,\"'\":0}\n",
        "\n",
        "sentence = input()\n",
        "\n",
        "alph = list(sentence)\n",
        "sum = 0\n",
        "\n",
        "for x in alph:\n",
        "  sum += alpdict[x]\n",
        "\n",
        "if sum%2 == 1:\n",
        "  print(\"I'm a winner!\")\n",
        "else:\n",
        "  print(\"You're the winner?\")"
      ],
      "metadata": {
        "colab": {
          "base_uri": "https://localhost:8080/"
        },
        "id": "I7gfBCCTRuGs",
        "outputId": "67dc1fe6-b7d2-4091-fae8-790ce0b6b6d6"
      },
      "execution_count": null,
      "outputs": [
        {
          "output_type": "stream",
          "name": "stdout",
          "text": [
            "ABCDE\n",
            "['A', 'B', 'C', 'D', 'E']\n",
            "3\n",
            "['A', 'B', 'C', 'D', 'E']\n",
            "5\n",
            "['A', 'B', 'C', 'D', 'E']\n",
            "6\n",
            "['A', 'B', 'C', 'D', 'E']\n",
            "8\n",
            "['A', 'B', 'C', 'D', 'E']\n",
            "11\n",
            "['A', 'B', 'C', 'D', 'E']\n",
            "I'm a winner!\n"
          ]
        }
      ]
    }
  ]
}