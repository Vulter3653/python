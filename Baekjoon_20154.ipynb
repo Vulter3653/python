{
  "nbformat": 4,
  "nbformat_minor": 0,
  "metadata": {
    "colab": {
      "name": "Baekjoon_20154.ipynb",
      "provenance": [],
      "authorship_tag": "ABX9TyOZ8xTJsRHEp318z8pqighV",
      "include_colab_link": true
    },
    "kernelspec": {
      "name": "python3",
      "display_name": "Python 3"
    },
    "language_info": {
      "name": "python"
    }
  },
  "cells": [
    {
      "cell_type": "markdown",
      "metadata": {
        "id": "view-in-github",
        "colab_type": "text"
      },
      "source": [
        "<a href=\"https://colab.research.google.com/github/Vulter3653/python/blob/main/Baekjoon_20154.ipynb\" target=\"_parent\"><img src=\"https://colab.research.google.com/assets/colab-badge.svg\" alt=\"Open In Colab\"/></a>"
      ]
    },
    {
      "cell_type": "code",
      "execution_count": 23,
      "metadata": {
        "colab": {
          "base_uri": "https://localhost:8080/"
        },
        "id": "EUeE1gQX1Y6T",
        "outputId": "39cbad6d-8236-41a9-aa83-506a0d7cc900"
      },
      "outputs": [
        {
          "output_type": "stream",
          "name": "stdout",
          "text": [
            "AECF\n",
            "You're the winner?\n"
          ]
        }
      ],
      "source": [
        "x = input()\n",
        "y = []\n",
        "\n",
        "a ='ABCDEFGHIJKLMNOPQRSTUVWXYZ'\n",
        "b ='32123333113133122212112221'\n",
        "\n",
        "c = list(a)\n",
        "d = list(b)\n",
        "\n",
        "point = dict(zip(c,d))\n",
        "\n",
        "e = list(x)\n",
        "\n",
        "while True:\n",
        "  try:\n",
        "    f = e.pop()\n",
        "    if f in point:\n",
        "      y.append(int(point[f]))\n",
        "  except:\n",
        "    if sum(y)%2==1:\n",
        "      print(\"I'm a winner!\")\n",
        "      break\n",
        "    else:\n",
        "      print(\"You're the winner?\")\n",
        "      break"
      ]
    },
    {
      "cell_type": "code",
      "source": [
        "import sys\n",
        "\n",
        "y = []\n",
        "\n",
        "a ='ABCDEFGHIJKLMNOPQRSTUVWXYZ'\n",
        "b ='32123333113133122212112221'\n",
        "\n",
        "c = list(a)\n",
        "d = list(b)\n",
        "\n",
        "point = dict(zip(c,d))\n",
        "\n",
        "e = list(sys.stdin.readline())\n",
        "\n",
        "while True:\n",
        "  try:\n",
        "    f = e.pop()\n",
        "    if f in point:\n",
        "      y.append(int(point[f]))\n",
        "  except:\n",
        "    if sum(y)%2==1:\n",
        "      print(\"I'm a winner!\")\n",
        "      break\n",
        "    else:\n",
        "      print(\"You're the winner?\")\n",
        "      break"
      ],
      "metadata": {
        "id": "LivwaAXCADSp"
      },
      "execution_count": null,
      "outputs": []
    }
  ]
}