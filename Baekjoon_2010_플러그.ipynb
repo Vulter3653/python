{
  "nbformat": 4,
  "nbformat_minor": 0,
  "metadata": {
    "colab": {
      "name": "Baekjoon_2010_플러그.ipynb",
      "provenance": [],
      "authorship_tag": "ABX9TyOpHlxtYKzi0OC5paKkol0x",
      "include_colab_link": true
    },
    "kernelspec": {
      "name": "python3",
      "display_name": "Python 3"
    },
    "language_info": {
      "name": "python"
    }
  },
  "cells": [
    {
      "cell_type": "markdown",
      "metadata": {
        "id": "view-in-github",
        "colab_type": "text"
      },
      "source": [
        "<a href=\"https://colab.research.google.com/github/Vulter3653/python/blob/main/Baekjoon_2010_%ED%94%8C%EB%9F%AC%EA%B7%B8.ipynb\" target=\"_parent\"><img src=\"https://colab.research.google.com/assets/colab-badge.svg\" alt=\"Open In Colab\"/></a>"
      ]
    },
    {
      "cell_type": "code",
      "execution_count": 4,
      "metadata": {
        "colab": {
          "base_uri": "https://localhost:8080/"
        },
        "id": "y4iLtNjhzl_0",
        "outputId": "689851ee-99c2-44bf-94aa-4076a08dd99f"
      },
      "outputs": [
        {
          "output_type": "stream",
          "name": "stdout",
          "text": [
            "3\n",
            "3\n",
            "2\n",
            "1\n",
            "4\n"
          ]
        }
      ],
      "source": [
        "x = int(input().rstrip())\n",
        "a = int(input().rstrip()) \n",
        "for _ in range(x-1):\n",
        "  a = a + int(input().rstrip()) -1\n",
        "print(a)"
      ]
    },
    {
      "cell_type": "code",
      "source": [
        "import sys\n",
        "x = int(sys.stdin.readline().rstrip())\n",
        "a = int(sys.stdin.readline().rstrip()) \n",
        "for _ in range(x-1):\n",
        "  a = a + int(sys.stdin.readline().rstrip()) -1\n",
        "print(a)"
      ],
      "metadata": {
        "id": "T7DfRq9S0ph-"
      },
      "execution_count": null,
      "outputs": []
    }
  ]
}