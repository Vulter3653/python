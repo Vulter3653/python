{
  "nbformat": 4,
  "nbformat_minor": 0,
  "metadata": {
    "colab": {
      "name": "Baekjoon_1764_듣보잡.ipynb",
      "provenance": [],
      "authorship_tag": "ABX9TyMFZ3/YABUQjU/PCSz/qSHo",
      "include_colab_link": true
    },
    "kernelspec": {
      "name": "python3",
      "display_name": "Python 3"
    },
    "language_info": {
      "name": "python"
    }
  },
  "cells": [
    {
      "cell_type": "markdown",
      "metadata": {
        "id": "view-in-github",
        "colab_type": "text"
      },
      "source": [
        "<a href=\"https://colab.research.google.com/github/Vulter3653/python/blob/main/Baekjoon_1764_%EB%93%A3%EB%B3%B4%EC%9E%A1.ipynb\" target=\"_parent\"><img src=\"https://colab.research.google.com/assets/colab-badge.svg\" alt=\"Open In Colab\"/></a>"
      ]
    },
    {
      "cell_type": "code",
      "execution_count": 12,
      "metadata": {
        "colab": {
          "base_uri": "https://localhost:8080/"
        },
        "id": "9zb1sxfbZS8r",
        "outputId": "192b2a37-1450-49a1-d6ac-c6da2a388782"
      },
      "outputs": [
        {
          "output_type": "stream",
          "name": "stdout",
          "text": [
            "3 4\n",
            "ohhenrie\n",
            "charlie\n",
            "baesangwook\n",
            "obama\n",
            "baesangwook\n",
            "ohhenrie\n",
            "clinton\n",
            "2\n",
            "baesangwook\n",
            "ohhenrie\n"
          ]
        }
      ],
      "source": [
        "N,M = map(int,input().split())\n",
        "audio = []\n",
        "uninvited = []\n",
        "\n",
        "for N in range(N):\n",
        "  audio.append(input().rstrip())\n",
        "audio = set(audio)\n",
        "\n",
        "for M in range(M):\n",
        "  a =input().rstrip()\n",
        "  if a in audio:\n",
        "    uninvited.append(a)\n",
        "\n",
        "print(len(uninvited))\n",
        "uninvited = sorted(uninvited)\n",
        "for _ in range(len(uninvited)):\n",
        "  print(uninvited.pop(0))"
      ]
    },
    {
      "cell_type": "code",
      "source": [
        "import sys\n",
        "\n",
        "N,M = map(int,sys.stdin.readline().split())\n",
        "audio = []\n",
        "uninvited = []\n",
        "\n",
        "for N in range(N):\n",
        "  audio.append(sys.stdin.readline().rstrip())\n",
        "audio = set(audio)\n",
        "\n",
        "for M in range(M):\n",
        "  a = sys.stdin.readline().rstrip()\n",
        "  if a in audio:\n",
        "    uninvited.append(a)\n",
        "\n",
        "print(len(uninvited))\n",
        "uninvited = sorted(uninvited)\n",
        "for _ in range(len(uninvited)):\n",
        "  print(uninvited.pop(0))"
      ],
      "metadata": {
        "id": "VfQ_Ya_FePsG"
      },
      "execution_count": null,
      "outputs": []
    }
  ]
}