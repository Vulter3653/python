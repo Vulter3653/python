{
  "nbformat": 4,
  "nbformat_minor": 0,
  "metadata": {
    "colab": {
      "name": "Baekjoon_9012_괄호.ipynb",
      "provenance": [],
      "authorship_tag": "ABX9TyP7T7qJGXJCQHqmYwPMGMo1",
      "include_colab_link": true
    },
    "kernelspec": {
      "name": "python3",
      "display_name": "Python 3"
    },
    "language_info": {
      "name": "python"
    }
  },
  "cells": [
    {
      "cell_type": "markdown",
      "metadata": {
        "id": "view-in-github",
        "colab_type": "text"
      },
      "source": [
        "<a href=\"https://colab.research.google.com/github/Vulter3653/python/blob/main/Baekjoon_9012_%EA%B4%84%ED%98%B8.ipynb\" target=\"_parent\"><img src=\"https://colab.research.google.com/assets/colab-badge.svg\" alt=\"Open In Colab\"/></a>"
      ]
    },
    {
      "cell_type": "code",
      "execution_count": 22,
      "metadata": {
        "colab": {
          "base_uri": "https://localhost:8080/"
        },
        "id": "EufA1lBCN0hN",
        "outputId": "91f5c755-5238-4e2c-c650-8e362adf9efd"
      },
      "outputs": [
        {
          "output_type": "stream",
          "name": "stdout",
          "text": [
            "3\n",
            "((\n",
            "NO\n",
            "))\n",
            "NO\n",
            "())(()\n",
            "NO\n"
          ]
        }
      ],
      "source": [
        "#시간 python3 > pypy3 // 메모리 python3 < pypy3\n",
        "T = int(input())\n",
        "\n",
        "for T in range(T):\n",
        "  d = input().rstrip()\n",
        "  a = list(d)\n",
        "\n",
        "  cnt_r = 0\n",
        "  cnt_l = 0\n",
        "\n",
        "  for k in range(len(a)):\n",
        "    k = a.pop(0)\n",
        "    if k == '(':\n",
        "      cnt_l +=1\n",
        "    else:\n",
        "      cnt_r +=1\n",
        "      if cnt_r > cnt_l:\n",
        "        print('NO')\n",
        "        break\n",
        "      \n",
        "  if cnt_r < cnt_l:\n",
        "    print('NO')\n",
        "  elif cnt_r == cnt_l:\n",
        "    print('YES')"
      ]
    },
    {
      "cell_type": "code",
      "source": [
        "# python3 4ms 빠름/ pypy3 16ms 빠름\n",
        "import sys\n",
        "T = int(sys.stdin.readline())\n",
        "\n",
        "for T in range(T):\n",
        "  d = sys.stdin.readline().rstrip()\n",
        "  a = list(d)\n",
        "\n",
        "  cnt_r = 0\n",
        "  cnt_l = 0\n",
        "\n",
        "  for k in range(len(a)):\n",
        "    k = a.pop(0)\n",
        "    if k == '(':\n",
        "      cnt_l +=1\n",
        "    else:\n",
        "      cnt_r +=1\n",
        "      if cnt_r > cnt_l:\n",
        "        print('NO')\n",
        "        break\n",
        "      \n",
        "  if cnt_r < cnt_l:\n",
        "    print('NO')\n",
        "  elif cnt_r == cnt_l:\n",
        "    print('YES')"
      ],
      "metadata": {
        "id": "1eMBj2CYok6B"
      },
      "execution_count": null,
      "outputs": []
    },
    {
      "cell_type": "code",
      "source": [
        "d = input().rstrip()\n",
        "a = list(d)\n",
        "\n",
        "cnt_r = 0\n",
        "cnt_l = 0\n",
        "\n",
        "for k in range(len(a)):\n",
        "  k = a.pop(0)\n",
        "  if k == '(':\n",
        "    cnt_l +=1\n",
        "  else:\n",
        "    cnt_r +=1\n",
        "    if cnt_r > cnt_l:\n",
        "      print('NO')\n",
        "      break\n",
        "      \n",
        "if cnt_r < cnt_l:\n",
        "  print('NO')\n",
        "elif cnt_r == cnt_l:\n",
        "  print('YES')"
      ],
      "metadata": {
        "colab": {
          "base_uri": "https://localhost:8080/"
        },
        "id": "E9Q0B9fyQb1X",
        "outputId": "4ef3db04-adff-4e99-ee36-295704750151"
      },
      "execution_count": 18,
      "outputs": [
        {
          "output_type": "stream",
          "name": "stdout",
          "text": [
            "(()())((()))\n",
            "YES\n"
          ]
        }
      ]
    }
  ]
}