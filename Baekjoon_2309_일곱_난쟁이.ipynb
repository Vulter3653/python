{
  "nbformat": 4,
  "nbformat_minor": 0,
  "metadata": {
    "colab": {
      "name": "Baekjoon_2309_일곱 난쟁이.ipynb",
      "provenance": [],
      "collapsed_sections": [],
      "authorship_tag": "ABX9TyO8xmNeB2B7UJ4GpBQekAKE",
      "include_colab_link": true
    },
    "kernelspec": {
      "name": "python3",
      "display_name": "Python 3"
    },
    "language_info": {
      "name": "python"
    }
  },
  "cells": [
    {
      "cell_type": "markdown",
      "metadata": {
        "id": "view-in-github",
        "colab_type": "text"
      },
      "source": [
        "<a href=\"https://colab.research.google.com/github/Vulter3653/python/blob/main/Baekjoon_2309_%EC%9D%BC%EA%B3%B1_%EB%82%9C%EC%9F%81%EC%9D%B4.ipynb\" target=\"_parent\"><img src=\"https://colab.research.google.com/assets/colab-badge.svg\" alt=\"Open In Colab\"/></a>"
      ]
    },
    {
      "cell_type": "code",
      "execution_count": 2,
      "metadata": {
        "colab": {
          "base_uri": "https://localhost:8080/"
        },
        "id": "Nsk8S4fJ-YS7",
        "outputId": "84f90868-2927-4cd0-fe6d-48005107ee6b"
      },
      "outputs": [
        {
          "output_type": "stream",
          "name": "stdout",
          "text": [
            "20\n",
            "7\n",
            "23\n",
            "19\n",
            "10\n",
            "15\n",
            "25\n",
            "8\n",
            "13\n",
            "7\n",
            "8\n",
            "10\n",
            "13\n",
            "19\n",
            "20\n",
            "23\n"
          ]
        }
      ],
      "source": [
        "a = []\n",
        "\n",
        "for _ in range(9):\n",
        "  a.append(int(input()))\n",
        "\n",
        "x = sum(a)-100\n",
        "a.sort()\n",
        "\n",
        "for q in range(len(a)):\n",
        "  p = a[q]\n",
        "  q = x-p\n",
        "  if q in a:\n",
        "    a.remove(p)\n",
        "    a.remove(q)\n",
        "    break\n",
        "\n",
        "for q in range(7):\n",
        "  print(a[q])"
      ]
    },
    {
      "cell_type": "code",
      "source": [
        "import sys\n",
        "\n",
        "a = []\n",
        "\n",
        "for _ in range(9):\n",
        "  a.append(int(sys.stdin.readline().rstrip()))\n",
        "\n",
        "x = sum(a)-100\n",
        "a.sort()\n",
        "\n",
        "for q in range(len(a)):\n",
        "  p = a[q]\n",
        "  q = x-p\n",
        "  if q in a:\n",
        "    a.remove(p)\n",
        "    a.remove(q)\n",
        "    break\n",
        "\n",
        "for q in range(7):\n",
        "  print(a[q])"
      ],
      "metadata": {
        "id": "fVFyDn74ACSX"
      },
      "execution_count": null,
      "outputs": []
    }
  ]
}