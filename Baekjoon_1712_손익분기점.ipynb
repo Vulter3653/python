{
  "nbformat": 4,
  "nbformat_minor": 0,
  "metadata": {
    "colab": {
      "name": "Baekjoon_1712_손익분기점.ipynb",
      "provenance": [],
      "collapsed_sections": [],
      "authorship_tag": "ABX9TyPDmdRoCIYWxFtaqVXUXEID",
      "include_colab_link": true
    },
    "kernelspec": {
      "name": "python3",
      "display_name": "Python 3"
    },
    "language_info": {
      "name": "python"
    }
  },
  "cells": [
    {
      "cell_type": "markdown",
      "metadata": {
        "id": "view-in-github",
        "colab_type": "text"
      },
      "source": [
        "<a href=\"https://colab.research.google.com/github/Vulter3653/python/blob/main/Baekjoon_1712_%EC%86%90%EC%9D%B5%EB%B6%84%EA%B8%B0%EC%A0%90.ipynb\" target=\"_parent\"><img src=\"https://colab.research.google.com/assets/colab-badge.svg\" alt=\"Open In Colab\"/></a>"
      ]
    },
    {
      "cell_type": "code",
      "execution_count": 2,
      "metadata": {
        "colab": {
          "base_uri": "https://localhost:8080/"
        },
        "id": "IAEhx8w8YpQ8",
        "outputId": "3c818aeb-d6f6-4531-ea1c-b430c0128d1a"
      },
      "outputs": [
        {
          "output_type": "stream",
          "name": "stdout",
          "text": [
            "2100000000 9 10\n",
            "2100000000\n"
          ]
        }
      ],
      "source": [
        "A,B,C = map(int, input().split())\n",
        "\n",
        "if B >= C:\n",
        "  print(-1)\n",
        "else:\n",
        "  print((A//(C-B))+1)"
      ]
    },
    {
      "cell_type": "code",
      "source": [
        "import sys\n",
        "A,B,C = map(int, sys.stdin.readline().rstrip().split())\n",
        "\n",
        "if B >= C:\n",
        "  print(-1)\n",
        "else:\n",
        "  print((A//(C-B))+1)"
      ],
      "metadata": {
        "id": "4kEkHQqkZ_Cy"
      },
      "execution_count": null,
      "outputs": []
    }
  ]
}