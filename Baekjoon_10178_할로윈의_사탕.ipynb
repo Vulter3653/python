{
  "nbformat": 4,
  "nbformat_minor": 0,
  "metadata": {
    "colab": {
      "name": "Baekjoon_10178_할로윈의 사탕.ipynb",
      "provenance": [],
      "authorship_tag": "ABX9TyNbbw77i6jP/o++tqTfFGB4",
      "include_colab_link": true
    },
    "kernelspec": {
      "name": "python3",
      "display_name": "Python 3"
    },
    "language_info": {
      "name": "python"
    }
  },
  "cells": [
    {
      "cell_type": "markdown",
      "metadata": {
        "id": "view-in-github",
        "colab_type": "text"
      },
      "source": [
        "<a href=\"https://colab.research.google.com/github/Vulter3653/python/blob/main/Baekjoon_10178_%ED%95%A0%EB%A1%9C%EC%9C%88%EC%9D%98_%EC%82%AC%ED%83%95.ipynb\" target=\"_parent\"><img src=\"https://colab.research.google.com/assets/colab-badge.svg\" alt=\"Open In Colab\"/></a>"
      ]
    },
    {
      "cell_type": "code",
      "execution_count": 3,
      "metadata": {
        "colab": {
          "base_uri": "https://localhost:8080/"
        },
        "id": "Hmmx4TsNe_xb",
        "outputId": "480f6234-6037-4c3f-d8bc-aeb17fd962dc"
      },
      "outputs": [
        {
          "output_type": "stream",
          "name": "stdout",
          "text": [
            "5\n",
            "22 3\n",
            "You get 7 piece(s) and your dad gets 1 piece(s).\n",
            "15 5\n",
            "You get 3 piece(s) and your dad gets 0 piece(s).\n",
            "99 8\n",
            "You get 12 piece(s) and your dad gets 3 piece(s).\n",
            "7 4\n",
            "You get 1 piece(s) and your dad gets 3 piece(s).\n",
            "101 5\n",
            "You get 20 piece(s) and your dad gets 1 piece(s).\n"
          ]
        }
      ],
      "source": [
        "for _ in range(int(input().rstrip())):\n",
        "  a,b = map(int,input().rstrip().split())\n",
        "  print(\"You get {0} piece(s) and your dad gets {1} piece(s).\".format(a//b,a%b) )"
      ]
    },
    {
      "cell_type": "code",
      "source": [
        "import sys\n",
        "\n",
        "for _ in range(int(sys.stdin.readline().rstrip())):\n",
        "  a,b = map(int,sys.stdin.readline().rstrip().split())\n",
        "  print(\"You get {0} piece(s) and your dad gets {1} piece(s).\".format(a//b,a%b) )"
      ],
      "metadata": {
        "id": "4XGjV9Ojg_v_"
      },
      "execution_count": null,
      "outputs": []
    }
  ]
}