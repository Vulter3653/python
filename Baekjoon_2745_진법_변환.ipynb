{
  "nbformat": 4,
  "nbformat_minor": 0,
  "metadata": {
    "colab": {
      "name": "Baekjoon_2745_진법 변환.ipynb",
      "provenance": [],
      "authorship_tag": "ABX9TyO1beVUerovUVEeydj18pRT",
      "include_colab_link": true
    },
    "kernelspec": {
      "name": "python3",
      "display_name": "Python 3"
    },
    "language_info": {
      "name": "python"
    }
  },
  "cells": [
    {
      "cell_type": "markdown",
      "metadata": {
        "id": "view-in-github",
        "colab_type": "text"
      },
      "source": [
        "<a href=\"https://colab.research.google.com/github/Vulter3653/python/blob/main/Baekjoon_2745_%EC%A7%84%EB%B2%95_%EB%B3%80%ED%99%98.ipynb\" target=\"_parent\"><img src=\"https://colab.research.google.com/assets/colab-badge.svg\" alt=\"Open In Colab\"/></a>"
      ]
    },
    {
      "cell_type": "code",
      "source": [
        "N,B = input().split()\n",
        "N = list(N)\n",
        "B = int(B)\n",
        "s=[]\n",
        "\n",
        "alpha = \"ABCDEFGHIJKLMNOPQRSTUVWXYZ\"\n",
        "alpha = list(alpha)\n",
        "num = list(range(10,37))\n",
        "\n",
        "check = dict(zip(alpha,num))\n",
        "\n",
        "while True:\n",
        "  try:\n",
        "    N_num = N.pop(0)\n",
        "    N_num = check.get(N_num,N_num)\n",
        "    len_N = len(N)\n",
        "    s.append(int(N_num)*B**len_N)\n",
        "  except:\n",
        "    break\n",
        "print(sum(s))"
      ],
      "metadata": {
        "colab": {
          "base_uri": "https://localhost:8080/"
        },
        "id": "ouYnXuAXBQ58",
        "outputId": "36c99f03-8371-456d-d870-817ea3df26be"
      },
      "execution_count": 55,
      "outputs": [
        {
          "output_type": "stream",
          "name": "stdout",
          "text": [
            "ZZZZZ 36\n",
            "Z\n",
            "35\n",
            "Z\n",
            "35\n",
            "Z\n",
            "35\n",
            "Z\n",
            "35\n",
            "Z\n",
            "35\n",
            "60466175\n"
          ]
        }
      ]
    },
    {
      "cell_type": "code",
      "source": [
        "import sys\n",
        "\n",
        "N,B = sys.stdin.readline().split()\n",
        "N = list(N)\n",
        "B = int(B)\n",
        "s=[]\n",
        "\n",
        "alpha = \"ABCDEFGHIJKLMNOPQRSTUVWXYZ\"\n",
        "alpha = list(alpha)\n",
        "num = list(range(10,37))\n",
        "\n",
        "check = dict(zip(alpha,num))\n",
        "\n",
        "while True:\n",
        "  try:\n",
        "    N_num = N.pop(0)\n",
        "    N_num = check.get(N_num,N_num)\n",
        "    len_N = len(N)\n",
        "    s.append(int(N_num)*B**len_N)\n",
        "  except:\n",
        "    break\n",
        "print(sum(s))"
      ],
      "metadata": {
        "id": "NeH9AvZBOY58"
      },
      "execution_count": null,
      "outputs": []
    },
    {
      "cell_type": "code",
      "source": [
        "d =\"abcd\"\n",
        "d = list(d)\n",
        "print(d)\n",
        "print(len(d))"
      ],
      "metadata": {
        "colab": {
          "base_uri": "https://localhost:8080/"
        },
        "id": "nEKgOSI4CyYA",
        "outputId": "f87401b1-36c5-464b-ca27-eea7293e4da3"
      },
      "execution_count": 20,
      "outputs": [
        {
          "output_type": "stream",
          "name": "stdout",
          "text": [
            "['a', 'b', 'c', 'd']\n",
            "4\n"
          ]
        }
      ]
    },
    {
      "cell_type": "code",
      "source": [
        "alpha = \"ABCDEFGHIJKLMNOPQRSTUVWXYZ\"\n",
        "alpha = list(alpha)\n",
        "num = list(range(10,37))\n",
        "\n",
        "check = dict(zip(alpha,num))\n",
        "#print(check)\n",
        "print(check.keys())\n",
        "z_list = list('ZZZZZ')\n",
        "a = z_list.pop()\n",
        "b = 10\n",
        "check.get(a,a)\n",
        "check.get(b,b)\n"
      ],
      "metadata": {
        "colab": {
          "base_uri": "https://localhost:8080/"
        },
        "id": "5AqeoMa0KJBN",
        "outputId": "543bd258-3f2e-4367-c71c-a5eb8763fcfc"
      },
      "execution_count": 51,
      "outputs": [
        {
          "output_type": "stream",
          "name": "stdout",
          "text": [
            "dict_keys(['A', 'B', 'C', 'D', 'E', 'F', 'G', 'H', 'I', 'J', 'K', 'L', 'M', 'N', 'O', 'P', 'Q', 'R', 'S', 'T', 'U', 'V', 'W', 'X', 'Y', 'Z'])\n"
          ]
        },
        {
          "output_type": "execute_result",
          "data": {
            "text/plain": [
              "10"
            ]
          },
          "metadata": {},
          "execution_count": 51
        }
      ]
    }
  ]
}