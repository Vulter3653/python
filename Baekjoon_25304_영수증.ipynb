{
  "nbformat": 4,
  "nbformat_minor": 0,
  "metadata": {
    "colab": {
      "provenance": [],
      "collapsed_sections": [],
      "authorship_tag": "ABX9TyNbYro5hU213U0RR9wa1/mQ",
      "include_colab_link": true
    },
    "kernelspec": {
      "name": "python3",
      "display_name": "Python 3"
    },
    "language_info": {
      "name": "python"
    }
  },
  "cells": [
    {
      "cell_type": "markdown",
      "metadata": {
        "id": "view-in-github",
        "colab_type": "text"
      },
      "source": [
        "<a href=\"https://colab.research.google.com/github/Vulter3653/python/blob/main/Baekjoon_25304_%EC%98%81%EC%88%98%EC%A6%9D.ipynb\" target=\"_parent\"><img src=\"https://colab.research.google.com/assets/colab-badge.svg\" alt=\"Open In Colab\"/></a>"
      ]
    },
    {
      "cell_type": "code",
      "execution_count": 1,
      "metadata": {
        "colab": {
          "base_uri": "https://localhost:8080/"
        },
        "id": "-rgMZrOL07FZ",
        "outputId": "5c4d3245-b914-4ff8-dc55-e1eaa5400fc7"
      },
      "outputs": [
        {
          "output_type": "stream",
          "name": "stdout",
          "text": [
            "260000\n",
            "4\n",
            "20000 5\n",
            "30000 2\n",
            "10000 6\n",
            "5000 8\n",
            "260000\n",
            "260000\n",
            "Yes\n"
          ]
        }
      ],
      "source": [
        "cost = int(input())\n",
        "cost_add = 0\n",
        "for x in range(int(input())):\n",
        "  a,b = map(int,input().split())\n",
        "  cost_add += a*b\n",
        "\n",
        "if cost == cost_add:\n",
        "  print('Yes')\n",
        "else:\n",
        "  print('No')"
      ]
    },
    {
      "cell_type": "code",
      "source": [
        "import sys\n",
        "\n",
        "cost = int(sys.stdin.readline())\n",
        "cost_add = 0\n",
        "for x in range(int(sys.stdin.readline())):\n",
        "  a,b = map(int,sys.stdin.readline().split())\n",
        "  cost_add += a*b\n",
        "\n",
        "if cost == cost_add:\n",
        "  print('Yes')\n",
        "else:\n",
        "  print('No')"
      ],
      "metadata": {
        "id": "167zuf6T2PI1"
      },
      "execution_count": null,
      "outputs": []
    },
    {
      "cell_type": "code",
      "source": [
        "for _ in range(2):\n",
        "  cost = int(input())\n",
        "  cost_add = 0\n",
        "  for x in range(int(input())):\n",
        "    a,b = map(int,input().split())\n",
        "    cost_add += a*b\n",
        "\n",
        "  if cost == cost_add:\n",
        "    print('Yes')\n",
        "  else:\n",
        "    print('No')"
      ],
      "metadata": {
        "colab": {
          "base_uri": "https://localhost:8080/"
        },
        "id": "4XRyImj910Tq",
        "outputId": "62370238-be72-4a23-a4d5-000454fbbfd6"
      },
      "execution_count": 2,
      "outputs": [
        {
          "output_type": "stream",
          "name": "stdout",
          "text": [
            "260000\n",
            "4\n",
            "20000 5\n",
            "30000 2\n",
            "10000 6\n",
            "5000 8\n",
            "Yes\n",
            "250000\n",
            "4\n",
            "20000 5\n",
            "30000 2\n",
            "10000 6\n",
            "5000 8\n",
            "No\n"
          ]
        }
      ]
    }
  ]
}