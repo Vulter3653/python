{
  "nbformat": 4,
  "nbformat_minor": 0,
  "metadata": {
    "colab": {
      "name": "Baekjoon_18108_1998년생인 내가 태국에서는 2541년생?!.ipynb",
      "provenance": [],
      "authorship_tag": "ABX9TyMkHO3hnqSlcIM7XH9CG1sR",
      "include_colab_link": true
    },
    "kernelspec": {
      "name": "python3",
      "display_name": "Python 3"
    },
    "language_info": {
      "name": "python"
    }
  },
  "cells": [
    {
      "cell_type": "markdown",
      "metadata": {
        "id": "view-in-github",
        "colab_type": "text"
      },
      "source": [
        "<a href=\"https://colab.research.google.com/github/Vulter3653/python/blob/main/Baekjoon_18108_1998%EB%85%84%EC%83%9D%EC%9D%B8_%EB%82%B4%EA%B0%80_%ED%83%9C%EA%B5%AD%EC%97%90%EC%84%9C%EB%8A%94_2541%EB%85%84%EC%83%9D%3F!.ipynb\" target=\"_parent\"><img src=\"https://colab.research.google.com/assets/colab-badge.svg\" alt=\"Open In Colab\"/></a>"
      ]
    },
    {
      "cell_type": "code",
      "execution_count": 2,
      "metadata": {
        "colab": {
          "base_uri": "https://localhost:8080/"
        },
        "id": "tjx3-b0-6X6j",
        "outputId": "e5e15247-d2bb-4fd3-8edc-f0f0cc282366"
      },
      "outputs": [
        {
          "output_type": "stream",
          "name": "stdout",
          "text": [
            "2541\n",
            "1998\n"
          ]
        }
      ],
      "source": [
        "print(int(input().rstrip())-543)"
      ]
    },
    {
      "cell_type": "code",
      "source": [
        "import sys\n",
        "print(int(sys.stdin.readline().rstrip())-543)"
      ],
      "metadata": {
        "id": "wapjYkZG6mgk"
      },
      "execution_count": null,
      "outputs": []
    }
  ]
}