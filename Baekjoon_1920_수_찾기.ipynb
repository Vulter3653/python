{
  "nbformat": 4,
  "nbformat_minor": 0,
  "metadata": {
    "colab": {
      "name": "Baekjoon_1920_수 찾기.ipynb",
      "provenance": [],
      "authorship_tag": "ABX9TyOD2KbCRRscFEZBHojNfPrB",
      "include_colab_link": true
    },
    "kernelspec": {
      "name": "python3",
      "display_name": "Python 3"
    },
    "language_info": {
      "name": "python"
    }
  },
  "cells": [
    {
      "cell_type": "markdown",
      "metadata": {
        "id": "view-in-github",
        "colab_type": "text"
      },
      "source": [
        "<a href=\"https://colab.research.google.com/github/Vulter3653/python/blob/main/Baekjoon_1920_%EC%88%98_%EC%B0%BE%EA%B8%B0.ipynb\" target=\"_parent\"><img src=\"https://colab.research.google.com/assets/colab-badge.svg\" alt=\"Open In Colab\"/></a>"
      ]
    },
    {
      "cell_type": "code",
      "execution_count": 4,
      "metadata": {
        "colab": {
          "base_uri": "https://localhost:8080/"
        },
        "id": "SQ3PCarDObKq",
        "outputId": "378cd19b-29d7-45e4-c1b0-b4954f55fd68"
      },
      "outputs": [
        {
          "output_type": "stream",
          "name": "stdout",
          "text": [
            "5\n",
            "4 1 5 2 3\n",
            "5\n",
            "1 3 7 9 5\n",
            "1\n",
            "1\n",
            "0\n",
            "0\n",
            "1\n"
          ]
        }
      ],
      "source": [
        "from collections import deque\n",
        "\n",
        "N = int(input())\n",
        "N_set = set(map(int,input().rstrip().split()))\n",
        "M = int(input())\n",
        "M_list = deque(list(map(int,input().rstrip().split())))\n",
        "\n",
        "for M in range(M):\n",
        "  a = M_list.popleft()\n",
        "  if a in N_set:\n",
        "    print(1)\n",
        "  else:\n",
        "    print(0)"
      ]
    },
    {
      "cell_type": "code",
      "source": [
        "import sys\n",
        "from collections import deque\n",
        "\n",
        "N = int(sys.stdin.readline())\n",
        "N_set = set(map(int,sys.stdin.readline().rstrip().split()))\n",
        "M = int(sys.stdin.readline())\n",
        "M_list = deque(list(map(int,sys.stdin.readline().rstrip().split())))\n",
        "\n",
        "for M in range(M):\n",
        "  a = M_list.popleft()\n",
        "  if a in N_set:\n",
        "    print(1)\n",
        "  else:\n",
        "    print(0)"
      ],
      "metadata": {
        "id": "4QNzREmHP57h"
      },
      "execution_count": null,
      "outputs": []
    }
  ]
}