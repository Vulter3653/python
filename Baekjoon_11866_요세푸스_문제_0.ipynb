{
  "nbformat": 4,
  "nbformat_minor": 0,
  "metadata": {
    "colab": {
      "name": "Baekjoon_11866_요세푸스 문제 0.ipynb",
      "provenance": [],
      "collapsed_sections": [],
      "authorship_tag": "ABX9TyNK8fQ38o9dANp5lMEbHZDm",
      "include_colab_link": true
    },
    "kernelspec": {
      "name": "python3",
      "display_name": "Python 3"
    },
    "language_info": {
      "name": "python"
    }
  },
  "cells": [
    {
      "cell_type": "markdown",
      "metadata": {
        "id": "view-in-github",
        "colab_type": "text"
      },
      "source": [
        "<a href=\"https://colab.research.google.com/github/Vulter3653/python/blob/main/Baekjoon_11866_%EC%9A%94%EC%84%B8%ED%91%B8%EC%8A%A4_%EB%AC%B8%EC%A0%9C_0.ipynb\" target=\"_parent\"><img src=\"https://colab.research.google.com/assets/colab-badge.svg\" alt=\"Open In Colab\"/></a>"
      ]
    },
    {
      "cell_type": "code",
      "execution_count": 7,
      "metadata": {
        "colab": {
          "base_uri": "https://localhost:8080/"
        },
        "id": "ik3cQz3LD8Ix",
        "outputId": "8bc12168-b59e-48cb-c403-31bdf8398e1d"
      },
      "outputs": [
        {
          "output_type": "stream",
          "name": "stdout",
          "text": [
            "7 3\n",
            "<3, 6, 2, 7, 5, 1, 4>\n"
          ]
        }
      ],
      "source": [
        "from collections import deque\n",
        "\n",
        "a,b = map(int,input().rstrip().split())\n",
        "\n",
        "a = deque(range(1,a+1))\n",
        "\n",
        "x = deque([])\n",
        "while len(a) != 0:\n",
        "  a.rotate(-(b-1))\n",
        "  x.append(a.popleft())\n",
        "\n",
        "y = \"<\"+str(x.popleft())\n",
        "\n",
        "for _ in range(len(x)):\n",
        "  y += \", \"+str(x.popleft())\n",
        "\n",
        "y+=\">\"\n",
        "\n",
        "print(y)"
      ]
    },
    {
      "cell_type": "code",
      "source": [
        "from collections import deque\n",
        "import sys\n",
        "\n",
        "a,b = map(int,sys.stdin.readline().rstrip().split())\n",
        "\n",
        "a = deque(range(1,a+1))\n",
        "\n",
        "x = deque([])\n",
        "while len(a) != 0:\n",
        "  a.rotate(-(b-1))\n",
        "  x.append(a.popleft())\n",
        "\n",
        "y = \"<\"+str(x.popleft())\n",
        "\n",
        "for _ in range(len(x)):\n",
        "  y += \", \"+str(x.popleft())\n",
        "\n",
        "y+=\">\"\n",
        "\n",
        "print(y)"
      ],
      "metadata": {
        "id": "xGOyRyO-Gf7q"
      },
      "execution_count": null,
      "outputs": []
    }
  ]
}