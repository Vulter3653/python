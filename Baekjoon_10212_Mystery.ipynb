{
  "nbformat": 4,
  "nbformat_minor": 0,
  "metadata": {
    "colab": {
      "name": "Baekjoon_10212_Mystery.ipynb",
      "provenance": [],
      "authorship_tag": "ABX9TyOlzqzwoui7qaYbm1jaCVhs",
      "include_colab_link": true
    },
    "kernelspec": {
      "name": "python3",
      "display_name": "Python 3"
    },
    "language_info": {
      "name": "python"
    }
  },
  "cells": [
    {
      "cell_type": "markdown",
      "metadata": {
        "id": "view-in-github",
        "colab_type": "text"
      },
      "source": [
        "<a href=\"https://colab.research.google.com/github/Vulter3653/python/blob/main/Baekjoon_10212_Mystery.ipynb\" target=\"_parent\"><img src=\"https://colab.research.google.com/assets/colab-badge.svg\" alt=\"Open In Colab\"/></a>"
      ]
    },
    {
      "cell_type": "code",
      "execution_count": 18,
      "metadata": {
        "colab": {
          "base_uri": "https://localhost:8080/"
        },
        "id": "1RiXX2IoPZs7",
        "outputId": "2a7b47a0-535a-4424-dff1-06c43a27b81a"
      },
      "outputs": [
        {
          "output_type": "stream",
          "name": "stdout",
          "text": [
            "Korea\n"
          ]
        }
      ],
      "source": [
        "# 하루의 운세를 점칠 수 있다...\n",
        "\n",
        "import random\n",
        "\n",
        "a = ['Yonsei','Korea']\n",
        "\n",
        "print(random.choice(a))"
      ]
    }
  ]
}