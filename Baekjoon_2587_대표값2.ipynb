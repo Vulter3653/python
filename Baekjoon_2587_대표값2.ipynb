{
  "nbformat": 4,
  "nbformat_minor": 0,
  "metadata": {
    "colab": {
      "name": "Baekjoon_2587_대표값2.ipynb",
      "provenance": [],
      "collapsed_sections": [],
      "authorship_tag": "ABX9TyOBvEXo/+oDdNrPyx6aaeXr",
      "include_colab_link": true
    },
    "kernelspec": {
      "name": "python3",
      "display_name": "Python 3"
    },
    "language_info": {
      "name": "python"
    }
  },
  "cells": [
    {
      "cell_type": "markdown",
      "metadata": {
        "id": "view-in-github",
        "colab_type": "text"
      },
      "source": [
        "<a href=\"https://colab.research.google.com/github/Vulter3653/python/blob/main/Baekjoon_2587_%EB%8C%80%ED%91%9C%EA%B0%922.ipynb\" target=\"_parent\"><img src=\"https://colab.research.google.com/assets/colab-badge.svg\" alt=\"Open In Colab\"/></a>"
      ]
    },
    {
      "cell_type": "code",
      "execution_count": 3,
      "metadata": {
        "colab": {
          "base_uri": "https://localhost:8080/"
        },
        "id": "2sBmNAeN8SV7",
        "outputId": "fc24840b-ef62-4862-f628-93ad1b546012"
      },
      "outputs": [
        {
          "output_type": "stream",
          "name": "stdout",
          "text": [
            "10\n",
            "40\n",
            "30\n",
            "60\n",
            "30\n",
            "34\n",
            "30\n"
          ]
        }
      ],
      "source": [
        "a = []\n",
        "for _ in range(5):\n",
        "  a.append(int(input()))\n",
        "a.sort()\n",
        "print(sum(a)//5)\n",
        "print(a[2])"
      ]
    },
    {
      "cell_type": "code",
      "source": [
        "import sys\n",
        "a = []\n",
        "for _ in range(5):\n",
        "  a.append(int(sys.stdin.readline().rstrip()))\n",
        "a.sort()\n",
        "print(sum(a)//5)\n",
        "print(a[2])"
      ],
      "metadata": {
        "id": "kHsuBQQ79ovp"
      },
      "execution_count": null,
      "outputs": []
    }
  ]
}