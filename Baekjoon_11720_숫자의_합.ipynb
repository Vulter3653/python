{
  "nbformat": 4,
  "nbformat_minor": 0,
  "metadata": {
    "colab": {
      "name": "Baekjoon_11720_숫자의 합.ipynb",
      "provenance": [],
      "collapsed_sections": [],
      "authorship_tag": "ABX9TyMaT0//catKkOoRFFI/z3BS",
      "include_colab_link": true
    },
    "kernelspec": {
      "name": "python3",
      "display_name": "Python 3"
    },
    "language_info": {
      "name": "python"
    }
  },
  "cells": [
    {
      "cell_type": "markdown",
      "metadata": {
        "id": "view-in-github",
        "colab_type": "text"
      },
      "source": [
        "<a href=\"https://colab.research.google.com/github/Vulter3653/python/blob/main/Baekjoon_11720_%EC%88%AB%EC%9E%90%EC%9D%98_%ED%95%A9.ipynb\" target=\"_parent\"><img src=\"https://colab.research.google.com/assets/colab-badge.svg\" alt=\"Open In Colab\"/></a>"
      ]
    },
    {
      "cell_type": "code",
      "execution_count": 1,
      "metadata": {
        "colab": {
          "base_uri": "https://localhost:8080/"
        },
        "id": "BTAsV0NytInw",
        "outputId": "3953927d-2d68-44bd-ed88-e6f0c5eeb73f"
      },
      "outputs": [
        {
          "output_type": "stream",
          "name": "stdout",
          "text": [
            "11\n",
            "10987654321\n",
            "46\n"
          ]
        }
      ],
      "source": [
        "input()\n",
        "a = list(input().rstrip())\n",
        "a = map(int,a)\n",
        "print(sum(a))"
      ]
    },
    {
      "cell_type": "code",
      "source": [
        "import sys\n",
        "\n",
        "sys.stdin.readline()\n",
        "a = list(sys.stdin.readline().rstrip())\n",
        "a = map(int,a)\n",
        "print(sum(a))"
      ],
      "metadata": {
        "id": "7elPmmxDtvqs"
      },
      "execution_count": null,
      "outputs": []
    }
  ]
}