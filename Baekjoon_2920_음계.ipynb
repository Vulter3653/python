{
  "nbformat": 4,
  "nbformat_minor": 0,
  "metadata": {
    "colab": {
      "name": "Baekjoon_2920_음계.ipynb",
      "provenance": [],
      "collapsed_sections": [],
      "authorship_tag": "ABX9TyMRpgSM2kUnQJlhU0Fui4l1",
      "include_colab_link": true
    },
    "kernelspec": {
      "name": "python3",
      "display_name": "Python 3"
    },
    "language_info": {
      "name": "python"
    }
  },
  "cells": [
    {
      "cell_type": "markdown",
      "metadata": {
        "id": "view-in-github",
        "colab_type": "text"
      },
      "source": [
        "<a href=\"https://colab.research.google.com/github/Vulter3653/python/blob/main/Baekjoon_2920_%EC%9D%8C%EA%B3%84.ipynb\" target=\"_parent\"><img src=\"https://colab.research.google.com/assets/colab-badge.svg\" alt=\"Open In Colab\"/></a>"
      ]
    },
    {
      "cell_type": "code",
      "execution_count": 11,
      "metadata": {
        "colab": {
          "base_uri": "https://localhost:8080/"
        },
        "id": "S52hbRgLYgAg",
        "outputId": "6063c18b-da09-4521-f5bb-bb9f53ab1dfa"
      },
      "outputs": [
        {
          "output_type": "stream",
          "name": "stdout",
          "text": [
            "1 2 3 4 5 6 7 8\n",
            "[1, 2, 3, 4, 5, 6, 7, 8]\n",
            "[1, 2, 3, 4, 5, 6, 7, 8]\n",
            "[8, 7, 6, 5, 4, 3, 2, 1]\n",
            "ascending\n"
          ]
        }
      ],
      "source": [
        "a = list(map(int,input().rstrip().split()))\n",
        "b = list(range(1,9))\n",
        "c = list(reversed(b))\n",
        "\n",
        "if a == b:\n",
        "  print('ascending')\n",
        "elif a == c:\n",
        "  print('descending')\n",
        "else:\n",
        "  print('mixed')"
      ]
    },
    {
      "cell_type": "code",
      "source": [
        "import sys\n",
        "\n",
        "a = list(map(int,sys.stdin.readline().rstrip().split()))\n",
        "b = list(range(1,9))\n",
        "c = list(reversed(b))\n",
        "\n",
        "if a == b:\n",
        "  print('ascending')\n",
        "elif a == c:\n",
        "  print('descending')\n",
        "else:\n",
        "  print('mixed')"
      ],
      "metadata": {
        "id": "75iA32qta2kU"
      },
      "execution_count": null,
      "outputs": []
    }
  ]
}