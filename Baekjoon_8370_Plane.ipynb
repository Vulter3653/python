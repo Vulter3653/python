{
  "nbformat": 4,
  "nbformat_minor": 0,
  "metadata": {
    "colab": {
      "provenance": [],
      "authorship_tag": "ABX9TyM/zlvsK/f0dKurnoof6FXr",
      "include_colab_link": true
    },
    "kernelspec": {
      "name": "python3",
      "display_name": "Python 3"
    },
    "language_info": {
      "name": "python"
    }
  },
  "cells": [
    {
      "cell_type": "markdown",
      "metadata": {
        "id": "view-in-github",
        "colab_type": "text"
      },
      "source": [
        "<a href=\"https://colab.research.google.com/github/Vulter3653/python/blob/main/Baekjoon_8370_Plane.ipynb\" target=\"_parent\"><img src=\"https://colab.research.google.com/assets/colab-badge.svg\" alt=\"Open In Colab\"/></a>"
      ]
    },
    {
      "cell_type": "code",
      "execution_count": 10,
      "metadata": {
        "colab": {
          "base_uri": "https://localhost:8080/"
        },
        "id": "u1ooICq6GMP_",
        "outputId": "d6a54877-45e3-4e1f-b2e3-8d1d1d74db7e"
      },
      "outputs": [
        {
          "output_type": "stream",
          "name": "stdout",
          "text": [
            "2 5 3 20\n",
            "70\n"
          ]
        }
      ],
      "source": [
        "a,b,c,d = map(int,input().split())\n",
        "print(a*b+c*d)"
      ]
    },
    {
      "cell_type": "code",
      "source": [
        "import sys\n",
        "a,b,c,d = map(int,sys.stdin.readline().split())\n",
        "print(a*b+c*d)"
      ],
      "metadata": {
        "id": "RLn22KNLHody"
      },
      "execution_count": null,
      "outputs": []
    }
  ]
}