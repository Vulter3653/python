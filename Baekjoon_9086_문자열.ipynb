{
  "nbformat": 4,
  "nbformat_minor": 0,
  "metadata": {
    "colab": {
      "name": "Baekjoon_9086_문자열.ipynb",
      "provenance": [],
      "collapsed_sections": [],
      "authorship_tag": "ABX9TyNKpqu5oIxmlMl6lWtM3ZNp",
      "include_colab_link": true
    },
    "kernelspec": {
      "name": "python3",
      "display_name": "Python 3"
    },
    "language_info": {
      "name": "python"
    }
  },
  "cells": [
    {
      "cell_type": "markdown",
      "metadata": {
        "id": "view-in-github",
        "colab_type": "text"
      },
      "source": [
        "<a href=\"https://colab.research.google.com/github/Vulter3653/python/blob/main/Baekjoon_9086_%EB%AC%B8%EC%9E%90%EC%97%B4.ipynb\" target=\"_parent\"><img src=\"https://colab.research.google.com/assets/colab-badge.svg\" alt=\"Open In Colab\"/></a>"
      ]
    },
    {
      "cell_type": "code",
      "execution_count": 5,
      "metadata": {
        "colab": {
          "base_uri": "https://localhost:8080/"
        },
        "id": "YlNHhMRfjyW3",
        "outputId": "f2e0e540-d3bd-4900-c9a5-e207b1328dd5"
      },
      "outputs": [
        {
          "output_type": "stream",
          "name": "stdout",
          "text": [
            "3\n",
            "ACDKJFOWIEGHE\n",
            "AE\n",
            "O\n",
            "OO\n",
            "AB\n",
            "AB\n"
          ]
        }
      ],
      "source": [
        "for _ in range(int(input())):\n",
        "  a = input().rstrip()\n",
        "  print(a[0]+a[-1])"
      ]
    },
    {
      "cell_type": "code",
      "source": [
        "import sys\n",
        "\n",
        "for _ in range(int(sys.stdin.readline().rstrip())):\n",
        "  a = sys.stdin.readline().rstrip()\n",
        "  print(a[0]+a[-1])"
      ],
      "metadata": {
        "id": "1XjZYab_m20k"
      },
      "execution_count": null,
      "outputs": []
    }
  ]
}