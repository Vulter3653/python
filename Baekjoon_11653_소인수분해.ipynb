{
  "nbformat": 4,
  "nbformat_minor": 0,
  "metadata": {
    "colab": {
      "name": "Baekjoon_11653_소인수분해.ipynb",
      "provenance": [],
      "authorship_tag": "ABX9TyN5tEwBaNu7A9Uhjt6IENU9",
      "include_colab_link": true
    },
    "kernelspec": {
      "name": "python3",
      "display_name": "Python 3"
    },
    "language_info": {
      "name": "python"
    }
  },
  "cells": [
    {
      "cell_type": "markdown",
      "metadata": {
        "id": "view-in-github",
        "colab_type": "text"
      },
      "source": [
        "<a href=\"https://colab.research.google.com/github/Vulter3653/python/blob/main/Baekjoon_11653_%EC%86%8C%EC%9D%B8%EC%88%98%EB%B6%84%ED%95%B4.ipynb\" target=\"_parent\"><img src=\"https://colab.research.google.com/assets/colab-badge.svg\" alt=\"Open In Colab\"/></a>"
      ]
    },
    {
      "cell_type": "code",
      "execution_count": 26,
      "metadata": {
        "colab": {
          "base_uri": "https://localhost:8080/"
        },
        "id": "z8Ck3u-yYq46",
        "outputId": "aef13573-25b4-40de-d1ba-629abc9dcd9c"
      },
      "outputs": [
        {
          "output_type": "stream",
          "name": "stdout",
          "text": [
            "9991\n",
            "97\n",
            "103\n"
          ]
        }
      ],
      "source": [
        "N = int(input())\n",
        "\n",
        "if N !=1:\n",
        "  i = 2\n",
        "  while True:\n",
        "    if N%i == 0:\n",
        "      print(i)\n",
        "      N = N/i\n",
        "    elif N ==1 :\n",
        "      break\n",
        "    else:\n",
        "      i += 1"
      ]
    },
    {
      "cell_type": "code",
      "source": [
        "import sys\n",
        "\n",
        "N = int(sys.stdin.readline())\n",
        "\n",
        "if N !=1:\n",
        "  i = 2\n",
        "  while True:\n",
        "    if N%i == 0:\n",
        "      print(i)\n",
        "      N = N/i\n",
        "    elif N ==1 :\n",
        "      break\n",
        "    else:\n",
        "      i += 1"
      ],
      "metadata": {
        "id": "InMaTvUOmjl6"
      },
      "execution_count": null,
      "outputs": []
    }
  ]
}