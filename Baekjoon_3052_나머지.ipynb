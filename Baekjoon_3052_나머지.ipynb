{
  "nbformat": 4,
  "nbformat_minor": 0,
  "metadata": {
    "colab": {
      "name": "Baekjoon_3052_나머지.ipynb",
      "provenance": [],
      "collapsed_sections": [],
      "authorship_tag": "ABX9TyOjf6Bvqds0/P1k6SswboJS",
      "include_colab_link": true
    },
    "kernelspec": {
      "name": "python3",
      "display_name": "Python 3"
    },
    "language_info": {
      "name": "python"
    }
  },
  "cells": [
    {
      "cell_type": "markdown",
      "metadata": {
        "id": "view-in-github",
        "colab_type": "text"
      },
      "source": [
        "<a href=\"https://colab.research.google.com/github/Vulter3653/python/blob/main/Baekjoon_3052_%EB%82%98%EB%A8%B8%EC%A7%80.ipynb\" target=\"_parent\"><img src=\"https://colab.research.google.com/assets/colab-badge.svg\" alt=\"Open In Colab\"/></a>"
      ]
    },
    {
      "cell_type": "code",
      "execution_count": 3,
      "metadata": {
        "colab": {
          "base_uri": "https://localhost:8080/"
        },
        "id": "LXjQ8Ty1u4xX",
        "outputId": "f61f71d3-857c-420e-81e3-8470a3698d51"
      },
      "outputs": [
        {
          "output_type": "stream",
          "name": "stdout",
          "text": [
            "39\n",
            "40\n",
            "41\n",
            "42\n",
            "43\n",
            "44\n",
            "82\n",
            "83\n",
            "84\n",
            "85\n",
            "6\n"
          ]
        }
      ],
      "source": [
        "b = set([])\n",
        "for _ in range(10):\n",
        "  a = int(input().rstrip())\n",
        "  b.add(a%42)\n",
        "\n",
        "print(len(b))"
      ]
    },
    {
      "cell_type": "code",
      "source": [
        "import sys\n",
        "\n",
        "b = set([])\n",
        "for _ in range(10):\n",
        "  a = int(sys.stdin.readline().rstrip())\n",
        "  b.add(a%42)\n",
        "\n",
        "print(len(b))"
      ],
      "metadata": {
        "id": "IlMDZ0umvUqY"
      },
      "execution_count": null,
      "outputs": []
    }
  ]
}