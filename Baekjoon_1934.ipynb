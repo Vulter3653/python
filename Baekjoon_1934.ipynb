{
  "nbformat": 4,
  "nbformat_minor": 0,
  "metadata": {
    "colab": {
      "name": "Baekjoon_1934.ipynb",
      "provenance": [],
      "authorship_tag": "ABX9TyMWnAyGtvihaY3JWf0hNLcJ",
      "include_colab_link": true
    },
    "kernelspec": {
      "name": "python3",
      "display_name": "Python 3"
    },
    "language_info": {
      "name": "python"
    }
  },
  "cells": [
    {
      "cell_type": "markdown",
      "metadata": {
        "id": "view-in-github",
        "colab_type": "text"
      },
      "source": [
        "<a href=\"https://colab.research.google.com/github/Vulter3653/python/blob/main/Baekjoon_1934.ipynb\" target=\"_parent\"><img src=\"https://colab.research.google.com/assets/colab-badge.svg\" alt=\"Open In Colab\"/></a>"
      ]
    },
    {
      "cell_type": "code",
      "source": [
        "#시간초과\n",
        "def min_bc(num1,num2):\n",
        "  y = []\n",
        "  for i in range(1,num1*num2+1):\n",
        "    if num1 == 1 or num2 == 1:\n",
        "      if num1 == 1:\n",
        "        y.append(num2)\n",
        "      else:\n",
        "        y.append(num1)\n",
        "    elif (i % num1 == 0) & (i % num2 == 0):\n",
        "      y.append(i)\n",
        "  return print(min(y))\n",
        "  \n",
        "\n",
        "a = int(input())\n",
        "for a in range(a):\n",
        "  b,c=map(int,input().split())\n",
        "  min_bc(b,c)"
      ],
      "metadata": {
        "colab": {
          "base_uri": "https://localhost:8080/"
        },
        "id": "g-ZL2iJNvOdZ",
        "outputId": "9d864c9d-7788-47d0-85d2-65b3151a0ad7"
      },
      "execution_count": 37,
      "outputs": [
        {
          "output_type": "stream",
          "name": "stdout",
          "text": [
            "1\n",
            "13 17\n",
            "221\n"
          ]
        }
      ]
    },
    {
      "cell_type": "code",
      "source": [
        "#시간초과\n",
        "import sys\n",
        "\n",
        "def min_bc(num1,num2):\n",
        "  y = []\n",
        "  for i in range(1,num1*num2+1):\n",
        "    if num1 == 1 or num2 == 1:\n",
        "      if num1 == 1:\n",
        "        y.append(num2)\n",
        "      else:\n",
        "        y.append(num1)\n",
        "    elif (i % num1 == 0) & (i % num2 == 0):\n",
        "      y.append(i)\n",
        "  return print(min(y))\n",
        "  \n",
        "\n",
        "a = int(sys.stdin.readline())\n",
        "for a in range(a):\n",
        "  b,c=map(int,sys.stdin.readline().strip().split())\n",
        "  min_bc(b,c)"
      ],
      "metadata": {
        "id": "4aavO1Syye6y"
      },
      "execution_count": null,
      "outputs": []
    },
    {
      "cell_type": "code",
      "source": [
        "#시간초과\n",
        "a = int(input())\n",
        "for a in range(a):\n",
        "  b,c=map(int,input().split())\n",
        "  b_multi = set([])\n",
        "  for i in range(1, c+1):\n",
        "    b_multi.add(b * i)\n",
        "    \n",
        "  c_multi = set([])\n",
        "  for i in range(1, b+1):\n",
        "    c_multi.add(c * i)\n",
        "\n",
        "  common = set(b_multi) & set(c_multi)\n",
        "  print(min(list(common)))"
      ],
      "metadata": {
        "colab": {
          "base_uri": "https://localhost:8080/"
        },
        "id": "_DF-DnbMy-Kv",
        "outputId": "e2b8f787-2249-46af-9cb6-2217888785ef"
      },
      "execution_count": 54,
      "outputs": [
        {
          "output_type": "stream",
          "name": "stdout",
          "text": [
            "1\n",
            "1 5\n",
            "5\n"
          ]
        }
      ]
    },
    {
      "cell_type": "code",
      "source": [
        "#시간초과\n",
        "import sys\n",
        "\n",
        "a = int(sys.stdin.readline())\n",
        "for a in range(a):\n",
        "  b,c=map(int,sys.stdin.readline().split())\n",
        "  b_multi = set([])\n",
        "  for i in range(1, c+1):\n",
        "    b_multi.add(b * i)\n",
        "    \n",
        "  c_multi = set([])\n",
        "  for i in range(1, b+1):\n",
        "    c_multi.append(c * i)\n",
        "\n",
        "  common = set(b_multi) & set(c_multi)\n",
        "  print(min(list(common)))"
      ],
      "metadata": {
        "id": "mkvQWWuH1Ci_"
      },
      "execution_count": null,
      "outputs": []
    },
    {
      "cell_type": "code",
      "source": [
        "#시간초과\n",
        "def GCD(num1,num2):\n",
        "  b_multi = set([])\n",
        "  for i in range(1, c+1):\n",
        "    b_multi.add(b * i)\n",
        "    \n",
        "  c_multi = set([])\n",
        "  for i in range(1, b+1):\n",
        "    c_multi.add(c * i)\n",
        "\n",
        "  common = set(b_multi) & set(c_multi)\n",
        "  print(min(list(common)))  \n",
        "\n",
        "a = int(input())\n",
        "for a in range(a):\n",
        "  b,c=map(int,input().split())\n",
        "  GCD(b,c)"
      ],
      "metadata": {
        "id": "P45hxvVO2Pky"
      },
      "execution_count": null,
      "outputs": []
    },
    {
      "cell_type": "code",
      "source": [
        "#시간초과\n",
        "import sys\n",
        "\n",
        "def GCD(num1,num2):\n",
        "  b_multi = set([])\n",
        "  for i in range(1, c+1):\n",
        "    b_multi.add(b * i)\n",
        "    \n",
        "  c_multi = set([])\n",
        "  for i in range(1, b+1):\n",
        "    c_multi.add(c * i)\n",
        "\n",
        "  common = set(b_multi) & set(c_multi)\n",
        "  print(min(list(common)))  \n",
        "\n",
        "a = int(sys.stdin.readline())\n",
        "for a in range(a):\n",
        "  b,c=map(int,sys.stdin.readline().strip().split())\n",
        "  GCD(b,c)"
      ],
      "metadata": {
        "id": "xiBiTqj43ev1"
      },
      "execution_count": null,
      "outputs": []
    },
    {
      "cell_type": "code",
      "source": [
        "a,b= map(int,input().split())\n",
        "\n",
        "c = []\n",
        "\n",
        "for i in range(1,a+1):\n",
        "  if (a % i == 0) & (b % i == 0):\n",
        "    c.append(i)\n",
        "\n",
        "x = c.pop()\n",
        "\n",
        "print(x)\n",
        "print(a*b//x)"
      ],
      "metadata": {
        "colab": {
          "base_uri": "https://localhost:8080/"
        },
        "id": "umM0Mnom8BPF",
        "outputId": "1e257be7-2ca7-4ab6-b9f3-440ccbae278d"
      },
      "execution_count": 72,
      "outputs": [
        {
          "output_type": "stream",
          "name": "stdout",
          "text": [
            "1 3\n",
            "1\n",
            "3\n"
          ]
        }
      ]
    },
    {
      "cell_type": "code",
      "source": [
        "#python3_시간초과, pypy3_맞았습니다!\n",
        "def GCD(num1,num2):\n",
        "  c = []\n",
        "  for i in range(1,num1+1):\n",
        "    if (num1 % i == 0) & (num2 % i == 0):\n",
        "      c.append(i)\n",
        "  x = c.pop()\n",
        "  print(num1*num2//x)\n",
        "\n",
        "d = int(input())\n",
        "for d in range(d):\n",
        "  e,f=map(int,input().split())\n",
        "  GCD(e,f)"
      ],
      "metadata": {
        "colab": {
          "base_uri": "https://localhost:8080/"
        },
        "id": "FWJHaQe19yLC",
        "outputId": "e9cdd112-a474-439d-a7bb-4f9dbc16010b"
      },
      "execution_count": 75,
      "outputs": [
        {
          "output_type": "stream",
          "name": "stdout",
          "text": [
            "1\n",
            " 1 3\n",
            "3\n"
          ]
        }
      ]
    },
    {
      "cell_type": "code",
      "source": [
        "#python3_시간초과, pypy3_맞았습니다!\n",
        "import sys\n",
        "\n",
        "def GCD(num1,num2):\n",
        "  c = []\n",
        "  for i in range(1,num1+1):\n",
        "    if (num1 % i == 0) & (num2 % i == 0):\n",
        "      c.append(i)\n",
        "  x = c.pop()\n",
        "  print(num1*num2//x)\n",
        "\n",
        "d = int(sys.stdin.readline())\n",
        "for d in range(d):\n",
        "  e,f=map(int,sys.stdin.readline().split())\n",
        "  GCD(e,f)"
      ],
      "metadata": {
        "id": "a_mcz1VX_KIv"
      },
      "execution_count": null,
      "outputs": []
    }
  ]
}