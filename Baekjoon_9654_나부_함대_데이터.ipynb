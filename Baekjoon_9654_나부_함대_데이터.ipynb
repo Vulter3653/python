{
  "nbformat": 4,
  "nbformat_minor": 0,
  "metadata": {
    "colab": {
      "name": "Baekjoon_9654_나부 함대 데이터.ipynb",
      "provenance": [],
      "authorship_tag": "ABX9TyM+nd94hhFOd+VP1kBRm9vz",
      "include_colab_link": true
    },
    "kernelspec": {
      "name": "python3",
      "display_name": "Python 3"
    },
    "language_info": {
      "name": "python"
    }
  },
  "cells": [
    {
      "cell_type": "markdown",
      "metadata": {
        "id": "view-in-github",
        "colab_type": "text"
      },
      "source": [
        "<a href=\"https://colab.research.google.com/github/Vulter3653/python/blob/main/Baekjoon_9654_%EB%82%98%EB%B6%80_%ED%95%A8%EB%8C%80_%EB%8D%B0%EC%9D%B4%ED%84%B0.ipynb\" target=\"_parent\"><img src=\"https://colab.research.google.com/assets/colab-badge.svg\" alt=\"Open In Colab\"/></a>"
      ]
    },
    {
      "cell_type": "code",
      "execution_count": 1,
      "metadata": {
        "colab": {
          "base_uri": "https://localhost:8080/"
        },
        "id": "k80MnlDAwHdC",
        "outputId": "527f7beb-30e7-45da-b61d-1a35d1cb6ca4"
      },
      "outputs": [
        {
          "output_type": "stream",
          "name": "stdout",
          "text": [
            "SHIP NAME      CLASS          DEPLOYMENT IN SERVICE\n",
            "N2 Bomber      Heavy Fighter  Limited    21\n",
            "J-Type 327     Light Combat   Unlimited  1\n",
            "NX Cruiser     Medium Fighter Limited    18\n",
            "N1 Starfighter Medium Fighter Unlimited  25\n",
            "Royal Cruiser  Light Combat   Limited    4\n"
          ]
        }
      ],
      "source": [
        "print('SHIP NAME      CLASS          DEPLOYMENT IN SERVICE')\n",
        "print('N2 Bomber      Heavy Fighter  Limited    21        ')\n",
        "print('J-Type 327     Light Combat   Unlimited  1         ')\n",
        "print('NX Cruiser     Medium Fighter Limited    18        ')\n",
        "print('N1 Starfighter Medium Fighter Unlimited  25        ')\n",
        "print('Royal Cruiser  Light Combat   Limited    4         ')"
      ]
    }
  ]
}