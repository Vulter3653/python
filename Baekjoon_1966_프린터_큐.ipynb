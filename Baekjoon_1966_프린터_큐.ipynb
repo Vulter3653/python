{
  "nbformat": 4,
  "nbformat_minor": 0,
  "metadata": {
    "colab": {
      "name": "Baekjoon_1966_프린터 큐.ipynb",
      "provenance": [],
      "authorship_tag": "ABX9TyNMd5c9+toCjuoN4zUw7TvF",
      "include_colab_link": true
    },
    "kernelspec": {
      "name": "python3",
      "display_name": "Python 3"
    },
    "language_info": {
      "name": "python"
    }
  },
  "cells": [
    {
      "cell_type": "markdown",
      "metadata": {
        "id": "view-in-github",
        "colab_type": "text"
      },
      "source": [
        "<a href=\"https://colab.research.google.com/github/Vulter3653/python/blob/main/Baekjoon_1966_%ED%94%84%EB%A6%B0%ED%84%B0_%ED%81%90.ipynb\" target=\"_parent\"><img src=\"https://colab.research.google.com/assets/colab-badge.svg\" alt=\"Open In Colab\"/></a>"
      ]
    },
    {
      "cell_type": "code",
      "execution_count": 60,
      "metadata": {
        "colab": {
          "base_uri": "https://localhost:8080/"
        },
        "id": "So-OxC47e_pZ",
        "outputId": "b1dd7117-38dc-493c-99c5-f012b2ecc946"
      },
      "outputs": [
        {
          "output_type": "stream",
          "name": "stdout",
          "text": [
            "1\n",
            "5 3\n",
            "1 2 3 1 2\n",
            "4\n"
          ]
        }
      ],
      "source": [
        "from collections import deque\n",
        "\n",
        "T = int(input().rstrip())\n",
        "for T in range(T):\n",
        "  a,b = map(int,input().rstrip().split())\n",
        "  c = deque(map(int,input().rstrip().split()))\n",
        "  cnt = 0\n",
        "\n",
        "  for i in range(len(c)):\n",
        "    c[i] = (c[i], i)\n",
        "\n",
        "  while len(c) != 0:\n",
        "    if c[0][0] == max(c)[0]:\n",
        "      cnt += 1\n",
        "      if c[0][1] == b:\n",
        "        print(cnt)\n",
        "        break\n",
        "      else:\n",
        "        c.popleft()\n",
        "    else:\n",
        "      c.append(c.popleft())"
      ]
    },
    {
      "cell_type": "code",
      "source": [
        "import sys\n",
        "from collections import deque\n",
        "\n",
        "T = int(sys.stdin.readline().rstrip())\n",
        "for T in range(T):\n",
        "  a,b = map(int,sys.stdin.readline().rstrip().split())\n",
        "  c = deque(map(int,sys.stdin.readline().rstrip().split()))\n",
        "  cnt = 0\n",
        "\n",
        "  for i in range(len(c)):\n",
        "    c[i] = (c[i], i)\n",
        "\n",
        "  while len(c) != 0:\n",
        "    if c[0][0] == max(c)[0]:\n",
        "      cnt += 1\n",
        "      if c[0][1] == b:\n",
        "        print(cnt)\n",
        "        break\n",
        "      else:\n",
        "        c.popleft()\n",
        "    else:\n",
        "      c.append(c.popleft())"
      ],
      "metadata": {
        "id": "l1UQyMsYgYH-"
      },
      "execution_count": null,
      "outputs": []
    }
  ]
}