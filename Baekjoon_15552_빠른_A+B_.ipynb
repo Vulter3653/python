{
  "nbformat": 4,
  "nbformat_minor": 0,
  "metadata": {
    "colab": {
      "name": "Baekjoon_15552_빠른 A+B .ipynb",
      "provenance": [],
      "collapsed_sections": [],
      "authorship_tag": "ABX9TyM/tfdamTIovmhdX8lCuaJV",
      "include_colab_link": true
    },
    "kernelspec": {
      "name": "python3",
      "display_name": "Python 3"
    },
    "language_info": {
      "name": "python"
    }
  },
  "cells": [
    {
      "cell_type": "markdown",
      "metadata": {
        "id": "view-in-github",
        "colab_type": "text"
      },
      "source": [
        "<a href=\"https://colab.research.google.com/github/Vulter3653/python/blob/main/Baekjoon_15552_%EB%B9%A0%EB%A5%B8_A%2BB_.ipynb\" target=\"_parent\"><img src=\"https://colab.research.google.com/assets/colab-badge.svg\" alt=\"Open In Colab\"/></a>"
      ]
    },
    {
      "cell_type": "code",
      "execution_count": null,
      "metadata": {
        "id": "SRWgsFdET9pD"
      },
      "outputs": [],
      "source": [
        "for _ in range(int(input().rstrip())):\n",
        "  a,b = map(int,input().rstrip().split())\n",
        "  print(a+b)"
      ]
    },
    {
      "cell_type": "code",
      "source": [
        "import sys\n",
        "\n",
        "for _ in range(int(sys.stdin.readline().rstrip())):\n",
        "  a,b = map(int,sys.stdin.readline().rstrip().split())\n",
        "  print(a+b)"
      ],
      "metadata": {
        "id": "QZvpcRAAUgOl"
      },
      "execution_count": null,
      "outputs": []
    }
  ]
}