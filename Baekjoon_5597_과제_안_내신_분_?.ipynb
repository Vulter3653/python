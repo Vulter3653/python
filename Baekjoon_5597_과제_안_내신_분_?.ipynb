{
  "nbformat": 4,
  "nbformat_minor": 0,
  "metadata": {
    "colab": {
      "name": "Baekjoon_5597_과제 안 내신 분..?.ipynb",
      "provenance": [],
      "collapsed_sections": [],
      "authorship_tag": "ABX9TyNQqJoXOtURpFl19VwQdcni",
      "include_colab_link": true
    },
    "kernelspec": {
      "name": "python3",
      "display_name": "Python 3"
    },
    "language_info": {
      "name": "python"
    }
  },
  "cells": [
    {
      "cell_type": "markdown",
      "metadata": {
        "id": "view-in-github",
        "colab_type": "text"
      },
      "source": [
        "<a href=\"https://colab.research.google.com/github/Vulter3653/python/blob/main/Baekjoon_5597_%EA%B3%BC%EC%A0%9C_%EC%95%88_%EB%82%B4%EC%8B%A0_%EB%B6%84_%3F.ipynb\" target=\"_parent\"><img src=\"https://colab.research.google.com/assets/colab-badge.svg\" alt=\"Open In Colab\"/></a>"
      ]
    },
    {
      "cell_type": "code",
      "execution_count": 5,
      "metadata": {
        "colab": {
          "base_uri": "https://localhost:8080/"
        },
        "id": "8pRD9o3Nchnr",
        "outputId": "830aad5f-3c86-4de6-ee9c-c1afc1fd9d04"
      },
      "outputs": [
        {
          "output_type": "stream",
          "name": "stdout",
          "text": [
            "9\n",
            "30\n",
            "6\n",
            "12\n",
            "10\n",
            "20\n",
            "21\n",
            "11\n",
            "7\n",
            "5\n",
            "28\n",
            "4\n",
            "18\n",
            "29\n",
            "17\n",
            "19\n",
            "27\n",
            "13\n",
            "16\n",
            "26\n",
            "14\n",
            "23\n",
            "22\n",
            "15\n",
            "3\n",
            "1\n",
            "24\n",
            "25\n",
            "2\n",
            "8\n"
          ]
        }
      ],
      "source": [
        "a = list(range(1,31))\n",
        "for _ in range(28):\n",
        "  a.remove(int(input()))\n",
        "print(a[0])\n",
        "print(a[1])"
      ]
    },
    {
      "cell_type": "code",
      "source": [
        "import sys\n",
        "a = list(range(1,31))\n",
        "for _ in range(28):\n",
        "  a.remove(int(sys.stdin.readline().rstrip()))\n",
        "print(a[0])\n",
        "print(a[1])"
      ],
      "metadata": {
        "id": "0LP6HSVZd5ks"
      },
      "execution_count": null,
      "outputs": []
    }
  ]
}