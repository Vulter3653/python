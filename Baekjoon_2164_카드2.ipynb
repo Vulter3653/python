{
  "nbformat": 4,
  "nbformat_minor": 0,
  "metadata": {
    "colab": {
      "name": "Baekjoon_2164_카드2.ipynb",
      "provenance": [],
      "authorship_tag": "ABX9TyMDjRgIhdK77dB88pnRQkBv",
      "include_colab_link": true
    },
    "kernelspec": {
      "name": "python3",
      "display_name": "Python 3"
    },
    "language_info": {
      "name": "python"
    }
  },
  "cells": [
    {
      "cell_type": "markdown",
      "metadata": {
        "id": "view-in-github",
        "colab_type": "text"
      },
      "source": [
        "<a href=\"https://colab.research.google.com/github/Vulter3653/python/blob/main/Baekjoon_2164_%EC%B9%B4%EB%93%9C2.ipynb\" target=\"_parent\"><img src=\"https://colab.research.google.com/assets/colab-badge.svg\" alt=\"Open In Colab\"/></a>"
      ]
    },
    {
      "cell_type": "code",
      "execution_count": 20,
      "metadata": {
        "colab": {
          "base_uri": "https://localhost:8080/"
        },
        "id": "Zvg6E6qVhdqZ",
        "outputId": "2f34f71a-d818-4493-b2be-1b8033c39ccc"
      },
      "outputs": [
        {
          "output_type": "stream",
          "name": "stdout",
          "text": [
            "6\n",
            "6\n",
            "4\n"
          ]
        }
      ],
      "source": [
        "from collections import deque\n",
        "\n",
        "N = int(input())\n",
        "\n",
        "card = deque(list(range(1,N+1)))\n",
        "\n",
        "while len(card) != 1:\n",
        "  card.popleft()\n",
        "  a = card.popleft()\n",
        "  card.append(a)\n",
        "\n",
        "print(card[0])"
      ]
    },
    {
      "cell_type": "code",
      "source": [
        "import sys\n",
        "from collections import deque\n",
        "\n",
        "N = int(sys.stdin.readline())\n",
        "\n",
        "card = deque(list(range(1,N+1)))\n",
        "\n",
        "while len(card) != 1:\n",
        "  card.popleft()\n",
        "  a = card.popleft()\n",
        "  card.append(a)\n",
        "\n",
        "print(card[0])"
      ],
      "metadata": {
        "id": "KtV_j4aiiwPm"
      },
      "execution_count": null,
      "outputs": []
    }
  ]
}