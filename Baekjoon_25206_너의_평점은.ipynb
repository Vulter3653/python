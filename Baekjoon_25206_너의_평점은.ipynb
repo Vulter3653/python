{
  "nbformat": 4,
  "nbformat_minor": 0,
  "metadata": {
    "colab": {
      "provenance": [],
      "authorship_tag": "ABX9TyPrOMvxs+MHe0TAqDprPm0h",
      "include_colab_link": true
    },
    "kernelspec": {
      "name": "python3",
      "display_name": "Python 3"
    },
    "language_info": {
      "name": "python"
    }
  },
  "cells": [
    {
      "cell_type": "markdown",
      "metadata": {
        "id": "view-in-github",
        "colab_type": "text"
      },
      "source": [
        "<a href=\"https://colab.research.google.com/github/Vulter3653/python/blob/main/Baekjoon_25206_%EB%84%88%EC%9D%98_%ED%8F%89%EC%A0%90%EC%9D%80.ipynb\" target=\"_parent\"><img src=\"https://colab.research.google.com/assets/colab-badge.svg\" alt=\"Open In Colab\"/></a>"
      ]
    },
    {
      "cell_type": "code",
      "execution_count": 12,
      "metadata": {
        "colab": {
          "base_uri": "https://localhost:8080/"
        },
        "id": "aPkJmcwf9Ht_",
        "outputId": "22784f08-0333-469d-ddf1-2f302625191f"
      },
      "outputs": [
        {
          "output_type": "stream",
          "name": "stdout",
          "text": [
            "ObjectOrientedProgramming1 3.0 A+\n",
            "4.5\n",
            "IntroductiontoComputerEngineering 3.0 A+\n",
            "4.5\n",
            "ObjectOrientedProgramming2 3.0 A0\n",
            "4.333333333333333\n",
            "CreativeComputerEngineeringDesign 3.0 A+\n",
            "4.375\n",
            "AssemblyLanguage 3.0 A+\n",
            "4.4\n",
            "InternetProgramming 3.0 B0\n",
            "4.166666666666667\n",
            "ApplicationProgramminginJava 3.0 A0\n",
            "4.142857142857143\n",
            "SystemProgramming 3.0 B0\n",
            "4.0\n",
            "OperatingSystem 3.0 B0\n",
            "3.888888888888889\n",
            "WirelessCommunicationsandNetworking 3.0 C+\n",
            "3.75\n",
            "LogicCircuits 3.0 B0\n",
            "3.6818181818181817\n",
            "DataStructure 4.0 A+\n",
            "3.77027027027027\n",
            "MicroprocessorApplication 3.0 B+\n",
            "3.75\n",
            "EmbeddedSoftware 3.0 C0\n",
            "3.627906976744186\n",
            "ComputerSecurity 3.0 D+\n",
            "3.489130434782609\n",
            "Database 3.0 C+\n",
            "3.4285714285714284\n",
            "Algorithm 3.0 B0\n",
            "3.4038461538461537\n",
            "CapstoneDesigninCSE 3.0 B+\n",
            "3.409090909090909\n",
            "CompilerDesign 3.0 D0\n",
            "3.2844827586206895\n",
            "ProblemSolving 4.0 P\n",
            "3.2844827586206895\n"
          ]
        }
      ],
      "source": [
        "score = {'A+':4.5,'A0':4.0,'B+':3.5, 'B0':3.0, 'C+':2.5, 'C0':2.0, 'D+':1.5, 'D0':1.0, 'F':0.0, 'P':0.0}\n",
        "\n",
        "sum = 0\n",
        "hak = 0\n",
        "\n",
        "for _ in range(20):\n",
        "  a,b,c = input().rstrip().split()\n",
        "  if c != 'P':\n",
        "    hak += float(b)\n",
        "    sum += float(b)*score[c]\n",
        "print(sum/hak)"
      ]
    },
    {
      "cell_type": "code",
      "source": [
        "import sys\n",
        "score = {'A+':4.5,'A0':4.0,'B+':3.5, 'B0':3.0, 'C+':2.5, 'C0':2.0, 'D+':1.5, 'D0':1.0, 'F':0.0, 'P':0.0}\n",
        "\n",
        "sum = 0\n",
        "hak = 0\n",
        "\n",
        "for _ in range(20):\n",
        "  a,b,c = sys.stdin.readline().rstrip().split()\n",
        "  if c != 'P':\n",
        "    hak += float(b)\n",
        "    sum += float(b)*score[c]\n",
        "print(sum/hak)"
      ],
      "metadata": {
        "id": "8-vRPLznETUy"
      },
      "execution_count": null,
      "outputs": []
    }
  ]
}