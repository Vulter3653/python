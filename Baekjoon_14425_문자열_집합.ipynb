{
  "nbformat": 4,
  "nbformat_minor": 0,
  "metadata": {
    "colab": {
      "name": "Baekjoon_14425_문자열 집합.ipynb",
      "provenance": [],
      "collapsed_sections": [],
      "authorship_tag": "ABX9TyPmidVO9QWz+5VMXOgMqwJU",
      "include_colab_link": true
    },
    "kernelspec": {
      "name": "python3",
      "display_name": "Python 3"
    },
    "language_info": {
      "name": "python"
    }
  },
  "cells": [
    {
      "cell_type": "markdown",
      "metadata": {
        "id": "view-in-github",
        "colab_type": "text"
      },
      "source": [
        "<a href=\"https://colab.research.google.com/github/Vulter3653/python/blob/main/Baekjoon_14425_%EB%AC%B8%EC%9E%90%EC%97%B4_%EC%A7%91%ED%95%A9.ipynb\" target=\"_parent\"><img src=\"https://colab.research.google.com/assets/colab-badge.svg\" alt=\"Open In Colab\"/></a>"
      ]
    },
    {
      "cell_type": "code",
      "execution_count": null,
      "metadata": {
        "colab": {
          "base_uri": "https://localhost:8080/"
        },
        "id": "U2fXIedeu14K",
        "outputId": "ce62d045-76c3-401c-b8e2-39ed6aa06353"
      },
      "outputs": [
        {
          "output_type": "stream",
          "name": "stdout",
          "text": [
            "5\n",
            "11\n",
            "baekjoononlinejudge\n",
            "startlink\n",
            "codeplus\n",
            "sundaycoding\n",
            "codingsh\n",
            "{'startlink', 'codeplus', 'baekjoononlinejudge', 'codingsh', 'sundaycoding'}\n",
            "baekjoon\n",
            "codeplus\n",
            "1\n",
            "codeminus\n",
            "startlink\n",
            "2\n",
            "starlink\n",
            "sundaycoding\n",
            "3\n",
            "codingsh\n",
            "4\n",
            "codinghs\n",
            "sondaycoding\n",
            "startrink\n",
            "icerink\n",
            "{'startlink', 'codeplus', 'codeminus', 'sondaycoding', 'baekjoon', 'icerink', 'codingsh', 'starlink', 'codinghs', 'sundaycoding', 'startrink'}\n"
          ]
        }
      ],
      "source": [
        "import sys\n",
        "\n",
        "m,n = map(int, sys.stdin.readline().split())\n",
        "\n",
        "x = set([])\n",
        "cnt=0\n",
        "\n",
        "for m in range(m):\n",
        "  x1 = sys.stdin.readline().rstrip()\n",
        "  x.add(x1)\n",
        "\n",
        "for n in range(n):\n",
        "  y1 = sys.stdin.readline().rstrip()\n",
        "  if y1 in x:\n",
        "    cnt += 1\n",
        "\n",
        "print(cnt)"
      ]
    },
    {
      "cell_type": "code",
      "source": [
        "m,n = map(int, input().split())\n",
        "\n",
        "x = set([])\n",
        "cnt=0\n",
        "\n",
        "for m in range(m):\n",
        "  x1 = input().rstrip()\n",
        "  x.add(x1)\n",
        "\n",
        "for n in range(n):\n",
        "  y1 = input().rstrip()\n",
        "  if y1 in x:\n",
        "    cnt += 1\n",
        "\n",
        "print(cnt)"
      ],
      "metadata": {
        "colab": {
          "base_uri": "https://localhost:8080/"
        },
        "id": "dINRGeiT6dkU",
        "outputId": "33065400-9d8e-42e5-a405-d72377cbbb31"
      },
      "execution_count": null,
      "outputs": [
        {
          "output_type": "stream",
          "name": "stdout",
          "text": [
            "5 11\n",
            "baekjoononlinejudge\n",
            "startlink\n",
            "codeplus\n",
            "sundaycoding\n",
            "codingsh\n",
            "baekjoon\n",
            "codeplus\n",
            "codeminus\n",
            "startlink\n",
            "starlink\n",
            "sundaycoding\n",
            "codingsh\n",
            "codinghs\n",
            "sondaycoding\n",
            "startrink\n",
            "icerink\n",
            "4\n"
          ]
        }
      ]
    }
  ]
}