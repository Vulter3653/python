{
  "nbformat": 4,
  "nbformat_minor": 0,
  "metadata": {
    "colab": {
      "provenance": [],
      "authorship_tag": "ABX9TyMDpi5ki/l48915NO7Omvht",
      "include_colab_link": true
    },
    "kernelspec": {
      "name": "python3",
      "display_name": "Python 3"
    },
    "language_info": {
      "name": "python"
    }
  },
  "cells": [
    {
      "cell_type": "markdown",
      "metadata": {
        "id": "view-in-github",
        "colab_type": "text"
      },
      "source": [
        "<a href=\"https://colab.research.google.com/github/Vulter3653/python/blob/main/Baekjoon_25314_%EC%BD%94%EB%94%A9%EC%9D%80_%EC%B2%B4%EC%9C%A1%EA%B3%BC%EB%AA%A9_%EC%9E%85%EB%8B%88%EB%8B%A4.ipynb\" target=\"_parent\"><img src=\"https://colab.research.google.com/assets/colab-badge.svg\" alt=\"Open In Colab\"/></a>"
      ]
    },
    {
      "cell_type": "code",
      "execution_count": 13,
      "metadata": {
        "colab": {
          "base_uri": "https://localhost:8080/"
        },
        "id": "ZWpS29aPc2nn",
        "outputId": "a64d32c9-c519-44a8-c8eb-c59f6c8885a9"
      },
      "outputs": [
        {
          "output_type": "stream",
          "name": "stdout",
          "text": [
            "20\n",
            "long long long long long int\n"
          ]
        }
      ],
      "source": [
        "a = int(input())\n",
        "b = a//4\n",
        "if b < 1:\n",
        "  print(\"long int\")\n",
        "elif a%4 == 0:\n",
        "  print(\"long \"*(b)+\"int\")\n",
        "else:\n",
        "  print(\"long \"*(b+1)+\"int\")"
      ]
    }
  ]
}