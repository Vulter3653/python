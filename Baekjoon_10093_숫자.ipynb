{
  "nbformat": 4,
  "nbformat_minor": 0,
  "metadata": {
    "colab": {
      "name": "Baekjoon_10093_숫자.ipynb",
      "provenance": [],
      "collapsed_sections": [],
      "authorship_tag": "ABX9TyMRmVrKK2pUM1uEw61JtYYr",
      "include_colab_link": true
    },
    "kernelspec": {
      "name": "python3",
      "display_name": "Python 3"
    },
    "language_info": {
      "name": "python"
    }
  },
  "cells": [
    {
      "cell_type": "markdown",
      "metadata": {
        "id": "view-in-github",
        "colab_type": "text"
      },
      "source": [
        "<a href=\"https://colab.research.google.com/github/Vulter3653/python/blob/main/Baekjoon_10093_%EC%88%AB%EC%9E%90.ipynb\" target=\"_parent\"><img src=\"https://colab.research.google.com/assets/colab-badge.svg\" alt=\"Open In Colab\"/></a>"
      ]
    },
    {
      "cell_type": "code",
      "execution_count": 22,
      "metadata": {
        "colab": {
          "base_uri": "https://localhost:8080/"
        },
        "id": "oYjjk2JhAvBC",
        "outputId": "b087d000-09a5-4839-c965-5395d3eb9ada"
      },
      "outputs": [
        {
          "output_type": "stream",
          "name": "stdout",
          "text": [
            "3 1\n",
            "1\n",
            "2\n"
          ]
        }
      ],
      "source": [
        "A,B = map(int,input().split())\n",
        "\n",
        "if A == B or max(A,B)-min(A,B) == 1:\n",
        "  print(0)\n",
        "elif min(A,B) < max(A,B):\n",
        "  x = min(A,B) + 1\n",
        "  ans = str(x)\n",
        "  x += 1\n",
        "  while x != max(A,B):\n",
        "    ans +=\" {}\".format(x)\n",
        "    x += 1\n",
        "  print(max(A,B)-min(A,B)-1)\n",
        "  print(ans)"
      ]
    },
    {
      "cell_type": "code",
      "source": [
        "import sys\n",
        "\n",
        "A,B = map(int,sys.stdin.readline().rstrip().split())\n",
        "\n",
        "if A == B or max(A,B)-min(A,B) == 1:\n",
        "  print(0)\n",
        "elif min(A,B) < max(A,B):\n",
        "  x = min(A,B) + 1\n",
        "  ans = str(x)\n",
        "  x += 1\n",
        "  while x != max(A,B):\n",
        "    ans +=\" {}\".format(x)\n",
        "    x += 1\n",
        "  print(max(A,B)-min(A,B)-1)\n",
        "  print(ans)"
      ],
      "metadata": {
        "id": "8mJZdoN2IIni"
      },
      "execution_count": null,
      "outputs": []
    }
  ]
}