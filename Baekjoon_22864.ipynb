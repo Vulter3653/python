{
  "nbformat": 4,
  "nbformat_minor": 0,
  "metadata": {
    "colab": {
      "name": "Baekjoon_22864.ipynb",
      "provenance": [],
      "collapsed_sections": [],
      "authorship_tag": "ABX9TyMtBs4z+NSZ5Q+LuDmKTi3Q",
      "include_colab_link": true
    },
    "kernelspec": {
      "name": "python3",
      "display_name": "Python 3"
    },
    "language_info": {
      "name": "python"
    }
  },
  "cells": [
    {
      "cell_type": "markdown",
      "metadata": {
        "id": "view-in-github",
        "colab_type": "text"
      },
      "source": [
        "<a href=\"https://colab.research.google.com/github/Vulter3653/python/blob/main/Baekjoon_22864.ipynb\" target=\"_parent\"><img src=\"https://colab.research.google.com/assets/colab-badge.svg\" alt=\"Open In Colab\"/></a>"
      ]
    },
    {
      "cell_type": "code",
      "execution_count": 15,
      "metadata": {
        "colab": {
          "base_uri": "https://localhost:8080/"
        },
        "id": "MK3fapvwrCk9",
        "outputId": "4d266ba0-c8dc-44e1-c4c2-54071aa205a6"
      },
      "outputs": [
        {
          "output_type": "stream",
          "name": "stdout",
          "text": [
            "10\n",
            "5\n",
            "100\n",
            "10\n",
            "5\n"
          ]
        }
      ],
      "source": [
        "A = int(input())\n",
        "B = int(input())\n",
        "C = int(input())\n",
        "M = int(input())\n",
        "\n",
        "T = 0\n",
        "DW = 0\n",
        "\n",
        "for i in range(24):\n",
        "  if T > M:\n",
        "    print(0)\n",
        "  else:\n",
        "    if T + A <= M:\n",
        "      T += A\n",
        "      DW += B\n",
        "    else:\n",
        "      if T - C >=0:\n",
        "        T -= C\n",
        "      else:\n",
        "        T = 0\n",
        "print(DW)"
      ]
    },
    {
      "cell_type": "code",
      "source": [
        "import sys\n",
        "\n",
        "A,B,C,M = map(int, sys.stdin.readline().split())\n",
        "\n",
        "T = 0\n",
        "DW = 0\n",
        "\n",
        "for i in range(24):\n",
        "  if T > M:\n",
        "    print(0)\n",
        "  else:\n",
        "    if T + A <= M:\n",
        "      T += A\n",
        "      DW += B\n",
        "    else:\n",
        "      if T - C >=0:\n",
        "        T -= C\n",
        "      else:\n",
        "        T = 0\n",
        "print(DW)"
      ],
      "metadata": {
        "id": "CAdjH4FPweEz"
      },
      "execution_count": null,
      "outputs": []
    }
  ]
}