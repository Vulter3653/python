{
  "nbformat": 4,
  "nbformat_minor": 0,
  "metadata": {
    "colab": {
      "provenance": [],
      "authorship_tag": "ABX9TyPtNT7f6Q3gUre5W7xL0D0i",
      "include_colab_link": true
    },
    "kernelspec": {
      "name": "python3",
      "display_name": "Python 3"
    },
    "language_info": {
      "name": "python"
    }
  },
  "cells": [
    {
      "cell_type": "markdown",
      "metadata": {
        "id": "view-in-github",
        "colab_type": "text"
      },
      "source": [
        "<a href=\"https://colab.research.google.com/github/Vulter3653/python/blob/main/Baekjoon_10804_%EC%B9%B4%EB%93%9C_%EC%97%AD%EB%B0%B0%EC%B9%98.ipynb\" target=\"_parent\"><img src=\"https://colab.research.google.com/assets/colab-badge.svg\" alt=\"Open In Colab\"/></a>"
      ]
    },
    {
      "cell_type": "code",
      "execution_count": 21,
      "metadata": {
        "colab": {
          "base_uri": "https://localhost:8080/"
        },
        "id": "8jwb19cJbUQV",
        "outputId": "71c50c84-3f05-4e8a-9cec-543fbb91b07e"
      },
      "outputs": [
        {
          "output_type": "stream",
          "name": "stdout",
          "text": [
            "[1, 2, 3, 4, 5, 6, 7, 8, 9, 10, 11, 12, 13, 14, 15, 16, 17, 18, 19, 20]\n",
            "5 10\n",
            "[5, 6, 7, 8, 9, 10]\n",
            "[10, 9, 8, 7, 6, 5]\n",
            "[1, 2, 3, 4, 10, 9, 8, 7, 6, 5, 11, 12, 13, 14, 15, 16, 17, 18, 19, 20]\n",
            "9 13\n",
            "[6, 5, 11, 12, 13]\n",
            "[13, 12, 11, 5, 6]\n",
            "[1, 2, 3, 4, 10, 9, 8, 7, 13, 12, 11, 5, 6, 14, 15, 16, 17, 18, 19, 20]\n",
            "1 2\n",
            "[1, 2]\n",
            "[2, 1]\n",
            "[2, 1, 3, 4, 10, 9, 8, 7, 13, 12, 11, 5, 6, 14, 15, 16, 17, 18, 19, 20]\n",
            "3 4\n",
            "[3, 4]\n",
            "[4, 3]\n",
            "[2, 1, 4, 3, 10, 9, 8, 7, 13, 12, 11, 5, 6, 14, 15, 16, 17, 18, 19, 20]\n",
            "5 6\n",
            "[10, 9]\n",
            "[9, 10]\n",
            "[2, 1, 4, 3, 9, 10, 8, 7, 13, 12, 11, 5, 6, 14, 15, 16, 17, 18, 19, 20]\n",
            "1 2\n",
            "[2, 1]\n",
            "[1, 2]\n",
            "[1, 2, 4, 3, 9, 10, 8, 7, 13, 12, 11, 5, 6, 14, 15, 16, 17, 18, 19, 20]\n",
            "3 4\n",
            "[4, 3]\n",
            "[3, 4]\n",
            "[1, 2, 3, 4, 9, 10, 8, 7, 13, 12, 11, 5, 6, 14, 15, 16, 17, 18, 19, 20]\n",
            "5 6\n",
            "[9, 10]\n",
            "[10, 9]\n",
            "[1, 2, 3, 4, 10, 9, 8, 7, 13, 12, 11, 5, 6, 14, 15, 16, 17, 18, 19, 20]\n",
            "1 20\n",
            "[1, 2, 3, 4, 10, 9, 8, 7, 13, 12, 11, 5, 6, 14, 15, 16, 17, 18, 19, 20]\n",
            "[20, 19, 18, 17, 16, 15, 14, 6, 5, 11, 12, 13, 7, 8, 9, 10, 4, 3, 2, 1]\n",
            "[20, 19, 18, 17, 16, 15, 14, 6, 5, 11, 12, 13, 7, 8, 9, 10, 4, 3, 2, 1]\n",
            "1 20\n",
            "[20, 19, 18, 17, 16, 15, 14, 6, 5, 11, 12, 13, 7, 8, 9, 10, 4, 3, 2, 1]\n",
            "[1, 2, 3, 4, 10, 9, 8, 7, 13, 12, 11, 5, 6, 14, 15, 16, 17, 18, 19, 20]\n",
            "[1, 2, 3, 4, 10, 9, 8, 7, 13, 12, 11, 5, 6, 14, 15, 16, 17, 18, 19, 20]\n"
          ]
        }
      ],
      "source": [
        "a = list(range(1,21))\n",
        "print(a)\n",
        "for _ in range(10):\n",
        "  ran1,ran2 = map(int,input().split())\n",
        "  reverse_range = a[ran1-1:ran2]\n",
        "  print(reverse_range)\n",
        "  reverse_range.reverse()\n",
        "  print(reverse_range)\n",
        "  a[ran1-1:ran2] = reverse_range\n",
        "  print(a)"
      ]
    },
    {
      "cell_type": "code",
      "source": [
        "a = list(range(1,21))\n",
        "for _ in range(10):\n",
        "  ran1,ran2 = map(int,input().split())\n",
        "  reverse_range = a[ran1-1:ran2]\n",
        "  reverse_range.reverse()\n",
        "  a[ran1-1:ran2] = reverse_range\n",
        "a = map(str,a)\n",
        "print(' '.join(a))"
      ],
      "metadata": {
        "colab": {
          "base_uri": "https://localhost:8080/"
        },
        "id": "NjzWiEOLg8kN",
        "outputId": "c668dbc4-9e55-4183-b81f-6c78cee31961"
      },
      "execution_count": 24,
      "outputs": [
        {
          "output_type": "stream",
          "name": "stdout",
          "text": [
            "5 10\n",
            "9 13\n",
            "1 2\n",
            "3 4\n",
            "5 6\n",
            "1 2\n",
            "3 4\n",
            "5 6\n",
            "1 20\n",
            "1 20\n",
            "1234109871312115614151617181920\n"
          ]
        }
      ]
    },
    {
      "cell_type": "code",
      "source": [
        "import sys\n",
        "a = list(range(1,21))\n",
        "for _ in range(10):\n",
        "  ran1,ran2 = map(int,sys.stdin.readline().split())\n",
        "  reverse_range = a[ran1-1:ran2]\n",
        "  reverse_range.reverse()\n",
        "  a[ran1-1:ran2] = reverse_range\n",
        "a = map(str,a)\n",
        "print(' '.join(a))"
      ],
      "metadata": {
        "id": "1b85yDm9iy-p"
      },
      "execution_count": null,
      "outputs": []
    }
  ]
}