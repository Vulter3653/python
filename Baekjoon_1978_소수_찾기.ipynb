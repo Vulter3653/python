{
  "nbformat": 4,
  "nbformat_minor": 0,
  "metadata": {
    "colab": {
      "name": "Baekjoon_1978_소수 찾기.ipynb",
      "provenance": [],
      "authorship_tag": "ABX9TyMrOanMXGY94SpixL6lRTRe",
      "include_colab_link": true
    },
    "kernelspec": {
      "name": "python3",
      "display_name": "Python 3"
    },
    "language_info": {
      "name": "python"
    }
  },
  "cells": [
    {
      "cell_type": "markdown",
      "metadata": {
        "id": "view-in-github",
        "colab_type": "text"
      },
      "source": [
        "<a href=\"https://colab.research.google.com/github/Vulter3653/python/blob/main/Baekjoon_1978_%EC%86%8C%EC%88%98_%EC%B0%BE%EA%B8%B0.ipynb\" target=\"_parent\"><img src=\"https://colab.research.google.com/assets/colab-badge.svg\" alt=\"Open In Colab\"/></a>"
      ]
    },
    {
      "cell_type": "code",
      "execution_count": null,
      "metadata": {
        "colab": {
          "base_uri": "https://localhost:8080/"
        },
        "id": "Efu9FPVSk_gM",
        "outputId": "1f471b7b-0a04-4978-d658-0f70387a2c3b"
      },
      "outputs": [
        {
          "output_type": "stream",
          "name": "stdout",
          "text": [
            "1\n",
            "997\n",
            "1\n"
          ]
        }
      ],
      "source": [
        "N = int(input())\n",
        "K = list(map(int,input().split()))\n",
        "cnt = 0\n",
        "\n",
        "for N in range(N):\n",
        "  a = K.pop()\n",
        "  if a !=1:\n",
        "    i = 2\n",
        "    while True:\n",
        "      if a == i:\n",
        "        cnt +=1\n",
        "        break\n",
        "      elif a%i == 0:\n",
        "        break\n",
        "      else:\n",
        "        i +=1\n",
        "    \n",
        "print(cnt)"
      ]
    },
    {
      "cell_type": "code",
      "source": [
        "import sys\n",
        "N = int(sys.stdin.readline().rstrip())\n",
        "K = list(map(int,sys.stdin.readline().rstrip().split()))\n",
        "cnt = 0\n",
        "\n",
        "for N in range(N):\n",
        "  a = K.pop()\n",
        "  if a !=1:\n",
        "    i = 2\n",
        "    while True:\n",
        "      if a == i:\n",
        "        cnt +=1\n",
        "        break\n",
        "      elif a%i == 0:\n",
        "        break\n",
        "      else:\n",
        "        i +=1\n",
        "    \n",
        "print(cnt)"
      ],
      "metadata": {
        "id": "XbHFPictxZI9"
      },
      "execution_count": null,
      "outputs": []
    }
  ]
}