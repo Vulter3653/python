{
  "nbformat": 4,
  "nbformat_minor": 0,
  "metadata": {
    "colab": {
      "name": "Baekjoon_2075.ipynb",
      "provenance": [],
      "collapsed_sections": [],
      "authorship_tag": "ABX9TyNPiyRRCLaWDPBfFs2JZoUk",
      "include_colab_link": true
    },
    "kernelspec": {
      "name": "python3",
      "display_name": "Python 3"
    },
    "language_info": {
      "name": "python"
    }
  },
  "cells": [
    {
      "cell_type": "markdown",
      "metadata": {
        "id": "view-in-github",
        "colab_type": "text"
      },
      "source": [
        "<a href=\"https://colab.research.google.com/github/Vulter3653/python/blob/main/Baekjoon_2075.ipynb\" target=\"_parent\"><img src=\"https://colab.research.google.com/assets/colab-badge.svg\" alt=\"Open In Colab\"/></a>"
      ]
    },
    {
      "cell_type": "code",
      "source": [
        "import heapq\n",
        "\n",
        "N = int(input())\n",
        "q = []\n",
        "for _ in range(N):\n",
        "    for n in map(int, input().split()):\n",
        "        heapq.heappush(q, (-n, n))\n",
        "    q = heapq.nsmallest(N, q)\n",
        "heapq.heapify(q)\n",
        "print(q[N-1][1])"
      ],
      "metadata": {
        "id": "b86ULWOTwVUC"
      },
      "execution_count": null,
      "outputs": []
    },
    {
      "cell_type": "code",
      "source": [
        "import sys\n",
        "import heapq\n",
        "\n",
        "N = int(sys.stdin.readline())\n",
        "q = []\n",
        "for _ in range(N):\n",
        "    for n in map(int, sys.stdin.readline().split()):\n",
        "        heapq.heappush(q, (-n, n))\n",
        "    q = heapq.nsmallest(N, q)\n",
        "heapq.heapify(q)\n",
        "print(q[N-1][1])"
      ],
      "metadata": {
        "id": "AH_kXxmGvinR"
      },
      "execution_count": null,
      "outputs": []
    }
  ]
}