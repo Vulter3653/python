{
  "nbformat": 4,
  "nbformat_minor": 0,
  "metadata": {
    "colab": {
      "name": "Baekjoon_20053_최소, 최대 2.ipynb",
      "provenance": [],
      "collapsed_sections": [],
      "authorship_tag": "ABX9TyMoR/QESZrbcoRZmIsqz67q",
      "include_colab_link": true
    },
    "kernelspec": {
      "name": "python3",
      "display_name": "Python 3"
    },
    "language_info": {
      "name": "python"
    }
  },
  "cells": [
    {
      "cell_type": "markdown",
      "metadata": {
        "id": "view-in-github",
        "colab_type": "text"
      },
      "source": [
        "<a href=\"https://colab.research.google.com/github/Vulter3653/python/blob/main/Baekjoon_20053_%EC%B5%9C%EC%86%8C%2C_%EC%B5%9C%EB%8C%80_2.ipynb\" target=\"_parent\"><img src=\"https://colab.research.google.com/assets/colab-badge.svg\" alt=\"Open In Colab\"/></a>"
      ]
    },
    {
      "cell_type": "code",
      "execution_count": 1,
      "metadata": {
        "colab": {
          "base_uri": "https://localhost:8080/"
        },
        "id": "MUU9lX4ElhTY",
        "outputId": "0f6e80a3-d1a6-4353-9788-b6f160f86274"
      },
      "outputs": [
        {
          "output_type": "stream",
          "name": "stdout",
          "text": [
            "3\n",
            "5\n",
            "20 28 22 25 21\n",
            "20 28\n",
            "5\n",
            "30 21 17 25 29\n",
            "17 30\n",
            "5\n",
            "20 10 35 30 7\n",
            "7 35\n"
          ]
        }
      ],
      "source": [
        "for _ in range(int(input().rstrip())):\n",
        "  input()\n",
        "  a = list(map(int,input().rstrip().split()))\n",
        "  print('{} {}'.format(min(a),max(a)))"
      ]
    },
    {
      "cell_type": "code",
      "source": [
        "import sys\n",
        "\n",
        "for _ in range(int(sys.stdin.readline().rstrip())):\n",
        "  sys.stdin.readline()\n",
        "  a = list(map(int,sys.stdin.readline().rstrip().split()))\n",
        "  print('{} {}'.format(min(a),max(a)))"
      ],
      "metadata": {
        "id": "hPqTxMlrmkW1"
      },
      "execution_count": null,
      "outputs": []
    }
  ]
}