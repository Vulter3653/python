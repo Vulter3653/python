{
  "nbformat": 4,
  "nbformat_minor": 0,
  "metadata": {
    "colab": {
      "name": "Baekjoon_11721_열 개씩 끊어 출력하기.ipynb",
      "provenance": [],
      "collapsed_sections": [],
      "authorship_tag": "ABX9TyNqT//Eji+x70L25FfJDquF",
      "include_colab_link": true
    },
    "kernelspec": {
      "name": "python3",
      "display_name": "Python 3"
    },
    "language_info": {
      "name": "python"
    }
  },
  "cells": [
    {
      "cell_type": "markdown",
      "metadata": {
        "id": "view-in-github",
        "colab_type": "text"
      },
      "source": [
        "<a href=\"https://colab.research.google.com/github/Vulter3653/python/blob/main/Baekjoon_11721_%EC%97%B4_%EA%B0%9C%EC%94%A9_%EB%81%8A%EC%96%B4_%EC%B6%9C%EB%A0%A5%ED%95%98%EA%B8%B0.ipynb\" target=\"_parent\"><img src=\"https://colab.research.google.com/assets/colab-badge.svg\" alt=\"Open In Colab\"/></a>"
      ]
    },
    {
      "cell_type": "code",
      "execution_count": 4,
      "metadata": {
        "colab": {
          "base_uri": "https://localhost:8080/"
        },
        "id": "UG7W2dt1nZdD",
        "outputId": "af18b1a9-be7c-42a9-c4d7-f7b71350e088"
      },
      "outputs": [
        {
          "output_type": "stream",
          "name": "stdout",
          "text": [
            "BaekjoonOnlineJudge\n",
            "BaekjoonOn\n",
            "lineJudge\n"
          ]
        }
      ],
      "source": [
        "a = input()\n",
        "\n",
        "while len(a) >= 10:\n",
        "  print(a[:10])\n",
        "  a = a[10:]\n",
        "print(a)"
      ]
    },
    {
      "cell_type": "code",
      "source": [
        "import sys\n",
        "\n",
        "a = sys.stdin.readline().rstrip()\n",
        "\n",
        "while len(a) >= 10:\n",
        "  print(a[:10])\n",
        "  a = a[10:]\n",
        "print(a)"
      ],
      "metadata": {
        "colab": {
          "base_uri": "https://localhost:8080/"
        },
        "id": "4RFVqIRvofQl",
        "outputId": "388e9257-3f77-4554-ec85-35e766a9bc8f"
      },
      "execution_count": 2,
      "outputs": [
        {
          "output_type": "stream",
          "name": "stdout",
          "text": [
            "8\n"
          ]
        }
      ]
    }
  ]
}