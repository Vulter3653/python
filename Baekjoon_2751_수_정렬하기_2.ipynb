{
  "nbformat": 4,
  "nbformat_minor": 0,
  "metadata": {
    "colab": {
      "name": "Baekjoon_2751_수 정렬하기 2.ipynb",
      "provenance": [],
      "authorship_tag": "ABX9TyNDm4+U0HWcZA3h5AYxDW1W",
      "include_colab_link": true
    },
    "kernelspec": {
      "name": "python3",
      "display_name": "Python 3"
    },
    "language_info": {
      "name": "python"
    }
  },
  "cells": [
    {
      "cell_type": "markdown",
      "metadata": {
        "id": "view-in-github",
        "colab_type": "text"
      },
      "source": [
        "<a href=\"https://colab.research.google.com/github/Vulter3653/python/blob/main/Baekjoon_2751_%EC%88%98_%EC%A0%95%EB%A0%AC%ED%95%98%EA%B8%B0_2.ipynb\" target=\"_parent\"><img src=\"https://colab.research.google.com/assets/colab-badge.svg\" alt=\"Open In Colab\"/></a>"
      ]
    },
    {
      "cell_type": "code",
      "source": [
        "import heapq\n",
        "\n",
        "a = []\n",
        "\n",
        "n = int(input().rstrip())\n",
        "\n",
        "for _ in range(n):\n",
        "  x = int(input().rstrip())\n",
        "  heapq.heappush(a,x)\n",
        "  \n",
        "for _ in range(n):\n",
        "  print(heapq.heappop(a))"
      ],
      "metadata": {
        "colab": {
          "base_uri": "https://localhost:8080/"
        },
        "id": "xeW5ccr_n2ze",
        "outputId": "18be9e97-6d35-4b62-d794-d67515e3f1bc"
      },
      "execution_count": 1,
      "outputs": [
        {
          "output_type": "stream",
          "name": "stdout",
          "text": [
            "5\n",
            "5\n",
            "4\n",
            "3\n",
            "2\n",
            "1\n",
            "1\n",
            "2\n",
            "3\n",
            "4\n",
            "5\n"
          ]
        }
      ]
    },
    {
      "cell_type": "code",
      "execution_count": null,
      "metadata": {
        "id": "auV1K6OAnvw1"
      },
      "outputs": [],
      "source": [
        "import sys\n",
        "import heapq\n",
        "\n",
        "a = []\n",
        "\n",
        "n = int(sys.stdin.readline().rstrip())\n",
        "\n",
        "for _ in range(n):\n",
        "  x = int(sys.stdin.readline().rstrip())\n",
        "  heapq.heappush(a,x)\n",
        "  \n",
        "for _ in range(n):\n",
        "  print(heapq.heappop(a))"
      ]
    }
  ]
}