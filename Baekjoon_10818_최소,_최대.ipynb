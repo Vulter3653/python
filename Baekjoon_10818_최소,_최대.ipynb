{
  "nbformat": 4,
  "nbformat_minor": 0,
  "metadata": {
    "colab": {
      "name": "Baekjoon_10818_최소, 최대.ipynb",
      "provenance": [],
      "collapsed_sections": [],
      "authorship_tag": "ABX9TyOd+a37EHdL+YofVRZxiEEr",
      "include_colab_link": true
    },
    "kernelspec": {
      "name": "python3",
      "display_name": "Python 3"
    },
    "language_info": {
      "name": "python"
    }
  },
  "cells": [
    {
      "cell_type": "markdown",
      "metadata": {
        "id": "view-in-github",
        "colab_type": "text"
      },
      "source": [
        "<a href=\"https://colab.research.google.com/github/Vulter3653/python/blob/main/Baekjoon_10818_%EC%B5%9C%EC%86%8C%2C_%EC%B5%9C%EB%8C%80.ipynb\" target=\"_parent\"><img src=\"https://colab.research.google.com/assets/colab-badge.svg\" alt=\"Open In Colab\"/></a>"
      ]
    },
    {
      "cell_type": "code",
      "execution_count": 1,
      "metadata": {
        "colab": {
          "base_uri": "https://localhost:8080/"
        },
        "id": "GNq1S46NU7hG",
        "outputId": "6035f90e-c443-4cfc-c1d7-58930066ac3b"
      },
      "outputs": [
        {
          "output_type": "stream",
          "name": "stdout",
          "text": [
            "5\n",
            "20 10 35 30 7\n",
            "7 35\n"
          ]
        }
      ],
      "source": [
        "input().rstrip()\n",
        "a = list(map(int,input().rstrip().split()))\n",
        "\n",
        "print(str(min(a))+' '+str(max(a)))"
      ]
    },
    {
      "cell_type": "code",
      "source": [
        "import sys\n",
        "\n",
        "sys.stdin.readline().rstrip()\n",
        "a = list(map(int,sys.stdin.readline().rstrip().split()))\n",
        "\n",
        "print(str(min(a))+' '+str(max(a)))"
      ],
      "metadata": {
        "id": "kFUzg-LJVb_L"
      },
      "execution_count": null,
      "outputs": []
    }
  ]
}