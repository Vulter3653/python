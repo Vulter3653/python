{
  "nbformat": 4,
  "nbformat_minor": 0,
  "metadata": {
    "colab": {
      "name": "Baekjoon_1747_소수&팰린드롬.ipynb",
      "provenance": [],
      "authorship_tag": "ABX9TyPcqgDQ+JQa5gStfm1y1cEq",
      "include_colab_link": true
    },
    "kernelspec": {
      "name": "python3",
      "display_name": "Python 3"
    },
    "language_info": {
      "name": "python"
    }
  },
  "cells": [
    {
      "cell_type": "markdown",
      "metadata": {
        "id": "view-in-github",
        "colab_type": "text"
      },
      "source": [
        "<a href=\"https://colab.research.google.com/github/Vulter3653/python/blob/main/Baekjoon_1747_%EC%86%8C%EC%88%98%26%ED%8C%B0%EB%A6%B0%EB%93%9C%EB%A1%AC.ipynb\" target=\"_parent\"><img src=\"https://colab.research.google.com/assets/colab-badge.svg\" alt=\"Open In Colab\"/></a>"
      ]
    },
    {
      "cell_type": "code",
      "execution_count": 5,
      "metadata": {
        "colab": {
          "base_uri": "https://localhost:8080/"
        },
        "id": "QC87gbZtRrqp",
        "outputId": "8d59962d-813a-4c81-d4ec-08c3ae5eab95"
      },
      "outputs": [
        {
          "output_type": "stream",
          "name": "stdout",
          "text": [
            "325\n",
            "353\n"
          ]
        }
      ],
      "source": [
        "import math\n",
        "\n",
        "def primeNum(m):\n",
        "  for i in range(2,int(math.sqrt(m)+1)):\n",
        "    if m % i ==0:\n",
        "      return False\n",
        "  return True\n",
        "\n",
        "def palindrome(k):\n",
        "  k = str(k)\n",
        "  return k == k[::-1]\n",
        "\n",
        "n = int(input())\n",
        "if n <=2:\n",
        "  n = 2\n",
        "while True:\n",
        "  if primeNum(n) == True:\n",
        "    if palindrome(n) == True:\n",
        "      print(n)\n",
        "      break\n",
        "    else:\n",
        "      n+=1\n",
        "  else:\n",
        "    n+=1"
      ]
    },
    {
      "cell_type": "code",
      "source": [
        "import math\n",
        "import sys\n",
        "\n",
        "def primeNum(m):\n",
        "  for i in range(2,int(math.sqrt(m)+1)):\n",
        "    if m % i ==0:\n",
        "      return False\n",
        "  return True\n",
        "\n",
        "def palindrome(k):\n",
        "  k = str(k)\n",
        "  return k == k[::-1]\n",
        "\n",
        "n = int(sys.stdin.readline())\n",
        "if n <=2:\n",
        "  n = 2\n",
        "while True:\n",
        "  if primeNum(n) == True:\n",
        "    if palindrome(n) == True:\n",
        "      print(n)\n",
        "      break\n",
        "    else:\n",
        "      n+=1\n",
        "  else:\n",
        "    n+=1"
      ],
      "metadata": {
        "id": "aD94hj4TTN3s"
      },
      "execution_count": null,
      "outputs": []
    },
    {
      "cell_type": "code",
      "source": [
        "def palindrome(word):\n",
        "  list_word = list(word)\n",
        "\n",
        "  reversed_list = list_word[::-1] #전체문자열을 하나씩 뒤에서 하나씩 가면서 찍기\n",
        "\n",
        "  if list_word == reversed_list:\n",
        "    return True\n",
        "  else:\n",
        "    return False\n",
        "\n",
        "def palindrome2(word):\n",
        "  return word == word[::-1] "
      ],
      "metadata": {
        "id": "U_Fnl1rMUFLl"
      },
      "execution_count": null,
      "outputs": []
    }
  ]
}