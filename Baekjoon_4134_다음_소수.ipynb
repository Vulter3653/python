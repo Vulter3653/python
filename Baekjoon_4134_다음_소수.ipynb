{
  "nbformat": 4,
  "nbformat_minor": 0,
  "metadata": {
    "colab": {
      "name": "Baekjoon_4134_다음 소수.ipynb",
      "provenance": [],
      "authorship_tag": "ABX9TyMLkfpfrFnWGqoEX8KwXCpl",
      "include_colab_link": true
    },
    "kernelspec": {
      "name": "python3",
      "display_name": "Python 3"
    },
    "language_info": {
      "name": "python"
    }
  },
  "cells": [
    {
      "cell_type": "markdown",
      "metadata": {
        "id": "view-in-github",
        "colab_type": "text"
      },
      "source": [
        "<a href=\"https://colab.research.google.com/github/Vulter3653/python/blob/main/Baekjoon_4134_%EB%8B%A4%EC%9D%8C_%EC%86%8C%EC%88%98.ipynb\" target=\"_parent\"><img src=\"https://colab.research.google.com/assets/colab-badge.svg\" alt=\"Open In Colab\"/></a>"
      ]
    },
    {
      "cell_type": "code",
      "execution_count": null,
      "metadata": {
        "id": "f4-wQmCi5Xlq",
        "colab": {
          "base_uri": "https://localhost:8080/"
        },
        "outputId": "81d69379-543f-4229-ce64-f7e25a8fc56f"
      },
      "outputs": [
        {
          "output_type": "stream",
          "name": "stdout",
          "text": [
            "1\n",
            "0\n",
            "2\n"
          ]
        }
      ],
      "source": [
        "#메모리 초과\n",
        "n = int(input())\n",
        "\n",
        "for n in range(n):\n",
        "  m = int(input())\n",
        "  t=[]\n",
        "  if m == 0:\n",
        "    m = 1\n",
        "\n",
        "  while True:\n",
        "    arr = [True]*(m+1)\n",
        "    arr[0] = False\n",
        "    arr[1] = False\n",
        "\n",
        "    for i in range(2,m+1):\n",
        "      if arr[i] == True:\n",
        "        j = 2\n",
        "\n",
        "        while (i*j) <= m:\n",
        "          arr[i*j] = False\n",
        "          j +=1\n",
        "\n",
        "    for i in range(len(arr)):\n",
        "      if arr[i] == True:\n",
        "        t.append(i)\n",
        "\n",
        "    if m in t:\n",
        "      print(m)\n",
        "      break\n",
        "    else:\n",
        "      m +=1"
      ]
    },
    {
      "cell_type": "code",
      "source": [
        "m = int(input())\n",
        "t=[]\n",
        "\n",
        "while True:\n",
        "  arr = [True]*(m+1)\n",
        "  arr[0] = False\n",
        "  arr[1] = False\n",
        "\n",
        "  for i in range(2,m+1):\n",
        "    if arr[i] == True:\n",
        "      j = 2\n",
        "\n",
        "      while (i*j) <= m:\n",
        "        arr[i*j] = False\n",
        "        j +=1\n",
        "\n",
        "  for i in range(len(arr)):\n",
        "    if arr[i] == True:\n",
        "      t.append(i)\n",
        "\n",
        "  if m in t:\n",
        "    print(m)\n",
        "    break\n",
        "  else:\n",
        "    m +=1"
      ],
      "metadata": {
        "id": "UQbKUfs55gpW",
        "colab": {
          "base_uri": "https://localhost:8080/"
        },
        "outputId": "fd512d9d-e0a4-4d73-babb-1e766fd219e0"
      },
      "execution_count": null,
      "outputs": [
        {
          "output_type": "stream",
          "name": "stdout",
          "text": [
            "100\n",
            "101\n"
          ]
        }
      ]
    },
    {
      "cell_type": "code",
      "source": [
        "#메모리 초과\n",
        "import sys\n",
        "\n",
        "n = int(sys.stdin.readline())\n",
        "\n",
        "for n in range(n):\n",
        "  m = int(sys.stdin.readline())\n",
        "  t=[]\n",
        "  if m == 0:\n",
        "    m = 1\n",
        "\n",
        "  while True:\n",
        "    arr = [True]*(m+1)\n",
        "    arr[0] = False\n",
        "    arr[1] = False\n",
        "\n",
        "    for i in range(2,m+1):\n",
        "      if arr[i] == True:\n",
        "        j = 2\n",
        "\n",
        "        while (i*j) <= m:\n",
        "          arr[i*j] = False\n",
        "          j +=1\n",
        "\n",
        "    for i in range(len(arr)):\n",
        "      if arr[i] == True:\n",
        "        t.append(i)\n",
        "\n",
        "    if m in t:\n",
        "      print(m)\n",
        "      break\n",
        "    else:\n",
        "      m +=1"
      ],
      "metadata": {
        "id": "yiUsiPJ9m_39"
      },
      "execution_count": null,
      "outputs": []
    },
    {
      "cell_type": "code",
      "source": [
        "#통과\n",
        "import math\n",
        "\n",
        "def primeNum(m):\n",
        "  for i in range(2,int(math.sqrt(m)+1)):\n",
        "    if m % i ==0:\n",
        "      return False\n",
        "  return True\n",
        "\n",
        "x = int(input())\n",
        "\n",
        "for x in range(x):\n",
        "  n = int(input())\n",
        "  if n <=2:\n",
        "    n = 2\n",
        "  while True:\n",
        "    if primeNum(n) == True:\n",
        "      print(n)\n",
        "      break\n",
        "    else:\n",
        "      n+=1"
      ],
      "metadata": {
        "colab": {
          "base_uri": "https://localhost:8080/"
        },
        "id": "tcbi-BnWrfUO",
        "outputId": "592517b1-e014-427e-f21d-e0c6b9bedd71"
      },
      "execution_count": 42,
      "outputs": [
        {
          "output_type": "stream",
          "name": "stdout",
          "text": [
            "3\n",
            "4\n",
            "5\n",
            "5\n",
            "5\n",
            "6\n",
            "7\n"
          ]
        }
      ]
    },
    {
      "cell_type": "code",
      "source": [
        "import sys\n",
        "import math\n",
        "\n",
        "def primeNum(m):\n",
        "  for i in range(2,int(math.sqrt(m)+1)):\n",
        "    if m % i ==0:\n",
        "      return False\n",
        "  return True\n",
        "\n",
        "x = int(sys.stdin.readline().rstrip())\n",
        "\n",
        "for x in range(x):\n",
        "  n = int(sys.stdin.readline().rstrip())\n",
        "  if n <=2:\n",
        "    n = 2\n",
        "  while True:\n",
        "    if primeNum(n) == True:\n",
        "      print(n)\n",
        "      break\n",
        "    else:\n",
        "      n+=1"
      ],
      "metadata": {
        "id": "K7OeTUMVwUYG"
      },
      "execution_count": null,
      "outputs": []
    }
  ]
}