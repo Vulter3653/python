{
  "nbformat": 4,
  "nbformat_minor": 0,
  "metadata": {
    "colab": {
      "name": "Baekjoon_9046.ipynb",
      "provenance": [],
      "collapsed_sections": [],
      "authorship_tag": "ABX9TyOyQpHVTLzln3w3jeufK2Nx",
      "include_colab_link": true
    },
    "kernelspec": {
      "name": "python3",
      "display_name": "Python 3"
    },
    "language_info": {
      "name": "python"
    }
  },
  "cells": [
    {
      "cell_type": "markdown",
      "metadata": {
        "id": "view-in-github",
        "colab_type": "text"
      },
      "source": [
        "<a href=\"https://colab.research.google.com/github/Vulter3653/python/blob/main/Baekjoon_9046.ipynb\" target=\"_parent\"><img src=\"https://colab.research.google.com/assets/colab-badge.svg\" alt=\"Open In Colab\"/></a>"
      ]
    },
    {
      "cell_type": "code",
      "source": [
        "from collections import Counter\n",
        "\n",
        "x = int(input())\n",
        "\n",
        "for x in range(x):\n",
        "  y = input()\n",
        "  y = y.replace(\" \",\"\")\n",
        "  cnt = Counter(y)\n",
        "  z = cnt.most_common()\n",
        "  try:\n",
        "    if z[0][1] == z[1][1]:\n",
        "      print('?')\n",
        "    else:\n",
        "      print(z[0][0])\n",
        "  except:\n",
        "    print(z[0][0])"
      ],
      "metadata": {
        "colab": {
          "base_uri": "https://localhost:8080/"
        },
        "id": "LXDh8JdT7VqT",
        "outputId": "1f24a9bd-d975-4c2b-eab3-1b077039bbf8"
      },
      "execution_count": 61,
      "outputs": [
        {
          "name": "stdout",
          "output_type": "stream",
          "text": [
            "1\n",
            "hello there\n"
          ]
        }
      ]
    }
  ]
}