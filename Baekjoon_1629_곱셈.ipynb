{
  "nbformat": 4,
  "nbformat_minor": 0,
  "metadata": {
    "colab": {
      "name": "Baekjoon_1629_곱셈.ipynb",
      "provenance": [],
      "authorship_tag": "ABX9TyMaDm2ug9rCBzV253ckB+Qu",
      "include_colab_link": true
    },
    "kernelspec": {
      "name": "python3",
      "display_name": "Python 3"
    },
    "language_info": {
      "name": "python"
    }
  },
  "cells": [
    {
      "cell_type": "markdown",
      "metadata": {
        "id": "view-in-github",
        "colab_type": "text"
      },
      "source": [
        "<a href=\"https://colab.research.google.com/github/Vulter3653/python/blob/main/Baekjoon_1629_%EA%B3%B1%EC%85%88.ipynb\" target=\"_parent\"><img src=\"https://colab.research.google.com/assets/colab-badge.svg\" alt=\"Open In Colab\"/></a>"
      ]
    },
    {
      "cell_type": "code",
      "execution_count": 9,
      "metadata": {
        "colab": {
          "base_uri": "https://localhost:8080/"
        },
        "id": "_ckSn3G8sy9U",
        "outputId": "9f5c91ec-7c5e-4284-fd1e-fd361a71f5e7"
      },
      "outputs": [
        {
          "output_type": "stream",
          "name": "stdout",
          "text": [
            "10 11 12\n",
            "4\n"
          ]
        }
      ],
      "source": [
        "def power(a, n):\n",
        "    if n == 0:\n",
        "        return 1\n",
        "    x = power(a, n//2)%C\n",
        "    if n % 2 == 0:\n",
        "        return x * x\n",
        "    else:\n",
        "        return x * x * a\n",
        "\n",
        "A,B,C = map(int,input().rstrip().split())\n",
        "\n",
        "print(power(A,B)%C)"
      ]
    },
    {
      "cell_type": "code",
      "source": [
        "import sys\n",
        "def power(a, n):\n",
        "    if n == 0:\n",
        "        return 1\n",
        "    x = power(a, n//2)%C\n",
        "    if n % 2 == 0:\n",
        "        return x * x\n",
        "    else:\n",
        "        return x * x * a\n",
        "\n",
        "A,B,C = map(int,sys.stdin.readline().rstrip().split())\n",
        "\n",
        "print(power(A,B)%C)"
      ],
      "metadata": {
        "id": "vUhTTBXiw9tP"
      },
      "execution_count": null,
      "outputs": []
    },
    {
      "cell_type": "code",
      "source": [
        "#https://seongonion.tistory.com/88 참고\n",
        "\n",
        "def power(a, n):\n",
        "    if n == 0:\n",
        "        return 1\n",
        "    x = power(a, n//2)\n",
        "    if n % 2 == 0:\n",
        "        return x * x\n",
        "    else:\n",
        "        return x * x * a"
      ],
      "metadata": {
        "id": "S5jmPXKdwUYx"
      },
      "execution_count": null,
      "outputs": []
    }
  ]
}