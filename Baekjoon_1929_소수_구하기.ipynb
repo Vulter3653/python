{
  "nbformat": 4,
  "nbformat_minor": 0,
  "metadata": {
    "colab": {
      "name": "Baekjoon_1929_소수 구하기.ipynb",
      "provenance": [],
      "authorship_tag": "ABX9TyMWlvxMAM3ACW39ScYL+JwU",
      "include_colab_link": true
    },
    "kernelspec": {
      "name": "python3",
      "display_name": "Python 3"
    },
    "language_info": {
      "name": "python"
    }
  },
  "cells": [
    {
      "cell_type": "markdown",
      "metadata": {
        "id": "view-in-github",
        "colab_type": "text"
      },
      "source": [
        "<a href=\"https://colab.research.google.com/github/Vulter3653/python/blob/main/Baekjoon_1929_%EC%86%8C%EC%88%98_%EA%B5%AC%ED%95%98%EA%B8%B0.ipynb\" target=\"_parent\"><img src=\"https://colab.research.google.com/assets/colab-badge.svg\" alt=\"Open In Colab\"/></a>"
      ]
    },
    {
      "cell_type": "code",
      "execution_count": 3,
      "metadata": {
        "colab": {
          "base_uri": "https://localhost:8080/"
        },
        "id": "j6bYbgl-Q-bY",
        "outputId": "6869f4f3-b9ce-4642-b016-4539a44846b4"
      },
      "outputs": [
        {
          "output_type": "stream",
          "name": "stdout",
          "text": [
            "3 16\n",
            "3\n",
            "5\n",
            "7\n",
            "11\n",
            "13\n"
          ]
        }
      ],
      "source": [
        "M,N = map(int,input().split())\n",
        "t=[]\n",
        "\n",
        "while True:\n",
        "  arr = [True]*(N+1)\n",
        "  arr[0] = False\n",
        "  arr[1] = False\n",
        "\n",
        "  for i in range(2,N+1):\n",
        "    if arr[i] == True:\n",
        "      j = 2\n",
        "\n",
        "      while (i*j) <= N:\n",
        "        arr[i*j] = False\n",
        "        j +=1\n",
        "\n",
        "  for i in range(len(arr)):\n",
        "    if arr[i] == True:\n",
        "      t.append(i)\n",
        "  break\n",
        "\n",
        "for k in range(len(t)):\n",
        "    x = t.pop(0)\n",
        "    if M <= x <= N:\n",
        "      print(x)"
      ]
    },
    {
      "cell_type": "code",
      "source": [
        "import sys\n",
        "\n",
        "M,N = map(int,sys.stdin.readline().split())\n",
        "t=[]\n",
        "\n",
        "while True:\n",
        "  arr = [True]*(N+1)\n",
        "  arr[0] = False\n",
        "  arr[1] = False\n",
        "\n",
        "  for i in range(2,N+1):\n",
        "    if arr[i] == True:\n",
        "      j = 2\n",
        "\n",
        "      while (i*j) <= N:\n",
        "        arr[i*j] = False\n",
        "        j +=1\n",
        "\n",
        "  for i in range(len(arr)):\n",
        "    if arr[i] == True:\n",
        "      t.append(i)\n",
        "  break\n",
        "\n",
        "for k in range(len(t)):\n",
        "    x = t.pop(0)\n",
        "    if M <= x <= N:\n",
        "      print(x)"
      ],
      "metadata": {
        "id": "HYCZvjLZTC4V"
      },
      "execution_count": null,
      "outputs": []
    }
  ]
}