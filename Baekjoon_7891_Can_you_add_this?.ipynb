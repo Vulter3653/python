{
  "nbformat": 4,
  "nbformat_minor": 0,
  "metadata": {
    "colab": {
      "provenance": [],
      "authorship_tag": "ABX9TyOSjfgyu16uIPkhZUNrHNCH",
      "include_colab_link": true
    },
    "kernelspec": {
      "name": "python3",
      "display_name": "Python 3"
    },
    "language_info": {
      "name": "python"
    }
  },
  "cells": [
    {
      "cell_type": "markdown",
      "metadata": {
        "id": "view-in-github",
        "colab_type": "text"
      },
      "source": [
        "<a href=\"https://colab.research.google.com/github/Vulter3653/python/blob/main/Baekjoon_7891_Can_you_add_this%3F.ipynb\" target=\"_parent\"><img src=\"https://colab.research.google.com/assets/colab-badge.svg\" alt=\"Open In Colab\"/></a>"
      ]
    },
    {
      "cell_type": "code",
      "execution_count": null,
      "metadata": {
        "id": "Ne0iKketN0tH"
      },
      "outputs": [],
      "source": [
        "for x in range(int(input())):\n",
        "  a,b = map(int,input().split())\n",
        "  print(a+b)"
      ]
    },
    {
      "cell_type": "code",
      "source": [
        "import sys\n",
        "\n",
        "for x in range(int(sys.stdin.readline())):\n",
        "  a,b = map(int,sys.stdin.readline().split())\n",
        "  print(a+b)"
      ],
      "metadata": {
        "id": "HIutaH2UPtFs"
      },
      "execution_count": null,
      "outputs": []
    }
  ]
}