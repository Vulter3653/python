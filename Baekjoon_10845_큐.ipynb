{
  "nbformat": 4,
  "nbformat_minor": 0,
  "metadata": {
    "colab": {
      "name": "Baekjoon_10845_큐.ipynb",
      "provenance": [],
      "authorship_tag": "ABX9TyP9qs1swQX7hprXEJV8/QXT",
      "include_colab_link": true
    },
    "kernelspec": {
      "name": "python3",
      "display_name": "Python 3"
    },
    "language_info": {
      "name": "python"
    }
  },
  "cells": [
    {
      "cell_type": "markdown",
      "metadata": {
        "id": "view-in-github",
        "colab_type": "text"
      },
      "source": [
        "<a href=\"https://colab.research.google.com/github/Vulter3653/python/blob/main/Baekjoon_10845_%ED%81%90.ipynb\" target=\"_parent\"><img src=\"https://colab.research.google.com/assets/colab-badge.svg\" alt=\"Open In Colab\"/></a>"
      ]
    },
    {
      "cell_type": "code",
      "execution_count": null,
      "metadata": {
        "id": "BSKwxjm1AUBq"
      },
      "outputs": [],
      "source": [
        "#python3, pypy3 모두 시간초과 발생\n",
        "from collections import deque\n",
        "\n",
        "N = int(input().rstrip())\n",
        "queue = deque([])\n",
        "\n",
        "for N in range(N):\n",
        "  x = input().rstrip().split()\n",
        "  if x[0] == \"push\":\n",
        "    queue.append(int(x[-1]))\n",
        "  elif x[0] == \"pop\":\n",
        "    if len(queue) != 0:\n",
        "      print(queue.popleft())\n",
        "    else:\n",
        "      print(-1)\n",
        "  elif x[0] == \"size\":\n",
        "    print(len(queue))\n",
        "  elif x[0] == \"empty\":\n",
        "    if len(queue) != 0:\n",
        "      print(0)\n",
        "    else:\n",
        "      print(1)\n",
        "  elif x[0] == \"front\":\n",
        "    if len(queue) != 0:\n",
        "      print(queue[0])\n",
        "    else:\n",
        "      print(-1)\n",
        "  elif x[0] == \"back\":\n",
        "    if len(queue) != 0:\n",
        "      print(queue[-1])\n",
        "    else:\n",
        "      print(-1)"
      ]
    },
    {
      "cell_type": "code",
      "source": [
        "#python3, pypy3 모두 통과\n",
        "import sys\n",
        "from collections import deque\n",
        "\n",
        "N = int(sys.stdin.readline().rstrip())\n",
        "queue = deque([])\n",
        "\n",
        "for N in range(N):\n",
        "  x = sys.stdin.readline().rstrip().split()\n",
        "  if x[0] == \"push\":\n",
        "    queue.append(int(x[-1]))\n",
        "  elif x[0] == \"pop\":\n",
        "    if len(queue) != 0:\n",
        "      print(queue.popleft())\n",
        "    else:\n",
        "      print(-1)\n",
        "  elif x[0] == \"size\":\n",
        "    print(len(queue))\n",
        "  elif x[0] == \"empty\":\n",
        "    if len(queue) != 0:\n",
        "      print(0)\n",
        "    else:\n",
        "      print(1)\n",
        "  elif x[0] == \"front\":\n",
        "    if len(queue) != 0:\n",
        "      print(queue[0])\n",
        "    else:\n",
        "      print(-1)\n",
        "  elif x[0] == \"back\":\n",
        "    if len(queue) != 0:\n",
        "      print(queue[-1])\n",
        "    else:\n",
        "      print(-1)"
      ],
      "metadata": {
        "id": "fLjxfiW9A0Hz"
      },
      "execution_count": null,
      "outputs": []
    }
  ]
}