{
  "nbformat": 4,
  "nbformat_minor": 0,
  "metadata": {
    "colab": {
      "name": "Baekjoon_14729_칠무해.ipynb",
      "provenance": [],
      "authorship_tag": "ABX9TyP6VajmoBhI+R1GzEq4NVKL",
      "include_colab_link": true
    },
    "kernelspec": {
      "name": "python3",
      "display_name": "Python 3"
    },
    "language_info": {
      "name": "python"
    }
  },
  "cells": [
    {
      "cell_type": "markdown",
      "metadata": {
        "id": "view-in-github",
        "colab_type": "text"
      },
      "source": [
        "<a href=\"https://colab.research.google.com/github/Vulter3653/python/blob/main/Baekjoon_14729_%EC%B9%A0%EB%AC%B4%ED%95%B4.ipynb\" target=\"_parent\"><img src=\"https://colab.research.google.com/assets/colab-badge.svg\" alt=\"Open In Colab\"/></a>"
      ]
    },
    {
      "cell_type": "code",
      "execution_count": 19,
      "metadata": {
        "colab": {
          "base_uri": "https://localhost:8080/"
        },
        "id": "X1_vFEVKXyso",
        "outputId": "0f66b907-6837-4845-ab50-d9ee581f4e19"
      },
      "outputs": [
        {
          "output_type": "stream",
          "name": "stdout",
          "text": [
            "2\n",
            "50.000\n",
            "10.001\n",
            "10.001\n",
            "50.000\n"
          ]
        }
      ],
      "source": [
        "import heapq\n",
        "\n",
        "a = []\n",
        "N = int(input().rstrip())\n",
        "\n",
        "for N in range(N):\n",
        "  x = float(input().rstrip())\n",
        "  heapq.heappush(a, x)\n",
        "\n",
        "a = heapq.nsmallest(7, a)\n",
        "\n",
        "for _ in range(len(a)):\n",
        "  i = heapq.heappop(a)\n",
        "  print('{:.3f}'.format(i))"
      ]
    },
    {
      "cell_type": "code",
      "source": [
        "import sys\n",
        "import heapq\n",
        "\n",
        "a = []\n",
        "N = int(sys.stdin.readline().rstrip())\n",
        "\n",
        "for N in range(N):\n",
        "  x = float(sys.stdin.readline().rstrip())\n",
        "  heapq.heappush(a, x)\n",
        "\n",
        "a = heapq.nsmallest(7, a)\n",
        "\n",
        "for _ in range(len(a)):\n",
        "  i = heapq.heappop(a)\n",
        "  print('{:.3f}'.format(i))"
      ],
      "metadata": {
        "id": "zj4qJoucaEQK"
      },
      "execution_count": null,
      "outputs": []
    }
  ]
}