{
  "nbformat": 4,
  "nbformat_minor": 0,
  "metadata": {
    "colab": {
      "name": "Baekjoon_10773_제로.ipynb",
      "provenance": [],
      "authorship_tag": "ABX9TyO4Tif3yuGKWlBaJhYe+Iya",
      "include_colab_link": true
    },
    "kernelspec": {
      "name": "python3",
      "display_name": "Python 3"
    },
    "language_info": {
      "name": "python"
    }
  },
  "cells": [
    {
      "cell_type": "markdown",
      "metadata": {
        "id": "view-in-github",
        "colab_type": "text"
      },
      "source": [
        "<a href=\"https://colab.research.google.com/github/Vulter3653/python/blob/main/Baekjoon_10773_%EC%A0%9C%EB%A1%9C.ipynb\" target=\"_parent\"><img src=\"https://colab.research.google.com/assets/colab-badge.svg\" alt=\"Open In Colab\"/></a>"
      ]
    },
    {
      "cell_type": "code",
      "execution_count": 2,
      "metadata": {
        "colab": {
          "base_uri": "https://localhost:8080/"
        },
        "id": "EL2_xT9-6DhY",
        "outputId": "72dd43d4-8feb-4b44-e91b-0ae529d610be"
      },
      "outputs": [
        {
          "output_type": "stream",
          "name": "stdout",
          "text": [
            "10\n",
            "1\n",
            "3\n",
            "5\n",
            "4\n",
            "0\n",
            "0\n",
            "7\n",
            "0\n",
            "0\n",
            "6\n",
            "7\n"
          ]
        }
      ],
      "source": [
        "a = []\n",
        "for _ in range(int(input().rstrip())):\n",
        "  x = int(input().rstrip())\n",
        "  if x == 0:\n",
        "    a.pop()\n",
        "  else:\n",
        "    a.append(x)\n",
        "print(sum(a))"
      ]
    },
    {
      "cell_type": "code",
      "source": [
        "import sys\n",
        "a = []\n",
        "for _ in range(int(input().rstrip())):\n",
        "  x = int(input().rstrip())\n",
        "  if x == 0:\n",
        "    a.pop()\n",
        "  else:\n",
        "    a.append(x)\n",
        "print(sum(a))"
      ],
      "metadata": {
        "id": "sNZOd-2v6uaV"
      },
      "execution_count": null,
      "outputs": []
    }
  ]
}