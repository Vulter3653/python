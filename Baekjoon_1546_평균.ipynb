{
  "nbformat": 4,
  "nbformat_minor": 0,
  "metadata": {
    "colab": {
      "name": "Baekjoon_1546_평균.ipynb",
      "provenance": [],
      "collapsed_sections": [],
      "authorship_tag": "ABX9TyPogImiBorXFcrLft/iHZfo",
      "include_colab_link": true
    },
    "kernelspec": {
      "name": "python3",
      "display_name": "Python 3"
    },
    "language_info": {
      "name": "python"
    }
  },
  "cells": [
    {
      "cell_type": "markdown",
      "metadata": {
        "id": "view-in-github",
        "colab_type": "text"
      },
      "source": [
        "<a href=\"https://colab.research.google.com/github/Vulter3653/python/blob/main/Baekjoon_1546_%ED%8F%89%EA%B7%A0.ipynb\" target=\"_parent\"><img src=\"https://colab.research.google.com/assets/colab-badge.svg\" alt=\"Open In Colab\"/></a>"
      ]
    },
    {
      "cell_type": "code",
      "execution_count": 10,
      "metadata": {
        "colab": {
          "base_uri": "https://localhost:8080/"
        },
        "id": "HgLqpihGxAE1",
        "outputId": "f8e769e8-5262-4de5-b647-cd206b1a9360"
      },
      "outputs": [
        {
          "output_type": "stream",
          "name": "stdout",
          "text": [
            "9\n",
            "10 20 30 40 50 60 70 80 90\n",
            "55.55555555555556\n"
          ]
        }
      ],
      "source": [
        "x = int(input().rstrip())\n",
        "a = list(map(int,input().rstrip().split()))\n",
        "\n",
        "max_a = max(a)\n",
        "for w in range(x):\n",
        "  a[w] = a[w]/max_a*100\n",
        "\n",
        "print(sum(a)/x)"
      ]
    },
    {
      "cell_type": "code",
      "source": [
        "import sys\n",
        "\n",
        "x = int(sys.stdin.readline().rstrip())\n",
        "a = list(map(int,sys.stdin.readline().rstrip().split()))\n",
        "\n",
        "max_a = max(a)\n",
        "for w in range(x):\n",
        "  a[w] = a[w]/max_a*100\n",
        "\n",
        "print(sum(a)/x)"
      ],
      "metadata": {
        "id": "gb5wODeiyI4Y"
      },
      "execution_count": null,
      "outputs": []
    }
  ]
}