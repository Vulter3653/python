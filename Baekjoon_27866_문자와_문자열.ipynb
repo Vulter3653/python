{
  "nbformat": 4,
  "nbformat_minor": 0,
  "metadata": {
    "colab": {
      "provenance": [],
      "authorship_tag": "ABX9TyO69j7lgFiatt2OV+Hb9H6h",
      "include_colab_link": true
    },
    "kernelspec": {
      "name": "python3",
      "display_name": "Python 3"
    },
    "language_info": {
      "name": "python"
    }
  },
  "cells": [
    {
      "cell_type": "markdown",
      "metadata": {
        "id": "view-in-github",
        "colab_type": "text"
      },
      "source": [
        "<a href=\"https://colab.research.google.com/github/Vulter3653/python/blob/main/Baekjoon_27866_%EB%AC%B8%EC%9E%90%EC%99%80_%EB%AC%B8%EC%9E%90%EC%97%B4.ipynb\" target=\"_parent\"><img src=\"https://colab.research.google.com/assets/colab-badge.svg\" alt=\"Open In Colab\"/></a>"
      ]
    },
    {
      "cell_type": "code",
      "execution_count": 2,
      "metadata": {
        "colab": {
          "base_uri": "https://localhost:8080/"
        },
        "id": "d-fa9jp-j_7f",
        "outputId": "993d412d-e8e1-42f1-89f7-4f8b7902afb2"
      },
      "outputs": [
        {
          "output_type": "stream",
          "name": "stdout",
          "text": [
            "Baekjoon\n",
            "4\n",
            "k\n"
          ]
        }
      ],
      "source": [
        "a = input()\n",
        "print(a[int(input())-1])"
      ]
    },
    {
      "cell_type": "code",
      "source": [
        "import sys\n",
        "a = sys.stdin.readline()\n",
        "print(a[int(sys.stdin.readline())-1])"
      ],
      "metadata": {
        "id": "HdpBJw5qkW2A"
      },
      "execution_count": null,
      "outputs": []
    }
  ]
}