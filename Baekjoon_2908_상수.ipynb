{
  "nbformat": 4,
  "nbformat_minor": 0,
  "metadata": {
    "colab": {
      "name": "Baekjoon_2908_상수.ipynb",
      "provenance": [],
      "collapsed_sections": [],
      "authorship_tag": "ABX9TyM9SlKTKRKf/JYzNGNOJH4F",
      "include_colab_link": true
    },
    "kernelspec": {
      "name": "python3",
      "display_name": "Python 3"
    },
    "language_info": {
      "name": "python"
    }
  },
  "cells": [
    {
      "cell_type": "markdown",
      "metadata": {
        "id": "view-in-github",
        "colab_type": "text"
      },
      "source": [
        "<a href=\"https://colab.research.google.com/github/Vulter3653/python/blob/main/Baekjoon_2908_%EC%83%81%EC%88%98.ipynb\" target=\"_parent\"><img src=\"https://colab.research.google.com/assets/colab-badge.svg\" alt=\"Open In Colab\"/></a>"
      ]
    },
    {
      "cell_type": "code",
      "execution_count": 10,
      "metadata": {
        "colab": {
          "base_uri": "https://localhost:8080/"
        },
        "id": "QV96iSwnqneU",
        "outputId": "63788ede-a9cc-4138-d916-2515e3bcb4c8"
      },
      "outputs": [
        {
          "output_type": "stream",
          "name": "stdout",
          "text": [
            "839 237\n",
            "938\n"
          ]
        }
      ],
      "source": [
        "a,b = input().rstrip().split()\n",
        "x = [int(a[::-1]),int(b[::-1])]\n",
        "print(max(x))"
      ]
    },
    {
      "cell_type": "code",
      "source": [
        "import sys\n",
        "\n",
        "a,b = sys.stdin.readline().rstrip().split()\n",
        "x = [int(a[::-1]),int(b[::-1])]\n",
        "print(max(x))"
      ],
      "metadata": {
        "id": "Cmx9o8GZs8HO"
      },
      "execution_count": null,
      "outputs": []
    }
  ]
}