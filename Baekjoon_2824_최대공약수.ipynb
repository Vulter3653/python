{
  "nbformat": 4,
  "nbformat_minor": 0,
  "metadata": {
    "colab": {
      "name": "Baekjoon_2824_최대공약수.ipynb",
      "provenance": [],
      "authorship_tag": "ABX9TyP5NjJWnrRzE5EAtlsDsrTy",
      "include_colab_link": true
    },
    "kernelspec": {
      "name": "python3",
      "display_name": "Python 3"
    },
    "language_info": {
      "name": "python"
    }
  },
  "cells": [
    {
      "cell_type": "markdown",
      "metadata": {
        "id": "view-in-github",
        "colab_type": "text"
      },
      "source": [
        "<a href=\"https://colab.research.google.com/github/Vulter3653/python/blob/main/Baekjoon_2824_%EC%B5%9C%EB%8C%80%EA%B3%B5%EC%95%BD%EC%88%98.ipynb\" target=\"_parent\"><img src=\"https://colab.research.google.com/assets/colab-badge.svg\" alt=\"Open In Colab\"/></a>"
      ]
    },
    {
      "cell_type": "code",
      "execution_count": 17,
      "metadata": {
        "colab": {
          "base_uri": "https://localhost:8080/"
        },
        "id": "YlLy8g34O8F1",
        "outputId": "1eb6be94-f54f-43b5-8e63-f3145d05e3d2"
      },
      "outputs": [
        {
          "output_type": "stream",
          "name": "stdout",
          "text": [
            "3\n",
            "358572 83391967 82\n",
            "3\n",
            "50229961 1091444 8863\n",
            "000012028\n"
          ]
        }
      ],
      "source": [
        "import math\n",
        "\n",
        "N = int(input().rstrip())\n",
        "NN = list(map(int,input().rstrip().split()))\n",
        "A = 1\n",
        "for _ in range(N):\n",
        "  A *= NN.pop()\n",
        "\n",
        "M = int(input().rstrip())\n",
        "MM = list(map(int,input().rstrip().split()))\n",
        "B = 1\n",
        "for _ in range(M):\n",
        "  B *= MM.pop()\n",
        "\n",
        "k = math.gcd(A,B)\n",
        "\n",
        "if len(str(k)) > 9:\n",
        "  print(str(k)[-9:])\n",
        "else:\n",
        "  print(k)"
      ]
    },
    {
      "cell_type": "code",
      "source": [
        "import math\n",
        "import sys\n",
        "\n",
        "N = int(sys.stdin.readline().rstrip())\n",
        "NN = list(map(int,sys.stdin.readline().rstrip().split()))\n",
        "A = 1\n",
        "for _ in range(N):\n",
        "  A *= NN.pop()\n",
        "\n",
        "M = int(sys.stdin.readline().rstrip())\n",
        "MM = list(map(int,sys.stdin.readline().rstrip().split()))\n",
        "B = 1\n",
        "for _ in range(M):\n",
        "  B *= MM.pop()\n",
        "\n",
        "k = math.gcd(A,B)\n",
        "\n",
        "if len(str(k)) > 9:\n",
        "  print(str(k)[-9:])\n",
        "else:\n",
        "  print(k)"
      ],
      "metadata": {
        "id": "Ma3IHLo9YThk"
      },
      "execution_count": null,
      "outputs": []
    }
  ]
}