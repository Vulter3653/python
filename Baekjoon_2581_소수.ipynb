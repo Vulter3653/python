{
  "nbformat": 4,
  "nbformat_minor": 0,
  "metadata": {
    "colab": {
      "name": "Baekjoon_2581_소수.ipynb",
      "provenance": [],
      "authorship_tag": "ABX9TyNKMHQZATMvH69r/5cdJYtP",
      "include_colab_link": true
    },
    "kernelspec": {
      "name": "python3",
      "display_name": "Python 3"
    },
    "language_info": {
      "name": "python"
    }
  },
  "cells": [
    {
      "cell_type": "markdown",
      "metadata": {
        "id": "view-in-github",
        "colab_type": "text"
      },
      "source": [
        "<a href=\"https://colab.research.google.com/github/Vulter3653/python/blob/main/Baekjoon_2581_%EC%86%8C%EC%88%98.ipynb\" target=\"_parent\"><img src=\"https://colab.research.google.com/assets/colab-badge.svg\" alt=\"Open In Colab\"/></a>"
      ]
    },
    {
      "cell_type": "code",
      "execution_count": 46,
      "metadata": {
        "colab": {
          "base_uri": "https://localhost:8080/"
        },
        "id": "-vYrl0Um-GF-",
        "outputId": "d93462cb-2102-4ce1-b7c1-1873ae4c89cc"
      },
      "outputs": [
        {
          "output_type": "stream",
          "name": "stdout",
          "text": [
            "64\n",
            "65\n",
            "-1\n"
          ]
        }
      ],
      "source": [
        "x = int(input())\n",
        "y = int(input())\n",
        "t = []\n",
        "t2 = []\n",
        "\n",
        "arr = [True] * (y+1)\n",
        "arr[0] = False\n",
        "arr[1] = False\n",
        "\n",
        "for i in range(2, y+1):\n",
        "  if arr[i] == True:\n",
        "    j = 2\n",
        "\n",
        "    while (i*j) <= y:\n",
        "      arr[i*j] = False\n",
        "      j += 1\n",
        "\n",
        "for i in range(len(arr)):\n",
        "    if arr[i] == True:\n",
        "        t.append(i)\n",
        "\n",
        "while len(t) != 0:\n",
        "  z = t.pop(0)\n",
        "  if z >= x:\n",
        "    t2.append(z)\n",
        "\n",
        "if len(t2) != 0:\n",
        "  print(sum(t2))\n",
        "  print(t2[0])\n",
        "else:\n",
        "  print(-1)"
      ]
    },
    {
      "cell_type": "code",
      "source": [
        "#https://seongonion.tistory.com/43 참고\n",
        "\n",
        "def is_prime_num(n):\n",
        "    arr = [True] * (n + 1) # 특정 수가 지워졌는지 아닌지 확인하기 위한 배열\n",
        "    arr[0] = False\n",
        "    arr[1] = False\n",
        "\n",
        "    for i in range(2, n + 1):\n",
        "        if arr[i] == True: # 특정 수가 지워지지 않았다면 (소수여서)\n",
        "            j = 2\n",
        "\n",
        "            while (i * j) <= n:\n",
        "                arr[i*j] = False # i의 배수의 값을 False로 지워준다.\n",
        "                j += 1\n",
        "\n",
        "    return arr\n",
        "\n",
        "arr = is_prime_num(50) # 0 ~ 50중 소수를 구하기 위한 함수\n",
        "\n",
        "for i in range(len(arr)):\n",
        "    if arr[i] == True:\n",
        "        print(i, end=' ')"
      ],
      "metadata": {
        "colab": {
          "base_uri": "https://localhost:8080/"
        },
        "id": "bf46Q44aDhT6",
        "outputId": "fbd78878-61b2-4c1a-c464-e8f01aa65815"
      },
      "execution_count": 16,
      "outputs": [
        {
          "output_type": "stream",
          "name": "stdout",
          "text": [
            "2 3 5 7 11 13 17 19 23 29 31 37 41 43 47 "
          ]
        }
      ]
    },
    {
      "cell_type": "code",
      "source": [
        "n=int(input())\n",
        "arr = [True] * (n + 1)\n",
        "print(arr)"
      ],
      "metadata": {
        "colab": {
          "base_uri": "https://localhost:8080/"
        },
        "id": "0QEttX7OErDs",
        "outputId": "7056ba84-512d-40cf-e6ce-bbf37b85755e"
      },
      "execution_count": 21,
      "outputs": [
        {
          "output_type": "stream",
          "name": "stdout",
          "text": [
            "9\n",
            "[True, True, True, True, True, True, True, True, True, True]\n"
          ]
        }
      ]
    },
    {
      "cell_type": "code",
      "source": [
        "n = int(input())\n",
        "x = int(input())\n",
        "arr = [True] * (n + 1) # 특정 수가 지워졌는지 아닌지 확인하기 위한 배열\n",
        "arr[0] = False\n",
        "arr[1] = False\n",
        "\n",
        "for i in range(2, n + 1):\n",
        "  if arr[i] == True: # 특정 수가 지워지지 않았다면 (소수여서)\n",
        "    j = 2\n",
        "\n",
        "    while (i * j) <= n:\n",
        "      arr[i*j] = False # i의 배수의 값을 False로 지워준다.\n",
        "      j += 1\n",
        "\n",
        "for i in range(len(arr)):\n",
        "    if arr[i] == True:\n",
        "        print(i, end=' ')      "
      ],
      "metadata": {
        "colab": {
          "base_uri": "https://localhost:8080/"
        },
        "id": "mFHKjeWzFBF3",
        "outputId": "43251d67-f674-4d35-937a-509eb569ae91"
      },
      "execution_count": 32,
      "outputs": [
        {
          "output_type": "stream",
          "name": "stdout",
          "text": [
            "11\n",
            "5\n",
            "2 3 5 "
          ]
        }
      ]
    }
  ]
}