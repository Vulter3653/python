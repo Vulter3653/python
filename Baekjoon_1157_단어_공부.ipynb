{
  "nbformat": 4,
  "nbformat_minor": 0,
  "metadata": {
    "colab": {
      "name": "Baekjoon_1157_단어 공부.ipynb",
      "provenance": [],
      "collapsed_sections": [],
      "authorship_tag": "ABX9TyMm7KQHsHiPVUgRt5WG8ZwR",
      "include_colab_link": true
    },
    "kernelspec": {
      "name": "python3",
      "display_name": "Python 3"
    },
    "language_info": {
      "name": "python"
    }
  },
  "cells": [
    {
      "cell_type": "markdown",
      "metadata": {
        "id": "view-in-github",
        "colab_type": "text"
      },
      "source": [
        "<a href=\"https://colab.research.google.com/github/Vulter3653/python/blob/main/Baekjoon_1157_%EB%8B%A8%EC%96%B4_%EA%B3%B5%EB%B6%80.ipynb\" target=\"_parent\"><img src=\"https://colab.research.google.com/assets/colab-badge.svg\" alt=\"Open In Colab\"/></a>"
      ]
    },
    {
      "cell_type": "code",
      "execution_count": 20,
      "metadata": {
        "colab": {
          "base_uri": "https://localhost:8080/"
        },
        "id": "ZOpocd-oudQH",
        "outputId": "7a523027-e3bc-465c-ed9a-17faae1979a5"
      },
      "outputs": [
        {
          "output_type": "stream",
          "name": "stdout",
          "text": [
            "Z\n",
            "Z\n"
          ]
        }
      ],
      "source": [
        "a = list(input().rstrip().upper())\n",
        "b = set(a)\n",
        "\n",
        "alpha = []\n",
        "count = []\n",
        "for _ in range(len(b)):\n",
        "  x = b.pop()\n",
        "  y = a.count(x)\n",
        "  alpha.append(x)\n",
        "  count.append(y)\n",
        "\n",
        "x = max(count)\n",
        "y = count.index(max(count))\n",
        "z = alpha[y]\n",
        "\n",
        "alpha.remove(z)\n",
        "count.remove(x)\n",
        "\n",
        "if len(count) != 0:\n",
        "  if max(count) == x:\n",
        "    print('?')\n",
        "  else:\n",
        "    print(z)  \n",
        "else:\n",
        "  print(z)"
      ]
    },
    {
      "cell_type": "code",
      "source": [
        "import sys\n",
        "\n",
        "a = list(sys.stdin.readline().rstrip().upper())\n",
        "b = set(a)\n",
        "\n",
        "alpha = []\n",
        "count = []\n",
        "for _ in range(len(b)):\n",
        "  x = b.pop()\n",
        "  y = a.count(x)\n",
        "  alpha.append(x)\n",
        "  count.append(y)\n",
        "\n",
        "x = max(count)\n",
        "y = count.index(max(count))\n",
        "z = alpha[y]\n",
        "\n",
        "alpha.remove(z)\n",
        "count.remove(x)\n",
        "\n",
        "if len(count) != 0:\n",
        "  if max(count) == x:\n",
        "    print('?')\n",
        "  else:\n",
        "    print(z)  \n",
        "else:\n",
        "  print(z)"
      ],
      "metadata": {
        "id": "hjUnUJLWzMbz"
      },
      "execution_count": null,
      "outputs": []
    }
  ]
}