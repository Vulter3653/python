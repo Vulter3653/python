{
  "nbformat": 4,
  "nbformat_minor": 0,
  "metadata": {
    "colab": {
      "name": "Baekjoon_5347_LCM.ipynb",
      "provenance": [],
      "authorship_tag": "ABX9TyMzt4bOWnQcQUucnc+dXMq8",
      "include_colab_link": true
    },
    "kernelspec": {
      "name": "python3",
      "display_name": "Python 3"
    },
    "language_info": {
      "name": "python"
    }
  },
  "cells": [
    {
      "cell_type": "markdown",
      "metadata": {
        "id": "view-in-github",
        "colab_type": "text"
      },
      "source": [
        "<a href=\"https://colab.research.google.com/github/Vulter3653/python/blob/main/Baekjoon_5347_LCM.ipynb\" target=\"_parent\"><img src=\"https://colab.research.google.com/assets/colab-badge.svg\" alt=\"Open In Colab\"/></a>"
      ]
    },
    {
      "cell_type": "code",
      "execution_count": 1,
      "metadata": {
        "colab": {
          "base_uri": "https://localhost:8080/"
        },
        "id": "xzyfmWMGFqbz",
        "outputId": "c4873bc3-ca10-46bb-8a96-1047f0f96a0f"
      },
      "outputs": [
        {
          "output_type": "stream",
          "name": "stdout",
          "text": [
            "3\n",
            "15 21\n",
            "105\n",
            "33 22\n",
            "66\n",
            "9 10\n",
            "90\n"
          ]
        }
      ],
      "source": [
        "n = int(input())\n",
        "\n",
        "for n in range(n):\n",
        "  a,b=map(int,input().split())\n",
        "  arr = []\n",
        "  for i in range(1,a+1):\n",
        "    if (a%i==0) & (b%i==0):\n",
        "      arr.append(i)\n",
        "  k = arr.pop()\n",
        "  print(a*b//k)"
      ]
    }
  ]
}