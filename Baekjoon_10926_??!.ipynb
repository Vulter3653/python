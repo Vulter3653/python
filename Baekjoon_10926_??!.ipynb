{
  "nbformat": 4,
  "nbformat_minor": 0,
  "metadata": {
    "colab": {
      "name": "Baekjoon_10926_??!.ipynb",
      "provenance": [],
      "authorship_tag": "ABX9TyOybIt/p41fNggk6mZv3hwt",
      "include_colab_link": true
    },
    "kernelspec": {
      "name": "python3",
      "display_name": "Python 3"
    },
    "language_info": {
      "name": "python"
    }
  },
  "cells": [
    {
      "cell_type": "markdown",
      "metadata": {
        "id": "view-in-github",
        "colab_type": "text"
      },
      "source": [
        "<a href=\"https://colab.research.google.com/github/Vulter3653/python/blob/main/Baekjoon_10926_%3F%3F!.ipynb\" target=\"_parent\"><img src=\"https://colab.research.google.com/assets/colab-badge.svg\" alt=\"Open In Colab\"/></a>"
      ]
    },
    {
      "cell_type": "code",
      "execution_count": 1,
      "metadata": {
        "colab": {
          "base_uri": "https://localhost:8080/"
        },
        "id": "SSkk16af3Xq6",
        "outputId": "0e2338e7-c292-49a3-f8df-62be0467aca2"
      },
      "outputs": [
        {
          "output_type": "stream",
          "name": "stdout",
          "text": [
            "joonas\n",
            "joonas??!\n"
          ]
        }
      ],
      "source": [
        "print(input().rstrip()+'??!')"
      ]
    },
    {
      "cell_type": "code",
      "source": [
        "import sys\n",
        "print(sys.stdin.readline().rstrip()+'??!')"
      ],
      "metadata": {
        "id": "dMPkTobj3im1"
      },
      "execution_count": null,
      "outputs": []
    }
  ]
}