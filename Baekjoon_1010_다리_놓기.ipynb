{
  "nbformat": 4,
  "nbformat_minor": 0,
  "metadata": {
    "colab": {
      "name": "Baekjoon_1010_다리 놓기.ipynb",
      "provenance": [],
      "authorship_tag": "ABX9TyPwXqwow1LAoNXXLpbrlFNk",
      "include_colab_link": true
    },
    "kernelspec": {
      "name": "python3",
      "display_name": "Python 3"
    },
    "language_info": {
      "name": "python"
    }
  },
  "cells": [
    {
      "cell_type": "markdown",
      "metadata": {
        "id": "view-in-github",
        "colab_type": "text"
      },
      "source": [
        "<a href=\"https://colab.research.google.com/github/Vulter3653/python/blob/main/Baekjoon_1010_%EB%8B%A4%EB%A6%AC_%EB%86%93%EA%B8%B0.ipynb\" target=\"_parent\"><img src=\"https://colab.research.google.com/assets/colab-badge.svg\" alt=\"Open In Colab\"/></a>"
      ]
    },
    {
      "cell_type": "code",
      "execution_count": 8,
      "metadata": {
        "colab": {
          "base_uri": "https://localhost:8080/"
        },
        "id": "NvSPj3JpG64O",
        "outputId": "220188ec-f1c3-4c83-86e9-96406c5feb7e"
      },
      "outputs": [
        {
          "output_type": "stream",
          "name": "stdout",
          "text": [
            "1\n",
            "13 29\n",
            "67863915\n"
          ]
        }
      ],
      "source": [
        "import math\n",
        "T = int(input())\n",
        "\n",
        "for T in range(T):\n",
        "  N,M = map(int,input().split())\n",
        "  print(math.factorial(M)//(math.factorial(N)*math.factorial(M-N)))"
      ]
    },
    {
      "cell_type": "code",
      "source": [
        "import sys\n",
        "import math\n",
        "T = int(sys.stdin.readline())\n",
        "\n",
        "for T in range(T):\n",
        "  N,M = map(int,sys.stdin.readline().rstrip().split())\n",
        "  print(math.factorial(M)//(math.factorial(N)*math.factorial(M-N)))"
      ],
      "metadata": {
        "id": "FURPmEx6NbeR"
      },
      "execution_count": null,
      "outputs": []
    }
  ]
}