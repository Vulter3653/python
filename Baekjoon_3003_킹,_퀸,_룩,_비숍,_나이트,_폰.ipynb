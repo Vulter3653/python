{
  "nbformat": 4,
  "nbformat_minor": 0,
  "metadata": {
    "colab": {
      "provenance": [],
      "collapsed_sections": [],
      "authorship_tag": "ABX9TyNSz1DG/HRR9086eIJ4e27/",
      "include_colab_link": true
    },
    "kernelspec": {
      "name": "python3",
      "display_name": "Python 3"
    },
    "language_info": {
      "name": "python"
    }
  },
  "cells": [
    {
      "cell_type": "markdown",
      "metadata": {
        "id": "view-in-github",
        "colab_type": "text"
      },
      "source": [
        "<a href=\"https://colab.research.google.com/github/Vulter3653/python/blob/main/Baekjoon_3003_%ED%82%B9%2C_%ED%80%B8%2C_%EB%A3%A9%2C_%EB%B9%84%EC%88%8D%2C_%EB%82%98%EC%9D%B4%ED%8A%B8%2C_%ED%8F%B0.ipynb\" target=\"_parent\"><img src=\"https://colab.research.google.com/assets/colab-badge.svg\" alt=\"Open In Colab\"/></a>"
      ]
    },
    {
      "cell_type": "code",
      "execution_count": 3,
      "metadata": {
        "colab": {
          "base_uri": "https://localhost:8080/"
        },
        "id": "zbIsc_ugtNdv",
        "outputId": "1576ee8c-eb4f-4209-d501-258de5bc8614"
      },
      "outputs": [
        {
          "output_type": "stream",
          "name": "stdout",
          "text": [
            "0 1 2 2 2 7\n",
            "[1, 0, 0, 0, 0, 1]\n",
            "1 0 0 0 0 1\n"
          ]
        }
      ],
      "source": [
        "a = list(map(int,input().split()))\n",
        "\n",
        "b = [1,1,2,2,2,8]\n",
        "\n",
        "c = []\n",
        "\n",
        "for x in range(6):\n",
        "  y = b[x]-a[x]\n",
        "  c.append(y)\n",
        "\n",
        "d = str(c[0])\n",
        "c.remove(c[0])\n",
        "\n",
        "\n",
        "for x in range(len(c)):\n",
        "  d +=' '+str(c[x])\n",
        "\n",
        "print(d)"
      ]
    },
    {
      "cell_type": "code",
      "source": [
        "for _ in range(2):\n",
        "  a = list(map(int,input().split()))\n",
        "\n",
        "  b = [1,1,2,2,2,8]\n",
        "\n",
        "  c = []\n",
        "\n",
        "  for x in range(6):\n",
        "    y = b[x]-a[x]\n",
        "    c.append(y)\n",
        "\n",
        "  d = str(c[0])\n",
        "  c.remove(c[0])\n",
        "\n",
        "\n",
        "  for x in range(len(c)):\n",
        "    d +=' '+str(c[x])\n",
        "\n",
        "  print(d)"
      ],
      "metadata": {
        "colab": {
          "base_uri": "https://localhost:8080/"
        },
        "id": "cwtL4T0CvKqP",
        "outputId": "338f972f-d195-4b0c-fd7d-f5b3767d1bb3"
      },
      "execution_count": 4,
      "outputs": [
        {
          "output_type": "stream",
          "name": "stdout",
          "text": [
            "0 1 2 2 2 7\n",
            "1 0 0 0 0 1\n",
            "2 1 2 1 2 1\n",
            "-1 0 0 1 0 7\n"
          ]
        }
      ]
    }
  ]
}