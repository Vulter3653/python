{
  "nbformat": 4,
  "nbformat_minor": 0,
  "metadata": {
    "colab": {
      "name": "Baekjoon_1715_카드 정렬하기.ipynb",
      "provenance": [],
      "authorship_tag": "ABX9TyMFb8Vj47vcjkIlDvNLLLJ3",
      "include_colab_link": true
    },
    "kernelspec": {
      "name": "python3",
      "display_name": "Python 3"
    },
    "language_info": {
      "name": "python"
    }
  },
  "cells": [
    {
      "cell_type": "markdown",
      "metadata": {
        "id": "view-in-github",
        "colab_type": "text"
      },
      "source": [
        "<a href=\"https://colab.research.google.com/github/Vulter3653/python/blob/main/Baekjoon_1715_%EC%B9%B4%EB%93%9C_%EC%A0%95%EB%A0%AC%ED%95%98%EA%B8%B0.ipynb\" target=\"_parent\"><img src=\"https://colab.research.google.com/assets/colab-badge.svg\" alt=\"Open In Colab\"/></a>"
      ]
    },
    {
      "cell_type": "code",
      "execution_count": 15,
      "metadata": {
        "colab": {
          "base_uri": "https://localhost:8080/"
        },
        "id": "RjsuOSp8yKMy",
        "outputId": "af4e1805-f386-4797-cb49-319708af5744"
      },
      "outputs": [
        {
          "output_type": "stream",
          "name": "stdout",
          "text": [
            "4\n",
            "30\n",
            "40\n",
            "50\n",
            "60\n",
            "360\n"
          ]
        }
      ],
      "source": [
        "import heapq\n",
        "\n",
        "a = []\n",
        "\n",
        "for _ in range(int(input().rstrip())):\n",
        "  heapq.heappush(a, int(input().rstrip()))\n",
        "\n",
        "y =0\n",
        "\n",
        "for _ in range(len(a)):\n",
        "  try:\n",
        "    x = heapq.heappop(a)\n",
        "    x += heapq.heappop(a)\n",
        "    heapq.heappush(a, x)\n",
        "    y += x\n",
        "  except IndexError:\n",
        "    continue\n",
        "print(y)"
      ]
    },
    {
      "cell_type": "code",
      "source": [
        "import sys\n",
        "import heapq\n",
        "\n",
        "a = []\n",
        "\n",
        "for _ in range(int(sys.stdin.readline().rstrip())):\n",
        "  heapq.heappush(a, int(sys.stdin.readline().rstrip()))\n",
        "\n",
        "y =0\n",
        "\n",
        "for _ in range(len(a)):\n",
        "  try:\n",
        "    x = heapq.heappop(a)\n",
        "    x += heapq.heappop(a)\n",
        "    heapq.heappush(a, x)\n",
        "    y += x\n",
        "  except IndexError:\n",
        "    continue\n",
        "print(y)"
      ],
      "metadata": {
        "id": "lyUxn9GM4i59"
      },
      "execution_count": null,
      "outputs": []
    }
  ]
}