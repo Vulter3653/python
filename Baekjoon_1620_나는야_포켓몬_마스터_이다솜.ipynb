{
  "nbformat": 4,
  "nbformat_minor": 0,
  "metadata": {
    "colab": {
      "name": "Baekjoon_1620_나는야 포켓몬 마스터 이다솜.ipynb",
      "provenance": [],
      "collapsed_sections": [],
      "authorship_tag": "ABX9TyPt7kttlCqWoeMpwHlxHhHZ",
      "include_colab_link": true
    },
    "kernelspec": {
      "name": "python3",
      "display_name": "Python 3"
    },
    "language_info": {
      "name": "python"
    }
  },
  "cells": [
    {
      "cell_type": "markdown",
      "metadata": {
        "id": "view-in-github",
        "colab_type": "text"
      },
      "source": [
        "<a href=\"https://colab.research.google.com/github/Vulter3653/python/blob/main/Baekjoon_1620_%EB%82%98%EB%8A%94%EC%95%BC_%ED%8F%AC%EC%BC%93%EB%AA%AC_%EB%A7%88%EC%8A%A4%ED%84%B0_%EC%9D%B4%EB%8B%A4%EC%86%9C.ipynb\" target=\"_parent\"><img src=\"https://colab.research.google.com/assets/colab-badge.svg\" alt=\"Open In Colab\"/></a>"
      ]
    },
    {
      "cell_type": "code",
      "source": [
        "N,M = map(int, input().split())\n",
        "num = []\n",
        "poke = []\n",
        "\n",
        "for N in range(N):\n",
        "  poke.append(input().rstrip())\n",
        "  num.append(str(N+1))\n",
        "\n",
        "poke_dic = dict(zip(num,poke))\n",
        "print(poke_dic)\n",
        "\n",
        "for M in range(M):\n",
        "  x=input().rstrip()\n",
        "  if x in poke_dic.keys():\n",
        "    print(poke_dic[x])\n",
        "  else:\n",
        "    y=poke.index(x)\n",
        "    print(y+1)"
      ],
      "metadata": {
        "colab": {
          "base_uri": "https://localhost:8080/"
        },
        "id": "4P60ujPSSoZd",
        "outputId": "de1830dd-57da-4f92-d1bf-0297f7905305"
      },
      "execution_count": null,
      "outputs": [
        {
          "output_type": "stream",
          "name": "stdout",
          "text": [
            "26 5\n",
            "Bulbasaur\n",
            "Ivysaur\n",
            "Venusaur\n",
            "Charmander\n",
            "Charmeleon\n",
            "Charizard\n",
            "Squirtle\n",
            "Wartortle\n",
            "Blastoise\n",
            "Caterpie\n",
            "Metapod\n",
            "Butterfree\n",
            "Weedle\n",
            "Kakuna\n",
            "Beedrill\n",
            "Pidgey\n",
            "Pidgeotto\n",
            "Pidgeot\n",
            "Rattata\n",
            "Raticate\n",
            "Spearow\n",
            "Fearow\n",
            "Ekans\n",
            "Arbok\n",
            "Pikachu\n",
            "Raichu\n",
            "{'1': 'Bulbasaur', '2': 'Ivysaur', '3': 'Venusaur', '4': 'Charmander', '5': 'Charmeleon', '6': 'Charizard', '7': 'Squirtle', '8': 'Wartortle', '9': 'Blastoise', '10': 'Caterpie', '11': 'Metapod', '12': 'Butterfree', '13': 'Weedle', '14': 'Kakuna', '15': 'Beedrill', '16': 'Pidgey', '17': 'Pidgeotto', '18': 'Pidgeot', '19': 'Rattata', '20': 'Raticate', '21': 'Spearow', '22': 'Fearow', '23': 'Ekans', '24': 'Arbok', '25': 'Pikachu', '26': 'Raichu'}\n",
            "25\n",
            "Pikachu\n",
            "Raichu\n",
            "26\n",
            "3\n",
            "Venusaur\n",
            "Pidgey\n",
            "16\n",
            "Kakuna\n",
            "14\n"
          ]
        }
      ]
    },
    {
      "cell_type": "code",
      "source": [
        "#Python3 -> 시간초과, PyPy3 -> 맞았습니다!\n",
        "import sys\n",
        "\n",
        "N,M = map(int, sys.stdin.readline().split())\n",
        "num = []\n",
        "poke = []\n",
        "\n",
        "for N in range(N):\n",
        "  poke.append(sys.stdin.readline().rstrip())\n",
        "  num.append(str(N+1))\n",
        "\n",
        "poke_dic = dict(zip(num,poke))\n",
        "\n",
        "for M in range(M):\n",
        "  x=sys.stdin.readline().rstrip()\n",
        "  if x in poke_dic.keys():\n",
        "    print(poke_dic[x])\n",
        "  else:\n",
        "    y=poke.index(x)\n",
        "    print(y+1)"
      ],
      "metadata": {
        "id": "OqM8NYtzcN16"
      },
      "execution_count": null,
      "outputs": []
    },
    {
      "cell_type": "code",
      "source": [
        "N,M = map(int, input().split())\n",
        "num = []\n",
        "poke = []\n",
        "\n",
        "for N in range(N):\n",
        "  poke.append(input().rstrip())\n",
        "  num.append(str(N+1))\n",
        "\n",
        "poke_dic = dict(zip(num,poke))\n",
        "\n",
        "for M in range(M):\n",
        "  x=input().rstrip()\n",
        "  if x in poke_dic.keys():\n",
        "    print(poke_dic[x])\n",
        "  else:\n",
        "    y=poke.index(x)\n",
        "    print(y+1)"
      ],
      "metadata": {
        "id": "5vpfOUhhWwbn"
      },
      "execution_count": null,
      "outputs": []
    },
    {
      "cell_type": "code",
      "source": [
        "N,M = map(int, input().split())\n",
        "num = []\n",
        "poke = []\n",
        "\n",
        "for N in range(N):\n",
        "  poke.append(input().rstrip())\n",
        "  num.append(str(N+1))\n",
        "\n",
        "poke_dic = dict(zip(num,poke))\n",
        "print(poke_dic)\n",
        "\n",
        "for M in range(M):\n",
        "  x=input().rstrip()\n",
        "  if x in poke_dic.keys():\n",
        "    print(poke_dic[x])\n",
        "  else:\n",
        "    y=poke.index(x)\n",
        "    print(y+1)"
      ],
      "metadata": {
        "id": "OMcOwIuca_mU"
      },
      "execution_count": null,
      "outputs": []
    }
  ]
}