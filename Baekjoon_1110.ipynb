{
  "nbformat": 4,
  "nbformat_minor": 0,
  "metadata": {
    "colab": {
      "name": "Baekjoon_1110.ipynb",
      "provenance": [],
      "authorship_tag": "ABX9TyOlFm4ve8Cf7sTzAeY4ORkD",
      "include_colab_link": true
    },
    "kernelspec": {
      "name": "python3",
      "display_name": "Python 3"
    },
    "language_info": {
      "name": "python"
    }
  },
  "cells": [
    {
      "cell_type": "markdown",
      "metadata": {
        "id": "view-in-github",
        "colab_type": "text"
      },
      "source": [
        "<a href=\"https://colab.research.google.com/github/Vulter3653/python/blob/main/Baekjoon_1110.ipynb\" target=\"_parent\"><img src=\"https://colab.research.google.com/assets/colab-badge.svg\" alt=\"Open In Colab\"/></a>"
      ]
    },
    {
      "cell_type": "code",
      "execution_count": null,
      "metadata": {
        "id": "pgzOkORVhZ-n"
      },
      "outputs": [],
      "source": [
        "N = int(input())\n",
        "FirstN = N\n",
        "C = 0\n",
        "\n",
        "if 99 >= N >= 0:\n",
        "  while True: \n",
        "    if N < 10:\n",
        "      N = str(N).zfill(2)\n",
        "    else:\n",
        "      N = str(N)\n",
        "\n",
        "    N1 = int(N[0])\n",
        "    N2 = int(N[1])\n",
        "\n",
        "    Nadd = N1 + N2\n",
        "\n",
        "    if Nadd < 10:\n",
        "      Nadd = str(Nadd).zfill(2)\n",
        "\n",
        "    new = N[1] + str(Nadd)[1]\n",
        "    N = int(new)\n",
        "\n",
        "    C +=1 \n",
        "      \n",
        "    if N == FirstN:\n",
        "     print(C)\n",
        "     break"
      ]
    }
  ]
}