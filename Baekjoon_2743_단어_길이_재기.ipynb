{
  "nbformat": 4,
  "nbformat_minor": 0,
  "metadata": {
    "colab": {
      "name": "Baekjoon_2743_단어 길이 재기.ipynb",
      "provenance": [],
      "collapsed_sections": [],
      "authorship_tag": "ABX9TyMkxiF2gUQ4IIjpLtbWg1iE",
      "include_colab_link": true
    },
    "kernelspec": {
      "name": "python3",
      "display_name": "Python 3"
    },
    "language_info": {
      "name": "python"
    }
  },
  "cells": [
    {
      "cell_type": "markdown",
      "metadata": {
        "id": "view-in-github",
        "colab_type": "text"
      },
      "source": [
        "<a href=\"https://colab.research.google.com/github/Vulter3653/python/blob/main/Baekjoon_2743_%EB%8B%A8%EC%96%B4_%EA%B8%B8%EC%9D%B4_%EC%9E%AC%EA%B8%B0.ipynb\" target=\"_parent\"><img src=\"https://colab.research.google.com/assets/colab-badge.svg\" alt=\"Open In Colab\"/></a>"
      ]
    },
    {
      "cell_type": "code",
      "execution_count": 3,
      "metadata": {
        "colab": {
          "base_uri": "https://localhost:8080/"
        },
        "id": "nJqNBa0MZYbz",
        "outputId": "79533549-32ca-480a-f066-374a6315d807"
      },
      "outputs": [
        {
          "output_type": "stream",
          "name": "stdout",
          "text": [
            "pulljima\n",
            "8\n"
          ]
        }
      ],
      "source": [
        "print(len(input()))"
      ]
    },
    {
      "cell_type": "code",
      "source": [
        "import sys\n",
        "print(len(sys.stdin.readline().rstrip()))"
      ],
      "metadata": {
        "id": "08NtF0mrb3rz"
      },
      "execution_count": null,
      "outputs": []
    }
  ]
}