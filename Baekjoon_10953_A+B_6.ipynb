{
  "nbformat": 4,
  "nbformat_minor": 0,
  "metadata": {
    "colab": {
      "name": "Baekjoon_10953_A+B - 6.ipynb",
      "provenance": [],
      "collapsed_sections": [],
      "authorship_tag": "ABX9TyMG3cwMmXCsY3XnRhLFim7l",
      "include_colab_link": true
    },
    "kernelspec": {
      "name": "python3",
      "display_name": "Python 3"
    },
    "language_info": {
      "name": "python"
    }
  },
  "cells": [
    {
      "cell_type": "markdown",
      "metadata": {
        "id": "view-in-github",
        "colab_type": "text"
      },
      "source": [
        "<a href=\"https://colab.research.google.com/github/Vulter3653/python/blob/main/Baekjoon_10953_A%2BB_6.ipynb\" target=\"_parent\"><img src=\"https://colab.research.google.com/assets/colab-badge.svg\" alt=\"Open In Colab\"/></a>"
      ]
    },
    {
      "cell_type": "code",
      "execution_count": 5,
      "metadata": {
        "colab": {
          "base_uri": "https://localhost:8080/"
        },
        "id": "1HVEfCwGd7ab",
        "outputId": "edc34e42-74df-4389-e6a3-2fe5819ad34e"
      },
      "outputs": [
        {
          "output_type": "stream",
          "name": "stdout",
          "text": [
            "5\n",
            "1,1\n",
            "2\n",
            "2,3\n",
            "5\n",
            "3,4\n",
            "7\n",
            "9,8\n",
            "17\n",
            "5,2\n",
            "7\n"
          ]
        }
      ],
      "source": [
        "for _ in range(int(input().rstrip())):\n",
        "  a,b = map(int,input().rstrip().split(','))\n",
        "  print(a+b)"
      ]
    },
    {
      "cell_type": "code",
      "source": [
        "import sys\n",
        "\n",
        "for _ in range(int(sys.stdin.readline().rstrip())):\n",
        "  a,b = map(int,sys.stdin.readline().rstrip().split(','))\n",
        "  print(a+b)"
      ],
      "metadata": {
        "id": "reZL0Ee5fZKc"
      },
      "execution_count": null,
      "outputs": []
    }
  ]
}