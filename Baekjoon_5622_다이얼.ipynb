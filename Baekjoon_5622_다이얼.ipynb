{
  "nbformat": 4,
  "nbformat_minor": 0,
  "metadata": {
    "colab": {
      "provenance": [],
      "authorship_tag": "ABX9TyMLbNMZhxq9JNjl14MgFnsO",
      "include_colab_link": true
    },
    "kernelspec": {
      "name": "python3",
      "display_name": "Python 3"
    },
    "language_info": {
      "name": "python"
    }
  },
  "cells": [
    {
      "cell_type": "markdown",
      "metadata": {
        "id": "view-in-github",
        "colab_type": "text"
      },
      "source": [
        "<a href=\"https://colab.research.google.com/github/Vulter3653/python/blob/main/Baekjoon_5622_%EB%8B%A4%EC%9D%B4%EC%96%BC.ipynb\" target=\"_parent\"><img src=\"https://colab.research.google.com/assets/colab-badge.svg\" alt=\"Open In Colab\"/></a>"
      ]
    },
    {
      "cell_type": "code",
      "execution_count": 11,
      "metadata": {
        "colab": {
          "base_uri": "https://localhost:8080/"
        },
        "id": "HgeMUkdx3o-m",
        "outputId": "6a8c5dfc-4444-4a25-9e44-b9926280f80a"
      },
      "outputs": [
        {
          "output_type": "stream",
          "name": "stdout",
          "text": [
            "WA\n",
            "W\n",
            "A\n",
            "13\n"
          ]
        }
      ],
      "source": [
        "x = list(input())\n",
        "sum = 0\n",
        "\n",
        "for i in range(len(x)):\n",
        "  if x[i] == 'A' or x[i] == 'B' or x[i] == 'C':\n",
        "    sum += 3\n",
        "  elif x[i] == 'D' or x[i] == 'E' or x[i] == 'F':\n",
        "    sum += 4\n",
        "  elif x[i] == 'G' or x[i] == 'H' or x[i] == 'I':\n",
        "    sum += 5\n",
        "  elif x[i] == 'J' or x[i] == 'K' or x[i] == 'L':\n",
        "    sum += 6\n",
        "  elif x[i] == 'M' or x[i] == 'N' or x[i] == 'O':\n",
        "    sum += 7\n",
        "  elif x[i] == 'P' or x[i] == 'Q' or x[i] == 'R' or x[i] == 'S':\n",
        "    sum += 8\n",
        "  elif x[i] == 'T' or x[i] == 'U' or x[i] == 'V':\n",
        "    sum += 9\n",
        "  elif x[i] == 'W' or x[i] == 'X' or x[i] == 'Y' or x[i] =='Z':\n",
        "    sum += 10\n",
        "\n",
        "print(sum)"
      ]
    }
  ]
}