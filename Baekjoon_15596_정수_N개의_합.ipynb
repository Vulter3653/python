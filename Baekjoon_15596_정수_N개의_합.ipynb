{
  "nbformat": 4,
  "nbformat_minor": 0,
  "metadata": {
    "colab": {
      "name": "Baekjoon_15596_정수 N개의 합.ipynb",
      "provenance": [],
      "collapsed_sections": [],
      "authorship_tag": "ABX9TyOx6dfihZAVza8cstDZeIxX",
      "include_colab_link": true
    },
    "kernelspec": {
      "name": "python3",
      "display_name": "Python 3"
    },
    "language_info": {
      "name": "python"
    }
  },
  "cells": [
    {
      "cell_type": "markdown",
      "metadata": {
        "id": "view-in-github",
        "colab_type": "text"
      },
      "source": [
        "<a href=\"https://colab.research.google.com/github/Vulter3653/python/blob/main/Baekjoon_15596_%EC%A0%95%EC%88%98_N%EA%B0%9C%EC%9D%98_%ED%95%A9.ipynb\" target=\"_parent\"><img src=\"https://colab.research.google.com/assets/colab-badge.svg\" alt=\"Open In Colab\"/></a>"
      ]
    },
    {
      "cell_type": "code",
      "source": [
        "def solve(a):\n",
        "  ans = 0\n",
        "  a = list(map(int,a))\n",
        "  return sum(a)"
      ],
      "metadata": {
        "id": "BMgo7tZzbT0I"
      },
      "execution_count": null,
      "outputs": []
    },
    {
      "cell_type": "code",
      "execution_count": null,
      "metadata": {
        "id": "4AXc61QoSVWU"
      },
      "outputs": [],
      "source": [
        "def solve(a):\n",
        "  return sum(a)"
      ]
    }
  ]
}