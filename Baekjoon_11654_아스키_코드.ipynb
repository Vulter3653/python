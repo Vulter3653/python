{
  "nbformat": 4,
  "nbformat_minor": 0,
  "metadata": {
    "colab": {
      "name": "Baekjoon_11654_아스키 코드.ipynb",
      "provenance": [],
      "authorship_tag": "ABX9TyPxQQ4TFsKJ2EleALx4B9Sw",
      "include_colab_link": true
    },
    "kernelspec": {
      "name": "python3",
      "display_name": "Python 3"
    },
    "language_info": {
      "name": "python"
    }
  },
  "cells": [
    {
      "cell_type": "markdown",
      "metadata": {
        "id": "view-in-github",
        "colab_type": "text"
      },
      "source": [
        "<a href=\"https://colab.research.google.com/github/Vulter3653/python/blob/main/Baekjoon_11654_%EC%95%84%EC%8A%A4%ED%82%A4_%EC%BD%94%EB%93%9C.ipynb\" target=\"_parent\"><img src=\"https://colab.research.google.com/assets/colab-badge.svg\" alt=\"Open In Colab\"/></a>"
      ]
    },
    {
      "cell_type": "code",
      "execution_count": 13,
      "metadata": {
        "colab": {
          "base_uri": "https://localhost:8080/"
        },
        "id": "73EC01-sOr-W",
        "outputId": "1ad5ae1f-4db6-4511-e47d-f01c1c1cc39c"
      },
      "outputs": [
        {
          "output_type": "stream",
          "name": "stdout",
          "text": [
            "a\n",
            "97\n"
          ]
        }
      ],
      "source": [
        "print(ord(input().rstrip()))"
      ]
    },
    {
      "cell_type": "code",
      "source": [
        "import sys\n",
        "print(ord(sys.stdin.readline().rstrip()))"
      ],
      "metadata": {
        "id": "7DnCfViLWgs7"
      },
      "execution_count": null,
      "outputs": []
    }
  ]
}