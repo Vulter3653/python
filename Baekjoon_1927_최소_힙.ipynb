{
  "nbformat": 4,
  "nbformat_minor": 0,
  "metadata": {
    "colab": {
      "name": "Baekjoon_1927_최소 힙.ipynb",
      "provenance": [],
      "collapsed_sections": [],
      "authorship_tag": "ABX9TyOejOYL/i/y5t0SsrOaKxki",
      "include_colab_link": true
    },
    "kernelspec": {
      "name": "python3",
      "display_name": "Python 3"
    },
    "language_info": {
      "name": "python"
    }
  },
  "cells": [
    {
      "cell_type": "markdown",
      "metadata": {
        "id": "view-in-github",
        "colab_type": "text"
      },
      "source": [
        "<a href=\"https://colab.research.google.com/github/Vulter3653/python/blob/main/Baekjoon_1927_%EC%B5%9C%EC%86%8C_%ED%9E%99.ipynb\" target=\"_parent\"><img src=\"https://colab.research.google.com/assets/colab-badge.svg\" alt=\"Open In Colab\"/></a>"
      ]
    },
    {
      "cell_type": "code",
      "execution_count": 1,
      "metadata": {
        "id": "ON5b0gB-7wKb",
        "colab": {
          "base_uri": "https://localhost:8080/"
        },
        "outputId": "35fcf662-115a-4367-b00b-0b21694ecbe5"
      },
      "outputs": [
        {
          "name": "stdout",
          "output_type": "stream",
          "text": [
            "9\n",
            "0\n",
            "0\n",
            "12345678\n",
            "1\n",
            "2\n",
            "0\n",
            "1\n",
            "0\n",
            "2\n",
            "0\n",
            "12345678\n",
            "0\n",
            "0\n",
            "32\n"
          ]
        }
      ],
      "source": [
        "#직접 입력하는 경우\n",
        "import heapq\n",
        "\n",
        "arr = []\n",
        "\n",
        "for _ in range(int(input())):\n",
        "  x = int(input())\n",
        "\n",
        "  if x == 0:\n",
        "    if len(arr) == 0:\n",
        "      print(0)\n",
        "    else:\n",
        "      print(heapq.heappop(arr))\n",
        "  else:\n",
        "      heapq.heappush(arr, x)"
      ]
    },
    {
      "cell_type": "code",
      "source": [
        "import heapq\n",
        "import sys\n",
        "\n",
        "arr = []\n",
        "\n",
        "for _ in range(int(sys.stdin.readline())):\n",
        "  x = int(sys.stdin.readline())\n",
        "  if x == 0:\n",
        "    if len(arr) == 0:\n",
        "      print(0)\n",
        "    else:\n",
        "      print(heapq.heappop(arr))\n",
        "  else:\n",
        "      heapq.heappush(arr, x)"
      ],
      "metadata": {
        "id": "tz8YF1vW73dG"
      },
      "execution_count": null,
      "outputs": []
    }
  ]
}