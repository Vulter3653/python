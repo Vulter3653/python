{
  "nbformat": 4,
  "nbformat_minor": 0,
  "metadata": {
    "colab": {
      "provenance": [],
      "authorship_tag": "ABX9TyN4yDi1+fiSdbxL67H3yO2F",
      "include_colab_link": true
    },
    "kernelspec": {
      "name": "python3",
      "display_name": "Python 3"
    },
    "language_info": {
      "name": "python"
    }
  },
  "cells": [
    {
      "cell_type": "markdown",
      "metadata": {
        "id": "view-in-github",
        "colab_type": "text"
      },
      "source": [
        "<a href=\"https://colab.research.google.com/github/Vulter3653/python/blob/main/Baekjoon_10809_%EC%95%8C%ED%8C%8C%EB%B2%B3_%EC%B0%BE%EA%B8%B0.ipynb\" target=\"_parent\"><img src=\"https://colab.research.google.com/assets/colab-badge.svg\" alt=\"Open In Colab\"/></a>"
      ]
    },
    {
      "cell_type": "code",
      "execution_count": 5,
      "metadata": {
        "colab": {
          "base_uri": "https://localhost:8080/"
        },
        "id": "CXoFVqSblLf6",
        "outputId": "f5384848-6299-4fb8-d204-1555b0177f8c"
      },
      "outputs": [
        {
          "output_type": "stream",
          "name": "stdout",
          "text": [
            "baekjoon\n",
            "1 0 -1 -1 2 -1 -1 -1 -1 4 3 -1 -1 7 5 -1 -1 -1 -1 -1 -1 -1 -1 -1 -1 -1 "
          ]
        }
      ],
      "source": [
        "a = input()\n",
        "for x in range(97,123):\n",
        "    print(a.find(chr(x)),end=' ')"
      ]
    },
    {
      "cell_type": "code",
      "source": [
        "import sys\n",
        "a = sys.stdin.readline()\n",
        "for x in range(97,123):\n",
        "    print(a.find(chr(x)),end=' ')"
      ],
      "metadata": {
        "id": "XAb6wq5YqRV8"
      },
      "execution_count": null,
      "outputs": []
    }
  ]
}