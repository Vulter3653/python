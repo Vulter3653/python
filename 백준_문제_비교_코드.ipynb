{
  "nbformat": 4,
  "nbformat_minor": 0,
  "metadata": {
    "colab": {
      "name": "백준_문제 비교 코드.ipynb",
      "provenance": [],
      "authorship_tag": "ABX9TyO2qJIAL5Cs67fXE+/kjqYQ",
      "include_colab_link": true
    },
    "kernelspec": {
      "name": "python3",
      "display_name": "Python 3"
    },
    "language_info": {
      "name": "python"
    }
  },
  "cells": [
    {
      "cell_type": "markdown",
      "metadata": {
        "id": "view-in-github",
        "colab_type": "text"
      },
      "source": [
        "<a href=\"https://colab.research.google.com/github/Vulter3653/python/blob/main/%EB%B0%B1%EC%A4%80_%EB%AC%B8%EC%A0%9C_%EB%B9%84%EA%B5%90_%EC%BD%94%EB%93%9C.ipynb\" target=\"_parent\"><img src=\"https://colab.research.google.com/assets/colab-badge.svg\" alt=\"Open In Colab\"/></a>"
      ]
    },
    {
      "cell_type": "code",
      "execution_count": 1,
      "metadata": {
        "colab": {
          "base_uri": "https://localhost:8080/"
        },
        "id": "n2PQvRdfQ0kn",
        "outputId": "f6884d83-b309-4355-f06e-360edb1d44ca"
      },
      "outputs": [
        {
          "output_type": "stream",
          "name": "stdout",
          "text": [
            "shch3653 is more solved 2 problem than dooho0421\n",
            "Problem's number is {'2754', '1764'}\n"
          ]
        }
      ],
      "source": [
        "import requests\n",
        "from bs4 import BeautifulSoup\n",
        "\n",
        "def Baekjoon_Count(username):\n",
        "    problem_set = set([])\n",
        "    headerData = {'User-Agent': 'Mozilla/5.0'}\n",
        "    urlStr = 'https://www.acmicpc.net/user/'+username+''\n",
        "    resp = requests.get(urlStr, headers = headerData)\n",
        "    htmlText = resp.text\n",
        "\n",
        "    html_full_element = BeautifulSoup(htmlText, 'html.parser')\n",
        "    search_element_list = html_full_element.find_all('div',{'class':\"problem-list\"})\n",
        "    for search_element in search_element_list:\n",
        "        search_element_list2 = search_element.find_all('a')\n",
        "        for problem_num in search_element_list2:\n",
        "            problem_nums = problem_num.attrs['href']\n",
        "            problem_set.add(problem_nums[9:])\n",
        "    return problem_set\n",
        "\n",
        "def Baekjoon_compare (my_Name,other_Name):\n",
        "    if len(Baekjoon_Count(my_Name)) > len(Baekjoon_Count(other_Name)):\n",
        "        print(my_Name+\" is more solved \"+str(len(Baekjoon_Count(my_Name) - Baekjoon_Count(other_Name)))+\" problem than \"+other_Name)\n",
        "        print(\"Problem's number is \"+str(Baekjoon_Count(my_Name) - Baekjoon_Count(other_Name)))\n",
        "    elif len(Baekjoon_Count(my_Name)) == len(Baekjoon_Count(other_Name)):\n",
        "        print(my_Name +\"&\"+other_Name +\" : solved same number of problems\")\n",
        "        if Baekjoon_Count(my_Name) == Baekjoon_Count(other_Name):\n",
        "            print(\"And \"+my_Name +\"&\"+other_Name+\" : solved same problems LOL :)\")\n",
        "        else:\n",
        "            print(\"But \" + my_Name + \"&\" + other_Name + \" : solved other problems, problem's num is \"+str(Baekjoon_Count(my_Name) - Baekjoon_Count(other_Name)))\n",
        "    else:\n",
        "        print(other_Name+\" is more solved \"+str(len(Baekjoon_Count(other_Name) - Baekjoon_Count(my_Name)))+\" problem than \"+my_Name)\n",
        "        print(\"Problem's number is \"+str(Baekjoon_Count(other_Name) - Baekjoon_Count(my_Name)))\n",
        "\n",
        "Baekjoon_compare('shch3653','dooho0421')"
      ]
    }
  ]
}