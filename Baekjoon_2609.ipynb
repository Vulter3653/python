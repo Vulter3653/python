{
  "nbformat": 4,
  "nbformat_minor": 0,
  "metadata": {
    "colab": {
      "name": "Baekjoon_2609.ipynb",
      "provenance": [],
      "authorship_tag": "ABX9TyMIKPUq6gqOJ4sIASUBtyhq",
      "include_colab_link": true
    },
    "kernelspec": {
      "name": "python3",
      "display_name": "Python 3"
    },
    "language_info": {
      "name": "python"
    }
  },
  "cells": [
    {
      "cell_type": "markdown",
      "metadata": {
        "id": "view-in-github",
        "colab_type": "text"
      },
      "source": [
        "<a href=\"https://colab.research.google.com/github/Vulter3653/python/blob/main/Baekjoon_2609.ipynb\" target=\"_parent\"><img src=\"https://colab.research.google.com/assets/colab-badge.svg\" alt=\"Open In Colab\"/></a>"
      ]
    },
    {
      "cell_type": "code",
      "execution_count": 11,
      "metadata": {
        "colab": {
          "base_uri": "https://localhost:8080/"
        },
        "id": "ZE1e0IhH1h9x",
        "outputId": "a6faf89c-07cf-4a10-ad0c-ea0d214f9cf8"
      },
      "outputs": [
        {
          "output_type": "stream",
          "name": "stdout",
          "text": [
            "24 18\n",
            "6\n",
            "72\n"
          ]
        }
      ],
      "source": [
        "a,b= map(int,input().split())\n",
        "\n",
        "c = []\n",
        "\n",
        "for i in range(1,a+1):\n",
        "  if (a % i == 0) & (b % i == 0):\n",
        "    c.append(i)\n",
        "    \n",
        "for f in range(1,a*b):\n",
        "  if (f % a == 0) & (f % b == 0):\n",
        "    y = f\n",
        "    break\n",
        "\n",
        "x = c.pop()\n",
        "\n",
        "print(x)\n",
        "print(y)"
      ]
    },
    {
      "cell_type": "code",
      "source": [
        "a,b= map(int,input().split())\n",
        "\n",
        "a_multi = set([])\n",
        "for i in range(1, b+1):\n",
        "  a_multi.add(a * i)\n",
        "    \n",
        "b_multi = set([])\n",
        "for i in range(1, a+1):\n",
        "  b_multi.add(b * i)\n",
        "\n",
        "common = set(a_multi) & set(b_multi)\n",
        "print(min(list(common))) "
      ],
      "metadata": {
        "colab": {
          "base_uri": "https://localhost:8080/"
        },
        "id": "vikVefFD9Rsz",
        "outputId": "cd1d3fea-2546-423f-b559-571e32b9533b"
      },
      "execution_count": 16,
      "outputs": [
        {
          "output_type": "stream",
          "name": "stdout",
          "text": [
            "24 18\n",
            "72\n"
          ]
        }
      ]
    },
    {
      "cell_type": "code",
      "source": [
        "a,b= map(int,input().split())\n",
        "\n",
        "c = []\n",
        "\n",
        "for i in range(1,a+1):\n",
        "  if (a % i == 0) & (b % i == 0):\n",
        "    c.append(i)\n",
        "    \n",
        "a_multi = set([])\n",
        "for i in range(1, b+1):\n",
        "  a_multi.add(a * i)\n",
        "    \n",
        "b_multi = set([])\n",
        "for i in range(1, a+1):\n",
        "  b_multi.add(b * i)\n",
        "\n",
        "y = set(a_multi) & set(b_multi)\n",
        "\n",
        "x = c.pop()\n",
        "\n",
        "print(x)\n",
        "print(min(list(y)))"
      ],
      "metadata": {
        "colab": {
          "base_uri": "https://localhost:8080/"
        },
        "id": "dPtxIHxD9rjU",
        "outputId": "029c6d73-52ad-4372-c459-6cd2ceab1e6f"
      },
      "execution_count": 17,
      "outputs": [
        {
          "output_type": "stream",
          "name": "stdout",
          "text": [
            "24 18\n",
            "6\n",
            "72\n"
          ]
        }
      ]
    },
    {
      "cell_type": "markdown",
      "source": [
        ""
      ],
      "metadata": {
        "id": "8hlkZNGk96Tj"
      }
    }
  ]
}