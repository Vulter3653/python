{
  "nbformat": 4,
  "nbformat_minor": 0,
  "metadata": {
    "colab": {
      "name": "Baekjoon_2857_FBI.ipynb",
      "provenance": [],
      "authorship_tag": "ABX9TyOEtO6bda0ORMA17AmISZJ6",
      "include_colab_link": true
    },
    "kernelspec": {
      "name": "python3",
      "display_name": "Python 3"
    },
    "language_info": {
      "name": "python"
    }
  },
  "cells": [
    {
      "cell_type": "markdown",
      "metadata": {
        "id": "view-in-github",
        "colab_type": "text"
      },
      "source": [
        "<a href=\"https://colab.research.google.com/github/Vulter3653/python/blob/main/Baekjoon_2857_FBI.ipynb\" target=\"_parent\"><img src=\"https://colab.research.google.com/assets/colab-badge.svg\" alt=\"Open In Colab\"/></a>"
      ]
    },
    {
      "cell_type": "code",
      "execution_count": null,
      "metadata": {
        "colab": {
          "base_uri": "https://localhost:8080/"
        },
        "id": "4W0DYUqYBiC8",
        "outputId": "903bcef9-7ecb-4685-9487-033f3285ec05"
      },
      "outputs": [
        {
          "output_type": "stream",
          "name": "stdout",
          "text": [
            "47-FBI\n",
            "BOND-007\n",
            "RF-FBI18\n",
            "MARICA-13\n",
            "13A-FBILL\n",
            "1 3 5\n"
          ]
        }
      ],
      "source": [
        "from collections import deque\n",
        "\n",
        "a = []\n",
        "for _ in range(5):\n",
        "  a.append(input().rstrip())\n",
        "\n",
        "a = deque(a)\n",
        "cnt = deque([])\n",
        "for j in range(1,len(a)+1):\n",
        "  x = a.popleft()\n",
        "  for z in range(len(x)):\n",
        "    try:\n",
        "      if x[z:z+3] == 'FBI':\n",
        "        cnt.append(j)\n",
        "        break\n",
        "    except IndexError:\n",
        "      continue\n",
        "\n",
        "if len(cnt) == 0:\n",
        "  print('HE GOT AWAY!')      \n",
        "else:\n",
        "  ans = str(cnt.popleft())\n",
        "  for _ in range(len(cnt)):\n",
        "    ans += \" \" +str(cnt.popleft())\n",
        "  print(ans)"
      ]
    },
    {
      "cell_type": "code",
      "source": [
        "import sys\n",
        "from collections import deque\n",
        "\n",
        "a = []\n",
        "for _ in range(5):\n",
        "  a.append(sys.stdin.readline().rstrip())\n",
        "\n",
        "a = deque(a)\n",
        "cnt = deque([])\n",
        "for j in range(1,len(a)+1):\n",
        "  x = a.popleft()\n",
        "  for z in range(len(x)):\n",
        "    try:\n",
        "      if x[z:z+3] == 'FBI':\n",
        "        cnt.append(j)\n",
        "        break\n",
        "    except IndexError:\n",
        "      continue\n",
        "\n",
        "if len(cnt) == 0:\n",
        "  print('HE GOT AWAY!')      \n",
        "else:\n",
        "  ans = str(cnt.popleft())\n",
        "  for _ in range(len(cnt)):\n",
        "    ans += \" \" +str(cnt.popleft())\n",
        "  print(ans)"
      ],
      "metadata": {
        "id": "1XA5fNByNQTd"
      },
      "execution_count": null,
      "outputs": []
    }
  ]
}