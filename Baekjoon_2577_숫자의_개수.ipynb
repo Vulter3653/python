{
  "nbformat": 4,
  "nbformat_minor": 0,
  "metadata": {
    "colab": {
      "name": "Baekjoon_2577_숫자의 개수.ipynb",
      "provenance": [],
      "collapsed_sections": [],
      "authorship_tag": "ABX9TyNDaveXqYK/rbu4qizm4WPE",
      "include_colab_link": true
    },
    "kernelspec": {
      "name": "python3",
      "display_name": "Python 3"
    },
    "language_info": {
      "name": "python"
    }
  },
  "cells": [
    {
      "cell_type": "markdown",
      "metadata": {
        "id": "view-in-github",
        "colab_type": "text"
      },
      "source": [
        "<a href=\"https://colab.research.google.com/github/Vulter3653/python/blob/main/Baekjoon_2577_%EC%88%AB%EC%9E%90%EC%9D%98_%EA%B0%9C%EC%88%98.ipynb\" target=\"_parent\"><img src=\"https://colab.research.google.com/assets/colab-badge.svg\" alt=\"Open In Colab\"/></a>"
      ]
    },
    {
      "cell_type": "code",
      "execution_count": 6,
      "metadata": {
        "colab": {
          "base_uri": "https://localhost:8080/"
        },
        "id": "vVJDjjMuWW2U",
        "outputId": "351d92da-b647-4576-cf3c-005cad5698d0"
      },
      "outputs": [
        {
          "output_type": "stream",
          "name": "stdout",
          "text": [
            "150\n",
            "266\n",
            "427\n",
            "3\n",
            "1\n",
            "0\n",
            "2\n",
            "0\n",
            "0\n",
            "0\n",
            "2\n",
            "0\n",
            "0\n"
          ]
        }
      ],
      "source": [
        "a = 1\n",
        "for _ in range(3):\n",
        "  a *= int(input().rstrip())\n",
        "\n",
        "k = list(str(a))\n",
        "k = list(map(int,k))\n",
        "\n",
        "for x in range(0,10):\n",
        "  print(k.count(x))"
      ]
    },
    {
      "cell_type": "code",
      "source": [
        "import sys\n",
        "\n",
        "a = 1\n",
        "for _ in range(3):\n",
        "  a *= int(sys.stdin.readline().rstrip())\n",
        "\n",
        "k = list(str(a))\n",
        "k = list(map(int,k))\n",
        "\n",
        "for x in range(0,10):\n",
        "  print(k.count(x))"
      ],
      "metadata": {
        "id": "eTkpM7QhX8Tn"
      },
      "execution_count": null,
      "outputs": []
    }
  ]
}