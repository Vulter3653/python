{
  "nbformat": 4,
  "nbformat_minor": 0,
  "metadata": {
    "colab": {
      "name": "Baekjoon_9046_복호화.ipynb",
      "provenance": [],
      "collapsed_sections": [],
      "authorship_tag": "ABX9TyNg7BON4nibr+Vpyb0rIACQ",
      "include_colab_link": true
    },
    "kernelspec": {
      "name": "python3",
      "display_name": "Python 3"
    },
    "language_info": {
      "name": "python"
    }
  },
  "cells": [
    {
      "cell_type": "markdown",
      "metadata": {
        "id": "view-in-github",
        "colab_type": "text"
      },
      "source": [
        "<a href=\"https://colab.research.google.com/github/Vulter3653/python/blob/main/Baekjoon_9046_%EB%B3%B5%ED%98%B8%ED%99%94.ipynb\" target=\"_parent\"><img src=\"https://colab.research.google.com/assets/colab-badge.svg\" alt=\"Open In Colab\"/></a>"
      ]
    },
    {
      "cell_type": "code",
      "source": [
        "from collections import Counter\n",
        "\n",
        "x = int(input())\n",
        "\n",
        "for x in range(x):\n",
        "  y = input()\n",
        "  y = y.replace(\" \",\"\")\n",
        "  cnt = Counter(y)\n",
        "  z = cnt.most_common()\n",
        "  try:\n",
        "    if z[0][1] == z[1][1]:\n",
        "      print('?')\n",
        "    else:\n",
        "      print(z[0][0])\n",
        "  except IndexError:\n",
        "    print(z[0][0])"
      ],
      "metadata": {
        "colab": {
          "base_uri": "https://localhost:8080/"
        },
        "id": "LXDh8JdT7VqT",
        "outputId": "723d8da6-1f3a-4e85-93b5-fada138adde2"
      },
      "execution_count": null,
      "outputs": [
        {
          "output_type": "stream",
          "name": "stdout",
          "text": [
            "1\n",
            "AAAA\n",
            "A\n"
          ]
        }
      ]
    }
  ]
}