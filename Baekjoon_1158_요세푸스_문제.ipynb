{
  "nbformat": 4,
  "nbformat_minor": 0,
  "metadata": {
    "colab": {
      "name": "Baekjoon_1158_요세푸스 문제.ipynb",
      "provenance": [],
      "authorship_tag": "ABX9TyNK8fQ38o9dANp5lMEbHZDm",
      "include_colab_link": true
    },
    "kernelspec": {
      "name": "python3",
      "display_name": "Python 3"
    },
    "language_info": {
      "name": "python"
    }
  },
  "cells": [
    {
      "cell_type": "markdown",
      "metadata": {
        "id": "view-in-github",
        "colab_type": "text"
      },
      "source": [
        "<a href=\"https://colab.research.google.com/github/Vulter3653/python/blob/main/Baekjoon_1158_%EC%9A%94%EC%84%B8%ED%91%B8%EC%8A%A4_%EB%AC%B8%EC%A0%9C.ipynb\" target=\"_parent\"><img src=\"https://colab.research.google.com/assets/colab-badge.svg\" alt=\"Open In Colab\"/></a>"
      ]
    },
    {
      "cell_type": "code",
      "execution_count": null,
      "metadata": {
        "id": "EjTjpzG4G4pj"
      },
      "outputs": [],
      "source": [
        "from collections import deque\n",
        "\n",
        "a,b = map(int,input().rstrip().split())\n",
        "\n",
        "a = deque(range(1,a+1))\n",
        "\n",
        "x = deque([])\n",
        "while len(a) != 0:\n",
        "  a.rotate(-(b-1))\n",
        "  x.append(a.popleft())\n",
        "\n",
        "y = \"<\"+str(x.popleft())\n",
        "\n",
        "for _ in range(len(x)):\n",
        "  y += \", \"+str(x.popleft())\n",
        "\n",
        "y+=\">\"\n",
        "\n",
        "print(y)"
      ]
    },
    {
      "cell_type": "code",
      "source": [
        "from collections import deque\n",
        "import sys\n",
        "\n",
        "a,b = map(int,sys.stdin.readline().rstrip().split())\n",
        "\n",
        "a = deque(range(1,a+1))\n",
        "\n",
        "x = deque([])\n",
        "while len(a) != 0:\n",
        "  a.rotate(-(b-1))\n",
        "  x.append(a.popleft())\n",
        "\n",
        "y = \"<\"+str(x.popleft())\n",
        "\n",
        "for _ in range(len(x)):\n",
        "  y += \", \"+str(x.popleft())\n",
        "\n",
        "y+=\">\"\n",
        "\n",
        "print(y)"
      ],
      "metadata": {
        "id": "3Za-LMbsHGRT"
      },
      "execution_count": null,
      "outputs": []
    }
  ]
}