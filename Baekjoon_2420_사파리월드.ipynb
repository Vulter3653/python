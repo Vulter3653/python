{
  "nbformat": 4,
  "nbformat_minor": 0,
  "metadata": {
    "colab": {
      "name": "Baekjoon_2420_사파리월드.ipynb",
      "provenance": [],
      "collapsed_sections": [],
      "authorship_tag": "ABX9TyN/QWqrQpxkUrGNu+1UJbHD",
      "include_colab_link": true
    },
    "kernelspec": {
      "name": "python3",
      "display_name": "Python 3"
    },
    "language_info": {
      "name": "python"
    }
  },
  "cells": [
    {
      "cell_type": "markdown",
      "metadata": {
        "id": "view-in-github",
        "colab_type": "text"
      },
      "source": [
        "<a href=\"https://colab.research.google.com/github/Vulter3653/python/blob/main/Baekjoon_2420_%EC%82%AC%ED%8C%8C%EB%A6%AC%EC%9B%94%EB%93%9C.ipynb\" target=\"_parent\"><img src=\"https://colab.research.google.com/assets/colab-badge.svg\" alt=\"Open In Colab\"/></a>"
      ]
    },
    {
      "cell_type": "code",
      "execution_count": 1,
      "metadata": {
        "colab": {
          "base_uri": "https://localhost:8080/"
        },
        "id": "iOWztZZkYhGg",
        "outputId": "7fe06635-2597-4ceb-a91f-82511bc72938"
      },
      "outputs": [
        {
          "output_type": "stream",
          "name": "stdout",
          "text": [
            "-2 5\n",
            "7\n"
          ]
        }
      ],
      "source": [
        "n,m=map(int,input().split())\n",
        "print(abs(n-m))"
      ]
    },
    {
      "cell_type": "code",
      "source": [
        "import sys\n",
        "n,m=map(int,sys.stdin.readline().rstrip().split())\n",
        "print(abs(n-m))"
      ],
      "metadata": {
        "id": "8D6Fwkf1Y9Jm"
      },
      "execution_count": null,
      "outputs": []
    }
  ]
}