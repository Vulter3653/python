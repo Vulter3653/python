{
  "nbformat": 4,
  "nbformat_minor": 0,
  "metadata": {
    "colab": {
      "name": "start_blog.ipynb",
      "provenance": [],
      "authorship_tag": "ABX9TyP0JdOTStudZv3Rii1SeFJn",
      "include_colab_link": true
    },
    "kernelspec": {
      "name": "python3",
      "display_name": "Python 3"
    },
    "language_info": {
      "name": "python"
    }
  },
  "cells": [
    {
      "cell_type": "markdown",
      "metadata": {
        "id": "view-in-github",
        "colab_type": "text"
      },
      "source": [
        "<a href=\"https://colab.research.google.com/github/Vulter3653/python/blob/main/start_blog.ipynb\" target=\"_parent\"><img src=\"https://colab.research.google.com/assets/colab-badge.svg\" alt=\"Open In Colab\"/></a>"
      ]
    },
    {
      "cell_type": "code",
      "execution_count": null,
      "metadata": {
        "colab": {
          "base_uri": "https://localhost:8080/"
        },
        "id": "i0w-w-_KteHt",
        "outputId": "a556ea8e-2c92-46a9-d92a-c78f09cd901c"
      },
      "outputs": [
        {
          "output_type": "stream",
          "name": "stdout",
          "text": [
            "110\n",
            "11.0\n",
            "1.0\n",
            "10.0\n",
            "110\n",
            "11.0\n",
            "1.0\n",
            "10.0\n"
          ]
        }
      ],
      "source": [
        "#####case1. 변수가 없는 경우##############################\n",
        "\n",
        "print(100+10)\n",
        "print((100+10)/10)\n",
        "print(((100+10)/10)-10)\n",
        "print((((100+10)/10)-10)*10)\n",
        "\n",
        "#####case2. 변수가 있는 경우 ##################################\n",
        "\n",
        "a = 100 + 10\n",
        "print(a)\n",
        "a = a/10\n",
        "print(a)\n",
        "a = a-10\n",
        "print(a)\n",
        "a = a *10\n",
        "print(a)"
      ]
    },
    {
      "cell_type": "code",
      "source": [
        ""
      ],
      "metadata": {
        "id": "A6BZbhS33F1a"
      },
      "execution_count": null,
      "outputs": []
    },
    {
      "cell_type": "code",
      "source": [
        "#정수형(int)\n",
        "a = 1\n",
        "b = 23\n",
        "c = -23\n",
        "d = 0\n",
        "print(type(a))\n",
        "print(type(b))\n",
        "print(type(c))\n",
        "print(type(d))"
      ],
      "metadata": {
        "colab": {
          "base_uri": "https://localhost:8080/"
        },
        "id": "dBnhpLAhti0l",
        "outputId": "b0c71a05-3288-4e8e-f312-f5e94d17e8c2"
      },
      "execution_count": null,
      "outputs": [
        {
          "output_type": "stream",
          "name": "stdout",
          "text": [
            "<class 'int'>\n",
            "<class 'int'>\n",
            "<class 'int'>\n",
            "<class 'int'>\n"
          ]
        }
      ]
    },
    {
      "cell_type": "code",
      "source": [
        "#소수형(float)\n",
        "a = 1.0\n",
        "b = 0.342\n",
        "c = 0.0\n",
        "d = -34.23\n",
        "print(type(a))\n",
        "print(type(b))\n",
        "print(type(c))\n",
        "print(type(d))"
      ],
      "metadata": {
        "colab": {
          "base_uri": "https://localhost:8080/"
        },
        "id": "KrhtUd51wIPu",
        "outputId": "9599a644-41ca-4a46-a1dd-6196f1047979"
      },
      "execution_count": null,
      "outputs": [
        {
          "output_type": "stream",
          "name": "stdout",
          "text": [
            "<class 'float'>\n",
            "<class 'float'>\n",
            "<class 'float'>\n",
            "<class 'float'>\n"
          ]
        }
      ]
    },
    {
      "cell_type": "code",
      "source": [
        "#수치형의 연산\n",
        "#+(더하기)\n",
        "print(1+2)\n",
        "#-(빼기)\n",
        "print(1-2)\n",
        "#*(곱하기)\n",
        "print(1/2)\n",
        "#/(나누기)\n",
        "print(1/2.0)\n",
        "#%(나누고 나서 그 몫에 해당하는 값)\n",
        "print(1%2)"
      ],
      "metadata": {
        "colab": {
          "base_uri": "https://localhost:8080/"
        },
        "id": "GHs6VD4Mw7id",
        "outputId": "22aa6feb-3d0a-4753-af34-06573f6549b3"
      },
      "execution_count": null,
      "outputs": [
        {
          "output_type": "stream",
          "name": "stdout",
          "text": [
            "3\n",
            "-1\n",
            "0.5\n",
            "0.5\n",
            "1\n"
          ]
        }
      ]
    },
    {
      "cell_type": "code",
      "source": [
        "#문자형(str)\n",
        "a = \"안녕\"\n",
        "b = \"abcde\"\n",
        "c = '34'\n",
        "d = '0.343'\n",
        "print(type(a))\n",
        "print(type(b))\n",
        "print(type(c))\n",
        "print(type(d))"
      ],
      "metadata": {
        "colab": {
          "base_uri": "https://localhost:8080/"
        },
        "id": "ph0Rcbvwyu9D",
        "outputId": "08e92b44-f423-46d0-ab42-e025210631bd"
      },
      "execution_count": null,
      "outputs": [
        {
          "output_type": "stream",
          "name": "stdout",
          "text": [
            "<class 'str'>\n",
            "<class 'str'>\n",
            "<class 'str'>\n",
            "<class 'str'>\n"
          ]
        }
      ]
    },
    {
      "cell_type": "code",
      "source": [
        "#문자형의 연산자\n",
        "print(\"여\"+\"름\")\n",
        "print(\"사이람\"*5)"
      ],
      "metadata": {
        "colab": {
          "base_uri": "https://localhost:8080/"
        },
        "id": "MEnnRreg0FkJ",
        "outputId": "35244f8a-52c3-4fa9-c668-458425e9e9db"
      },
      "execution_count": null,
      "outputs": [
        {
          "output_type": "stream",
          "name": "stdout",
          "text": [
            "여름\n",
            "사이람사이람사이람사이람사이람\n"
          ]
        }
      ]
    },
    {
      "cell_type": "code",
      "source": [
        "print((\"d\"+\"f\")*2)"
      ],
      "metadata": {
        "colab": {
          "base_uri": "https://localhost:8080/"
        },
        "id": "kgfVq3Cw1LDV",
        "outputId": "d6a8dd8a-db82-4ebe-9818-98098186b194"
      },
      "execution_count": null,
      "outputs": [
        {
          "output_type": "stream",
          "name": "stdout",
          "text": [
            "dfdf\n"
          ]
        }
      ]
    },
    {
      "cell_type": "code",
      "source": [
        "#문자형의 특수문자\n",
        "print(\"안녕\\n하세요\")\n",
        "print('안녕\\t하세요')"
      ],
      "metadata": {
        "colab": {
          "base_uri": "https://localhost:8080/"
        },
        "id": "ZVJjBSM616uK",
        "outputId": "43749027-9e32-4185-8888-601a3b7b51ac"
      },
      "execution_count": null,
      "outputs": [
        {
          "output_type": "stream",
          "name": "stdout",
          "text": [
            "안녕\n",
            "하세요\n",
            "안녕\t하세요\n"
          ]
        }
      ]
    },
    {
      "cell_type": "code",
      "source": [
        "#raw문자열 표현 \n",
        "print(r\"안녕\\n하세요\")"
      ],
      "metadata": {
        "colab": {
          "base_uri": "https://localhost:8080/"
        },
        "id": "w6Qunr8h2l-U",
        "outputId": "3f299112-367c-4c32-87a2-60aa4ac301a6"
      },
      "execution_count": null,
      "outputs": [
        {
          "output_type": "stream",
          "name": "stdout",
          "text": [
            "안녕\\n하세요\n"
          ]
        }
      ]
    },
    {
      "cell_type": "code",
      "source": [
        "filePath = r\"c:\\nds\\tab\\sss.txt\"\n",
        "print(filePath)"
      ],
      "metadata": {
        "colab": {
          "base_uri": "https://localhost:8080/"
        },
        "id": "r81OnsOV26wE",
        "outputId": "76986c1e-2a3f-4f1f-c602-079526d1a56e"
      },
      "execution_count": null,
      "outputs": [
        {
          "output_type": "stream",
          "name": "stdout",
          "text": [
            "c:\\nds\\tab\\sss.txt\n"
          ]
        }
      ]
    },
    {
      "cell_type": "code",
      "source": [
        "#'\\\\'두 번 입력해주면 이를 raw문자열 표현과 같아진다.\n",
        "print(\"안녕\\\\n하세요\")"
      ],
      "metadata": {
        "colab": {
          "base_uri": "https://localhost:8080/"
        },
        "id": "j5tdaiVt4Crv",
        "outputId": "3c327357-3276-4a70-87e9-a32ccbbae31a"
      },
      "execution_count": null,
      "outputs": [
        {
          "output_type": "stream",
          "name": "stdout",
          "text": [
            "안녕\\n하세요\n"
          ]
        }
      ]
    },
    {
      "cell_type": "code",
      "source": [
        "#문자열의 부분값 추출(인덱싱)\n",
        "a=\"hello\"\n",
        "\n",
        "print(a[0])\n",
        "print(a[-1])"
      ],
      "metadata": {
        "colab": {
          "base_uri": "https://localhost:8080/"
        },
        "id": "u_wF12_e4vje",
        "outputId": "09768b86-d0b1-47d1-c641-e23be8abd77b"
      },
      "execution_count": null,
      "outputs": [
        {
          "output_type": "stream",
          "name": "stdout",
          "text": [
            "h\n",
            "o\n"
          ]
        }
      ]
    },
    {
      "cell_type": "code",
      "source": [
        "#문자열의 부분값 추출(슬라이싱)\n",
        "a=\"hello\"\n",
        "\n",
        "print(a[0:1])\n",
        "print(a[:-2])\n",
        "print(a[:-1])"
      ],
      "metadata": {
        "colab": {
          "base_uri": "https://localhost:8080/"
        },
        "id": "8NyEmFwc6ONG",
        "outputId": "a2ffc8d5-fab7-4ee7-c613-13d42926468e"
      },
      "execution_count": null,
      "outputs": [
        {
          "output_type": "stream",
          "name": "stdout",
          "text": [
            "h\n",
            "hel\n",
            "hell\n"
          ]
        }
      ]
    },
    {
      "cell_type": "code",
      "source": [
        "#replace(문자바꾸기)\n",
        "a=\"hello\"\n",
        "\n",
        "print(a.replace(\"l\",'w'))\n",
        "print(a.replace(a[0],'d'))\n",
        "print(a.replace(a[-1],'k'))"
      ],
      "metadata": {
        "colab": {
          "base_uri": "https://localhost:8080/"
        },
        "id": "m87nHMVa8iCL",
        "outputId": "b3959431-33f2-43b7-fb97-3d5768a7eb8d"
      },
      "execution_count": null,
      "outputs": [
        {
          "output_type": "stream",
          "name": "stdout",
          "text": [
            "hewwo\n",
            "dello\n",
            "hellk\n"
          ]
        }
      ]
    },
    {
      "cell_type": "code",
      "source": [
        "#split(문자 구분하기)\n",
        "a=\"hello\"\n",
        "\n",
        "b=a.split(\"e\")\n",
        "print(b)"
      ],
      "metadata": {
        "colab": {
          "base_uri": "https://localhost:8080/"
        },
        "id": "CkHsoi7N9y_V",
        "outputId": "10f01cf4-3327-44b2-c60f-685a2c328e93"
      },
      "execution_count": null,
      "outputs": [
        {
          "output_type": "stream",
          "name": "stdout",
          "text": [
            "['h', 'llo']\n"
          ]
        }
      ]
    },
    {
      "cell_type": "code",
      "source": [
        "#index(문자위치)\n",
        "a = \"hello\"\n",
        "\n",
        "b = a.index(\"e\")\n",
        "print(b)"
      ],
      "metadata": {
        "colab": {
          "base_uri": "https://localhost:8080/"
        },
        "id": "N3IY2QWaAdWe",
        "outputId": "17d955a4-fa0c-4e1f-d64f-edccb898091a"
      },
      "execution_count": null,
      "outputs": [
        {
          "output_type": "stream",
          "name": "stdout",
          "text": [
            "1\n"
          ]
        }
      ]
    },
    {
      "cell_type": "code",
      "source": [
        "#index(문자위치)\n",
        "a = \"hellohello\"\n",
        "\n",
        "b = a.index(\"h\")\n",
        "print(b)\n",
        "\n",
        "c = a.index(\"h\",1)\n",
        "print(c)"
      ],
      "metadata": {
        "colab": {
          "base_uri": "https://localhost:8080/"
        },
        "id": "zedNEPcEDm0z",
        "outputId": "48a5c0e7-c0f6-4967-b52d-b3a3b4db0413"
      },
      "execution_count": null,
      "outputs": [
        {
          "output_type": "stream",
          "name": "stdout",
          "text": [
            "0\n",
            "5\n"
          ]
        }
      ]
    },
    {
      "cell_type": "code",
      "source": [
        "#불리언(Boolean)\n",
        "a = True\n",
        "b = False\n",
        "print(type(a))\n",
        "print(type(b))"
      ],
      "metadata": {
        "colab": {
          "base_uri": "https://localhost:8080/"
        },
        "id": "rUEBkIy2D-EV",
        "outputId": "3761f980-5850-486c-c624-d40c5224e884"
      },
      "execution_count": null,
      "outputs": [
        {
          "output_type": "stream",
          "name": "stdout",
          "text": [
            "<class 'bool'>\n",
            "<class 'bool'>\n"
          ]
        }
      ]
    },
    {
      "cell_type": "code",
      "source": [
        "a = 3\n",
        "b = 1\n",
        "print(a>b)\n",
        "print(a<b)"
      ],
      "metadata": {
        "colab": {
          "base_uri": "https://localhost:8080/"
        },
        "id": "vdq7JJEnGpJw",
        "outputId": "2c45454c-de95-44b2-ff38-f15e68aa1a5b"
      },
      "execution_count": null,
      "outputs": [
        {
          "output_type": "stream",
          "name": "stdout",
          "text": [
            "True\n",
            "False\n"
          ]
        }
      ]
    },
    {
      "cell_type": "code",
      "source": [
        "#문자와 숫자의 형변환(수치형->문자형)\n",
        "\n",
        "a = 35\n",
        "b = 24\n",
        "print(a+b) \n",
        "print(type(a+b))\n",
        "\n",
        "c = str(a)\n",
        "d = str(b)\n",
        "print(c+d)\n",
        "print(type(c+d))"
      ],
      "metadata": {
        "colab": {
          "base_uri": "https://localhost:8080/"
        },
        "id": "mktdfdtPHfDt",
        "outputId": "17e5bc8d-cfbb-4f64-df21-39a55a2dc0e7"
      },
      "execution_count": null,
      "outputs": [
        {
          "output_type": "stream",
          "name": "stdout",
          "text": [
            "59\n",
            "<class 'int'>\n",
            "3524\n",
            "<class 'str'>\n"
          ]
        }
      ]
    },
    {
      "cell_type": "code",
      "source": [
        "#문자와 숫자의 형변환(문자형->수치형)\n",
        "\n",
        "a = \"35\"\n",
        "b = \"24\" \n",
        "print(a+b)\n",
        "print(type(a+b))\n",
        "\n",
        "c = int(a)\n",
        "d = int(b)\n",
        "print(c+d)\n",
        "print(type(c+d))"
      ],
      "metadata": {
        "colab": {
          "base_uri": "https://localhost:8080/"
        },
        "id": "FxNuh9vWIU8a",
        "outputId": "fdfba5ff-6cce-4c28-a1d6-627fe95e06b8"
      },
      "execution_count": null,
      "outputs": [
        {
          "output_type": "stream",
          "name": "stdout",
          "text": [
            "3524\n",
            "<class 'str'>\n",
            "59\n",
            "<class 'int'>\n"
          ]
        }
      ]
    },
    {
      "cell_type": "code",
      "source": [
        ""
      ],
      "metadata": {
        "id": "OX_Jco5iJc9e"
      },
      "execution_count": null,
      "outputs": []
    }
  ]
}