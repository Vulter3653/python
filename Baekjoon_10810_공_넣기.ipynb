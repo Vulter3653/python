{
  "nbformat": 4,
  "nbformat_minor": 0,
  "metadata": {
    "colab": {
      "provenance": [],
      "authorship_tag": "ABX9TyPe3EoXlRUmQ5jVJVoBHjnU",
      "include_colab_link": true
    },
    "kernelspec": {
      "name": "python3",
      "display_name": "Python 3"
    },
    "language_info": {
      "name": "python"
    }
  },
  "cells": [
    {
      "cell_type": "markdown",
      "metadata": {
        "id": "view-in-github",
        "colab_type": "text"
      },
      "source": [
        "<a href=\"https://colab.research.google.com/github/Vulter3653/python/blob/main/Baekjoon_10810_%EA%B3%B5_%EB%84%A3%EA%B8%B0.ipynb\" target=\"_parent\"><img src=\"https://colab.research.google.com/assets/colab-badge.svg\" alt=\"Open In Colab\"/></a>"
      ]
    },
    {
      "cell_type": "code",
      "execution_count": 8,
      "metadata": {
        "colab": {
          "base_uri": "https://localhost:8080/"
        },
        "id": "1siYkbthG2ue",
        "outputId": "fbde5635-94e3-4660-85a6-56324d841c82"
      },
      "outputs": [
        {
          "output_type": "stream",
          "name": "stdout",
          "text": [
            "5 4\n",
            "[0, 0, 0, 0, 0]\n",
            "1 2 3\n",
            "[3, 0, 0, 0, 0]\n",
            "[3, 3, 0, 0, 0]\n",
            "3 4 4\n",
            "[3, 3, 4, 0, 0]\n",
            "[3, 3, 4, 4, 0]\n",
            "1 4 1\n",
            "[1, 3, 4, 4, 0]\n",
            "[1, 1, 4, 4, 0]\n",
            "[1, 1, 1, 4, 0]\n",
            "[1, 1, 1, 1, 0]\n",
            "2 2 2\n",
            "[1, 2, 1, 1, 0]\n",
            "1 2 1 1 0\n"
          ]
        }
      ],
      "source": [
        "N,M = map(int,input().split())\n",
        "bucket = [0 for i in range(N)]\n",
        "print(bucket)\n",
        "for _ in range(M):\n",
        "  a,b,num = map(int,input().split())\n",
        "  while a <= b:\n",
        "    bucket[a-1] = num\n",
        "    a+=1\n",
        "    print(bucket)\n",
        "print(' '.join(map(str,bucket)))"
      ]
    },
    {
      "cell_type": "code",
      "source": [
        "N,M = map(int,input().split())\n",
        "bucket = [0 for i in range(N)]\n",
        "for _ in range(M):\n",
        "  a,b,num = map(int,input().split())\n",
        "  while a <= b:\n",
        "    bucket[a-1] = num\n",
        "    a+=1\n",
        "print(' '.join(map(str,bucket)))"
      ],
      "metadata": {
        "id": "O5KV5kAZKgiB"
      },
      "execution_count": null,
      "outputs": []
    },
    {
      "cell_type": "code",
      "source": [
        "import sys\n",
        "N,M = map(int,sys.stdin.readline().split())\n",
        "bucket = [0 for i in range(N)]\n",
        "for _ in range(M):\n",
        "  a,b,num = map(int,sys.stdin.readline().split())\n",
        "  while a <= b:\n",
        "    bucket[a-1] = num\n",
        "    a+=1\n",
        "print(' '.join(map(str,bucket)))"
      ],
      "metadata": {
        "id": "jxRw8J1gKmp_"
      },
      "execution_count": null,
      "outputs": []
    }
  ]
}