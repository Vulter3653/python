{
  "nbformat": 4,
  "nbformat_minor": 0,
  "metadata": {
    "colab": {
      "name": "Baekjoon_9613_GCD 합.ipynb",
      "provenance": [],
      "authorship_tag": "ABX9TyNhMgaNBMRHOBF21a2Kgu5q",
      "include_colab_link": true
    },
    "kernelspec": {
      "name": "python3",
      "display_name": "Python 3"
    },
    "language_info": {
      "name": "python"
    }
  },
  "cells": [
    {
      "cell_type": "markdown",
      "metadata": {
        "id": "view-in-github",
        "colab_type": "text"
      },
      "source": [
        "<a href=\"https://colab.research.google.com/github/Vulter3653/python/blob/main/Baekjoon_9613_GCD_%ED%95%A9.ipynb\" target=\"_parent\"><img src=\"https://colab.research.google.com/assets/colab-badge.svg\" alt=\"Open In Colab\"/></a>"
      ]
    },
    {
      "cell_type": "code",
      "source": [
        "import math\n",
        "t = []\n",
        "\n",
        "t.append(math.gcd(10, 20))\n",
        "t.append(math.gcd(10, 30))\n",
        "t.append(math.gcd(10, 40))\n",
        "t.append(math.gcd(20, 30))\n",
        "t.append(math.gcd(20, 40))\n",
        "t.append(math.gcd(30, 40))\n",
        "\n",
        "print(t)\n",
        "print(sum(t))"
      ],
      "metadata": {
        "colab": {
          "base_uri": "https://localhost:8080/"
        },
        "id": "bC6kwQxF6ZzY",
        "outputId": "559e1ea6-84e4-406a-b7b3-c0608a3a6e7a"
      },
      "execution_count": 6,
      "outputs": [
        {
          "output_type": "stream",
          "name": "stdout",
          "text": [
            "[10, 10, 10, 10, 20, 10]\n",
            "70\n"
          ]
        }
      ]
    },
    {
      "cell_type": "code",
      "source": [
        "import math\n",
        "a = int(input())\n",
        "x = list(map(int,input().split()))\n",
        "t = []\n",
        "\n",
        "for aa in range(a):\n",
        "  print(x[aa])\n",
        "  for j in range(aa+1,a):\n",
        "    print(x[j])\n",
        "    t.append(math.gcd(x[aa],x[j]))\n",
        "    print(t)\n",
        "\n",
        "print(sum(t))\n"
      ],
      "metadata": {
        "colab": {
          "base_uri": "https://localhost:8080/"
        },
        "id": "TY2yTWUm74i2",
        "outputId": "dd8279d0-8101-41c1-8fbf-c06c9a281d4c"
      },
      "execution_count": 49,
      "outputs": [
        {
          "output_type": "stream",
          "name": "stdout",
          "text": [
            "3\n",
            "125 15 25\n",
            "125\n",
            "15\n",
            "[5]\n",
            "25\n",
            "[5, 25]\n",
            "15\n",
            "25\n",
            "[5, 25, 5]\n",
            "25\n",
            "35\n"
          ]
        }
      ]
    },
    {
      "cell_type": "code",
      "source": [
        "import math\n",
        "\n",
        "t = int(input())\n",
        "\n",
        "for t in range(t):\n",
        "  x = list(map(int,input().split()))\n",
        "  n = x.pop(0)\n",
        "  arr = []\n",
        "\n",
        "  for nn in range(n):\n",
        "    j = n\n",
        "    for j in range(nn+1,n):\n",
        "      arr.append(math.gcd(x[nn],x[j]))\n",
        "  print(sum(arr))"
      ],
      "metadata": {
        "colab": {
          "base_uri": "https://localhost:8080/"
        },
        "id": "UTKELuuLKFyF",
        "outputId": "e7ac66ad-b303-491e-d15b-1849fc2afedb"
      },
      "execution_count": 52,
      "outputs": [
        {
          "output_type": "stream",
          "name": "stdout",
          "text": [
            "3\n",
            "4 10 20 30 40\n",
            "70\n",
            "3 7 5 12\n",
            "3\n",
            "3 125 15 25\n",
            "35\n"
          ]
        }
      ]
    },
    {
      "cell_type": "code",
      "source": [
        "import math\n",
        "import sys\n",
        "\n",
        "t = int(sys.stdin.readline())\n",
        "\n",
        "for t in range(t):\n",
        "  x = list(map(int,sys.stdin.readline().rstrip().split()))\n",
        "  n = x.pop(0)\n",
        "  arr = []\n",
        "\n",
        "  for nn in range(n):\n",
        "    j = n\n",
        "    for j in range(nn+1,n):\n",
        "      arr.append(math.gcd(x[nn],x[j]))\n",
        "  print(sum(arr))"
      ],
      "metadata": {
        "id": "INHfdDXgLOxg"
      },
      "execution_count": null,
      "outputs": []
    }
  ]
}