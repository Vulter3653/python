{
  "nbformat": 4,
  "nbformat_minor": 0,
  "metadata": {
    "colab": {
      "name": "Baekjoon_2490_윷놀이.ipynb",
      "provenance": [],
      "authorship_tag": "ABX9TyPn5L2eLu6jhOfzmdf0AHrj",
      "include_colab_link": true
    },
    "kernelspec": {
      "name": "python3",
      "display_name": "Python 3"
    },
    "language_info": {
      "name": "python"
    }
  },
  "cells": [
    {
      "cell_type": "markdown",
      "metadata": {
        "id": "view-in-github",
        "colab_type": "text"
      },
      "source": [
        "<a href=\"https://colab.research.google.com/github/Vulter3653/python/blob/main/Baekjoon_2490_%EC%9C%B7%EB%86%80%EC%9D%B4.ipynb\" target=\"_parent\"><img src=\"https://colab.research.google.com/assets/colab-badge.svg\" alt=\"Open In Colab\"/></a>"
      ]
    },
    {
      "cell_type": "code",
      "execution_count": 3,
      "metadata": {
        "colab": {
          "base_uri": "https://localhost:8080/"
        },
        "id": "m47yAzQE1i4F",
        "outputId": "0a77832b-9fe9-4e21-9398-5c0712ed8282"
      },
      "outputs": [
        {
          "output_type": "stream",
          "name": "stdout",
          "text": [
            "0 1 0 1\n",
            "B\n",
            "1 1 1 0\n",
            "A\n",
            "0 0 1 1\n",
            "B\n"
          ]
        }
      ],
      "source": [
        "for _ in range(3):\n",
        "  a = list(input().rstrip().split())\n",
        "  a = list(map(int,a))\n",
        "  if sum(a) == 0:\n",
        "    print('D')\n",
        "  elif sum(a) == 1:\n",
        "    print('C')\n",
        "  elif sum(a) == 2:\n",
        "    print('B')\n",
        "  elif sum(a) == 3:\n",
        "    print('A')\n",
        "  elif sum(a) == 4:\n",
        "    print('E') "
      ]
    },
    {
      "cell_type": "code",
      "source": [
        "import sys\n",
        "\n",
        "for _ in range(3):\n",
        "  a = list(sys.stdin.readline().rstrip().split())\n",
        "  a = list(map(int,a))\n",
        "  if sum(a) == 0:\n",
        "    print('D')\n",
        "  elif sum(a) == 1:\n",
        "    print('C')\n",
        "  elif sum(a) == 2:\n",
        "    print('B')\n",
        "  elif sum(a) == 3:\n",
        "    print('A')\n",
        "  elif sum(a) == 4:\n",
        "    print('E') "
      ],
      "metadata": {
        "id": "e86utK-W3U4R"
      },
      "execution_count": null,
      "outputs": []
    }
  ]
}