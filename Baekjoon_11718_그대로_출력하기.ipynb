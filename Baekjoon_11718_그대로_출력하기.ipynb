{
  "nbformat": 4,
  "nbformat_minor": 0,
  "metadata": {
    "colab": {
      "name": "Baekjoon_11718_그대로 출력하기.ipynb",
      "provenance": [],
      "collapsed_sections": [],
      "authorship_tag": "ABX9TyNjCk95dOahjdh3gDQIJx02",
      "include_colab_link": true
    },
    "kernelspec": {
      "name": "python3",
      "display_name": "Python 3"
    },
    "language_info": {
      "name": "python"
    }
  },
  "cells": [
    {
      "cell_type": "markdown",
      "metadata": {
        "id": "view-in-github",
        "colab_type": "text"
      },
      "source": [
        "<a href=\"https://colab.research.google.com/github/Vulter3653/python/blob/main/Baekjoon_11718_%EA%B7%B8%EB%8C%80%EB%A1%9C_%EC%B6%9C%EB%A0%A5%ED%95%98%EA%B8%B0.ipynb\" target=\"_parent\"><img src=\"https://colab.research.google.com/assets/colab-badge.svg\" alt=\"Open In Colab\"/></a>"
      ]
    },
    {
      "cell_type": "code",
      "execution_count": null,
      "metadata": {
        "id": "sXKEOdyhzs9a"
      },
      "outputs": [],
      "source": [
        "while True:\n",
        "  try:\n",
        "    print(input().rstrip())\n",
        "  except EOFError:\n",
        "    break"
      ]
    },
    {
      "cell_type": "code",
      "source": [
        "import sys\n",
        "\n",
        "while True:\n",
        "  a = sys.stdin.readline().rstrip()\n",
        "  if a == '':\n",
        "    break\n",
        "  print(a)"
      ],
      "metadata": {
        "id": "RlXE0YyJz70C"
      },
      "execution_count": null,
      "outputs": []
    }
  ]
}