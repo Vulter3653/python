{
  "nbformat": 4,
  "nbformat_minor": 0,
  "metadata": {
    "colab": {
      "name": "Baekjoon_10870_피보나치 수 5.ipynb",
      "provenance": [],
      "authorship_tag": "ABX9TyNlN0lp+EJG6u3Lvrejy372",
      "include_colab_link": true
    },
    "kernelspec": {
      "name": "python3",
      "display_name": "Python 3"
    },
    "language_info": {
      "name": "python"
    }
  },
  "cells": [
    {
      "cell_type": "markdown",
      "metadata": {
        "id": "view-in-github",
        "colab_type": "text"
      },
      "source": [
        "<a href=\"https://colab.research.google.com/github/Vulter3653/python/blob/main/Baekjoon_10870_%ED%94%BC%EB%B3%B4%EB%82%98%EC%B9%98_%EC%88%98_5.ipynb\" target=\"_parent\"><img src=\"https://colab.research.google.com/assets/colab-badge.svg\" alt=\"Open In Colab\"/></a>"
      ]
    },
    {
      "cell_type": "code",
      "execution_count": 7,
      "metadata": {
        "colab": {
          "base_uri": "https://localhost:8080/"
        },
        "id": "0yvrdhmyRLVA",
        "outputId": "be86941d-d487-44f5-9170-76dd0bdaca83"
      },
      "outputs": [
        {
          "output_type": "stream",
          "name": "stdout",
          "text": [
            "10\n",
            "55\n"
          ]
        }
      ],
      "source": [
        "n = int(input())\n",
        "\n",
        "a = 0\n",
        "b = 1\n",
        "\n",
        "if n == 0:\n",
        "  print(a)\n",
        "elif n == 1:\n",
        "  print(b)\n",
        "else:\n",
        "  for n in range(n):\n",
        "    b1 = a + b\n",
        "    a = b\n",
        "    b = b1\n",
        "\n",
        "  print(a)"
      ]
    },
    {
      "cell_type": "code",
      "source": [
        "import sys\n",
        "n = int(sys.stdin.readline())\n",
        "\n",
        "a = 0\n",
        "b = 1\n",
        "\n",
        "if n == 0:\n",
        "  print(a)\n",
        "elif n == 1:\n",
        "  print(b)\n",
        "else:\n",
        "  for n in range(n):\n",
        "    b1 = a + b\n",
        "    a = b\n",
        "    b = b1\n",
        "\n",
        "  print(a)"
      ],
      "metadata": {
        "id": "CtAjV9g6TH9V"
      },
      "execution_count": null,
      "outputs": []
    }
  ]
}