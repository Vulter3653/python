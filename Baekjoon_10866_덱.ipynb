{
  "nbformat": 4,
  "nbformat_minor": 0,
  "metadata": {
    "colab": {
      "name": "Baekjoon_10866_덱.ipynb",
      "provenance": [],
      "authorship_tag": "ABX9TyOJIRg95YdJljp9Ixed9D/d",
      "include_colab_link": true
    },
    "kernelspec": {
      "name": "python3",
      "display_name": "Python 3"
    },
    "language_info": {
      "name": "python"
    }
  },
  "cells": [
    {
      "cell_type": "markdown",
      "metadata": {
        "id": "view-in-github",
        "colab_type": "text"
      },
      "source": [
        "<a href=\"https://colab.research.google.com/github/Vulter3653/python/blob/main/Baekjoon_10866_%EB%8D%B1.ipynb\" target=\"_parent\"><img src=\"https://colab.research.google.com/assets/colab-badge.svg\" alt=\"Open In Colab\"/></a>"
      ]
    },
    {
      "cell_type": "code",
      "execution_count": 2,
      "metadata": {
        "colab": {
          "base_uri": "https://localhost:8080/"
        },
        "id": "v8ymcYImmPu3",
        "outputId": "dd3061df-b7bf-4326-8f77-334c742f1f21"
      },
      "outputs": [
        {
          "output_type": "stream",
          "name": "stdout",
          "text": [
            "22\n",
            "front\n",
            "-1\n",
            "back\n",
            "-1\n",
            "pop_front\n",
            "-1\n",
            "pop_back\n",
            "-1\n",
            "push_front 1\n",
            "front\n",
            "1\n",
            "pop_back\n",
            "1\n",
            "push_back 2\n",
            "back\n",
            "2\n",
            "pop_front\n",
            "2\n",
            "push_front 10\n",
            "push_front 333\n",
            "front\n",
            "333\n",
            "back\n",
            "10\n",
            "pop_back\n",
            "10\n",
            "pop_back\n",
            "333\n",
            "push_back 20\n",
            "push_back 1234\n",
            "front\n",
            "20\n",
            "back\n",
            "1234\n",
            "pop_back\n",
            "1234\n",
            "pop_back\n",
            "20\n"
          ]
        }
      ],
      "source": [
        "from collections import deque\n",
        "\n",
        "N = int(input().rstrip())\n",
        "queue = deque([])\n",
        "\n",
        "for N in range(N):\n",
        "  x = input().rstrip().split()\n",
        "  if x[0] == \"push_front\":\n",
        "    queue.appendleft(int(x[-1]))\n",
        "  elif x[0] == \"push_back\":\n",
        "    queue.append(int(x[-1]))\n",
        "  elif x[0] == \"pop_front\":\n",
        "    if len(queue) != 0:\n",
        "      print(queue.popleft())\n",
        "    else:\n",
        "      print(-1)\n",
        "  elif x[0] == \"pop_back\":\n",
        "    if len(queue) != 0:\n",
        "      print(queue.pop())\n",
        "    else:\n",
        "      print(-1)\n",
        "  elif x[0] == \"size\":\n",
        "    print(len(queue))\n",
        "  elif x[0] == \"empty\":\n",
        "    if len(queue) != 0:\n",
        "      print(0)\n",
        "    else:\n",
        "      print(1)\n",
        "  elif x[0] == \"front\":\n",
        "    if len(queue) != 0:\n",
        "      print(queue[0])\n",
        "    else:\n",
        "      print(-1)\n",
        "  elif x[0] == \"back\":\n",
        "    if len(queue) != 0:\n",
        "      print(queue[-1])\n",
        "    else:\n",
        "      print(-1)"
      ]
    },
    {
      "cell_type": "code",
      "source": [
        "import sys\n",
        "from collections import deque\n",
        "\n",
        "N = int(sys.stdin.readline().rstrip())\n",
        "queue = deque([])\n",
        "\n",
        "for N in range(N):\n",
        "  x = sys.stdin.readline().rstrip().split()\n",
        "  if x[0] == \"push_front\":\n",
        "    queue.appendleft(int(x[-1]))\n",
        "  elif x[0] == \"push_back\":\n",
        "    queue.append(int(x[-1]))\n",
        "  elif x[0] == \"pop_front\":\n",
        "    if len(queue) != 0:\n",
        "      print(queue.popleft())\n",
        "    else:\n",
        "      print(-1)\n",
        "  elif x[0] == \"pop_back\":\n",
        "    if len(queue) != 0:\n",
        "      print(queue.pop())\n",
        "    else:\n",
        "      print(-1)\n",
        "  elif x[0] == \"size\":\n",
        "    print(len(queue))\n",
        "  elif x[0] == \"empty\":\n",
        "    if len(queue) != 0:\n",
        "      print(0)\n",
        "    else:\n",
        "      print(1)\n",
        "  elif x[0] == \"front\":\n",
        "    if len(queue) != 0:\n",
        "      print(queue[0])\n",
        "    else:\n",
        "      print(-1)\n",
        "  elif x[0] == \"back\":\n",
        "    if len(queue) != 0:\n",
        "      print(queue[-1])\n",
        "    else:\n",
        "      print(-1)"
      ],
      "metadata": {
        "id": "cromvpbCnT7E"
      },
      "execution_count": null,
      "outputs": []
    }
  ]
}