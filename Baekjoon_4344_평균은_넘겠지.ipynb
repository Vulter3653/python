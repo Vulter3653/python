{
  "nbformat": 4,
  "nbformat_minor": 0,
  "metadata": {
    "colab": {
      "name": "Baekjoon_4344_평균은 넘겠지.ipynb",
      "provenance": [],
      "collapsed_sections": [],
      "authorship_tag": "ABX9TyPhfA6+hFRLo4nG7lrhuGHs",
      "include_colab_link": true
    },
    "kernelspec": {
      "name": "python3",
      "display_name": "Python 3"
    },
    "language_info": {
      "name": "python"
    }
  },
  "cells": [
    {
      "cell_type": "markdown",
      "metadata": {
        "id": "view-in-github",
        "colab_type": "text"
      },
      "source": [
        "<a href=\"https://colab.research.google.com/github/Vulter3653/python/blob/main/Baekjoon_4344_%ED%8F%89%EA%B7%A0%EC%9D%80_%EB%84%98%EA%B2%A0%EC%A7%80.ipynb\" target=\"_parent\"><img src=\"https://colab.research.google.com/assets/colab-badge.svg\" alt=\"Open In Colab\"/></a>"
      ]
    },
    {
      "cell_type": "code",
      "execution_count": 7,
      "metadata": {
        "colab": {
          "base_uri": "https://localhost:8080/"
        },
        "id": "aWw8LQz2S0GX",
        "outputId": "668b7cce-b01d-431b-d37b-55e4783842bb"
      },
      "outputs": [
        {
          "output_type": "stream",
          "name": "stdout",
          "text": [
            "5\n",
            "5 50 50 70 80 100\n",
            "40.000%\n",
            "7 100 95 90 80 70 60 50\n",
            "57.143%\n",
            "3 70 90 80\n",
            "33.333%\n",
            "3 70 90 81\n",
            "66.667%\n",
            "9 100 99 98 97 96 95 94 93 91\n",
            "55.556%\n"
          ]
        }
      ],
      "source": [
        "from collections import deque\n",
        "\n",
        "for _ in range(int(input().rstrip())):\n",
        "  a = list(map(int,input().rstrip().split()))\n",
        "  a = deque(a)\n",
        "  a.popleft()\n",
        "\n",
        "  cnt = 0\n",
        "  b = sum(a)/len(a)\n",
        "\n",
        "  for x in range(len(a)):\n",
        "    if a[x] > b:\n",
        "      cnt +=1\n",
        "  \n",
        "  print('{:.3f}%'.format(cnt/len(a)*100))"
      ]
    },
    {
      "cell_type": "code",
      "source": [
        "import sys\n",
        "from collections import deque\n",
        "\n",
        "for _ in range(int(sys.stdin.readline().rstrip())):\n",
        "  a = list(map(int,sys.stdin.readline().rstrip().split()))\n",
        "  a = deque(a)\n",
        "  a.popleft()\n",
        "\n",
        "  cnt = 0\n",
        "  b = sum(a)/len(a)\n",
        "\n",
        "  for x in range(len(a)):\n",
        "    if a[x] > b:\n",
        "      cnt +=1\n",
        "  \n",
        "  print('{:.3f}%'.format(cnt/len(a)*100))"
      ],
      "metadata": {
        "id": "SiT1k9qxUqN3"
      },
      "execution_count": null,
      "outputs": []
    }
  ]
}