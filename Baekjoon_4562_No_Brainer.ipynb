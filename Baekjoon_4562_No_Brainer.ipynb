{
  "nbformat": 4,
  "nbformat_minor": 0,
  "metadata": {
    "colab": {
      "name": "Baekjoon_4562_No Brainer.ipynb",
      "provenance": [],
      "collapsed_sections": [],
      "authorship_tag": "ABX9TyNPvzS/FnVlvUY420mujLj5",
      "include_colab_link": true
    },
    "kernelspec": {
      "name": "python3",
      "display_name": "Python 3"
    },
    "language_info": {
      "name": "python"
    }
  },
  "cells": [
    {
      "cell_type": "markdown",
      "metadata": {
        "id": "view-in-github",
        "colab_type": "text"
      },
      "source": [
        "<a href=\"https://colab.research.google.com/github/Vulter3653/python/blob/main/Baekjoon_4562_No_Brainer.ipynb\" target=\"_parent\"><img src=\"https://colab.research.google.com/assets/colab-badge.svg\" alt=\"Open In Colab\"/></a>"
      ]
    },
    {
      "cell_type": "code",
      "execution_count": 2,
      "metadata": {
        "colab": {
          "base_uri": "https://localhost:8080/"
        },
        "id": "XvALQN0p6J1n",
        "outputId": "1cf1b3e1-8cb6-4abf-bc2a-121c98cd0574"
      },
      "outputs": [
        {
          "output_type": "stream",
          "name": "stdout",
          "text": [
            "3\n",
            "4 5\n",
            "NO BRAINS\n",
            "3 3\n",
            "MMM BRAINS\n",
            "4 3\n",
            "MMM BRAINS\n"
          ]
        }
      ],
      "source": [
        "for _ in range(int(input())):\n",
        "  a,b = map(int,input().split())\n",
        "  if a < b :\n",
        "    print(\"NO BRAINS\")\n",
        "  else:\n",
        "    print(\"MMM BRAINS\")"
      ]
    },
    {
      "cell_type": "code",
      "source": [
        "import sys\n",
        "\n",
        "for _ in range(int(sys.stdin.readline().rstrip())):\n",
        "  a,b = map(int,sys.stdin.readline().rstrip().split())\n",
        "  if a < b :\n",
        "    print(\"NO BRAINS\")\n",
        "  else:\n",
        "    print(\"MMM BRAINS\")"
      ],
      "metadata": {
        "id": "WqUOs4wp6mvH"
      },
      "execution_count": null,
      "outputs": []
    }
  ]
}