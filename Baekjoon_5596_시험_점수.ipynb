{
  "nbformat": 4,
  "nbformat_minor": 0,
  "metadata": {
    "colab": {
      "name": "Baekjoon_5596_시험 점수.ipynb",
      "provenance": [],
      "authorship_tag": "ABX9TyMsXtsOIOn66HLddoW5yHZu",
      "include_colab_link": true
    },
    "kernelspec": {
      "name": "python3",
      "display_name": "Python 3"
    },
    "language_info": {
      "name": "python"
    }
  },
  "cells": [
    {
      "cell_type": "markdown",
      "metadata": {
        "id": "view-in-github",
        "colab_type": "text"
      },
      "source": [
        "<a href=\"https://colab.research.google.com/github/Vulter3653/python/blob/main/Baekjoon_5596_%EC%8B%9C%ED%97%98_%EC%A0%90%EC%88%98.ipynb\" target=\"_parent\"><img src=\"https://colab.research.google.com/assets/colab-badge.svg\" alt=\"Open In Colab\"/></a>"
      ]
    },
    {
      "cell_type": "code",
      "execution_count": null,
      "metadata": {
        "id": "nUF5U_iYHkrR"
      },
      "outputs": [],
      "source": [
        "s = list(map(int,input().rstrip().split()))\n",
        "t = list(map(int,input().rstrip().split()))\n",
        "\n",
        "if sum(t) > sum(s):\n",
        "  print(sum(t))\n",
        "else:\n",
        "  print(sum(s))"
      ]
    },
    {
      "cell_type": "code",
      "source": [
        "import sys\n",
        "\n",
        "s = list(map(int,sys.stdin.readline().rstrip().split()))\n",
        "t = list(map(int,sys.stdin.readline().rstrip().split()))\n",
        "\n",
        "if sum(t) > sum(s):\n",
        "  print(sum(t))\n",
        "else:\n",
        "  print(sum(s))"
      ],
      "metadata": {
        "id": "QHpz_wLMIFjX"
      },
      "execution_count": null,
      "outputs": []
    }
  ]
}