{
  "nbformat": 4,
  "nbformat_minor": 0,
  "metadata": {
    "colab": {
      "name": "Baekjoon_2558_A+B - 2.ipynb",
      "provenance": [],
      "authorship_tag": "ABX9TyOIswveVVpGIprFqQCDGQSD",
      "include_colab_link": true
    },
    "kernelspec": {
      "name": "python3",
      "display_name": "Python 3"
    },
    "language_info": {
      "name": "python"
    }
  },
  "cells": [
    {
      "cell_type": "markdown",
      "metadata": {
        "id": "view-in-github",
        "colab_type": "text"
      },
      "source": [
        "<a href=\"https://colab.research.google.com/github/Vulter3653/python/blob/main/Baekjoon_2558_A%2BB_2.ipynb\" target=\"_parent\"><img src=\"https://colab.research.google.com/assets/colab-badge.svg\" alt=\"Open In Colab\"/></a>"
      ]
    },
    {
      "cell_type": "code",
      "execution_count": 1,
      "metadata": {
        "colab": {
          "base_uri": "https://localhost:8080/"
        },
        "id": "8jGzJtEAn6sH",
        "outputId": "1d7668e7-cfb1-48b7-ec11-ecddd6dacac7"
      },
      "outputs": [
        {
          "output_type": "stream",
          "name": "stdout",
          "text": [
            "1\n",
            "2\n",
            "3\n"
          ]
        }
      ],
      "source": [
        "A = int(input())\n",
        "B = int(input().rstrip())\n",
        "\n",
        "print(A+B)"
      ]
    },
    {
      "cell_type": "code",
      "source": [
        "import sys\n",
        "A = int(sys.stdin.readline())\n",
        "B = int(sys.stdin.readline().rstrip())\n",
        "\n",
        "print(A+B)"
      ],
      "metadata": {
        "id": "i9mlHiIToF6U"
      },
      "execution_count": null,
      "outputs": []
    }
  ]
}