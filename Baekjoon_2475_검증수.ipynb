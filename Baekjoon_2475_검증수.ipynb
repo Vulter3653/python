{
  "nbformat": 4,
  "nbformat_minor": 0,
  "metadata": {
    "colab": {
      "name": "Baekjoon_2475_검증수.ipynb",
      "provenance": [],
      "authorship_tag": "ABX9TyM/FehZqftZnDATYNr1KeFV",
      "include_colab_link": true
    },
    "kernelspec": {
      "name": "python3",
      "display_name": "Python 3"
    },
    "language_info": {
      "name": "python"
    }
  },
  "cells": [
    {
      "cell_type": "markdown",
      "metadata": {
        "id": "view-in-github",
        "colab_type": "text"
      },
      "source": [
        "<a href=\"https://colab.research.google.com/github/Vulter3653/python/blob/main/Baekjoon_2475_%EA%B2%80%EC%A6%9D%EC%88%98.ipynb\" target=\"_parent\"><img src=\"https://colab.research.google.com/assets/colab-badge.svg\" alt=\"Open In Colab\"/></a>"
      ]
    },
    {
      "cell_type": "code",
      "execution_count": 2,
      "metadata": {
        "colab": {
          "base_uri": "https://localhost:8080/"
        },
        "id": "Z3WTxiA7t3lL",
        "outputId": "fdad48a9-307e-4887-b61f-8fa01b4b1ed4"
      },
      "outputs": [
        {
          "output_type": "stream",
          "name": "stdout",
          "text": [
            "0 4 2 5 6\n",
            "1\n"
          ]
        }
      ],
      "source": [
        "a = list(map(int,input().rstrip().split()))\n",
        "b = 0\n",
        "for x in range(len(a)):\n",
        "  b += a[x]*a[x]\n",
        "\n",
        "print(b%10)"
      ]
    },
    {
      "cell_type": "code",
      "source": [
        "import sys\n",
        "\n",
        "a = list(map(int,sys.stdin.readline().rstrip().split()))\n",
        "b = 0\n",
        "for x in range(len(a)):\n",
        "  b += a[x]*a[x]\n",
        "\n",
        "print(b%10)"
      ],
      "metadata": {
        "id": "S477oE2Gua4h"
      },
      "execution_count": null,
      "outputs": []
    }
  ]
}