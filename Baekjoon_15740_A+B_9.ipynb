{
  "nbformat": 4,
  "nbformat_minor": 0,
  "metadata": {
    "colab": {
      "name": "Baekjoon_15740_A+B - 9.ipynb",
      "provenance": [],
      "authorship_tag": "ABX9TyNE1vDRH5/qKIjwJn4LOsA1",
      "include_colab_link": true
    },
    "kernelspec": {
      "name": "python3",
      "display_name": "Python 3"
    },
    "language_info": {
      "name": "python"
    }
  },
  "cells": [
    {
      "cell_type": "markdown",
      "metadata": {
        "id": "view-in-github",
        "colab_type": "text"
      },
      "source": [
        "<a href=\"https://colab.research.google.com/github/Vulter3653/python/blob/main/Baekjoon_15740_A%2BB_9.ipynb\" target=\"_parent\"><img src=\"https://colab.research.google.com/assets/colab-badge.svg\" alt=\"Open In Colab\"/></a>"
      ]
    },
    {
      "cell_type": "code",
      "execution_count": 1,
      "metadata": {
        "colab": {
          "base_uri": "https://localhost:8080/"
        },
        "id": "8ATUo-zFfyxV",
        "outputId": "c16f5c3e-be57-4a3b-f89f-5f577dad8435"
      },
      "outputs": [
        {
          "output_type": "stream",
          "name": "stdout",
          "text": [
            "123456789123456789123456789 987654321987654321987654321\n",
            "1111111111111111111111111110\n"
          ]
        }
      ],
      "source": [
        "a,b = map(int,input().rstrip().split())\n",
        "print(a+b)"
      ]
    },
    {
      "cell_type": "code",
      "source": [
        "import sys\n",
        "\n",
        "a,b = map(int,sys.stdin.readline().rstrip().split())\n",
        "print(a+b)"
      ],
      "metadata": {
        "id": "aJUadAt0gGd2"
      },
      "execution_count": null,
      "outputs": []
    }
  ]
}