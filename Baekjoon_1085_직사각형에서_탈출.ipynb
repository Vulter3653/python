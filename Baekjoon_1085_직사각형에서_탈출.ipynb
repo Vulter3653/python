{
  "nbformat": 4,
  "nbformat_minor": 0,
  "metadata": {
    "colab": {
      "name": "Baekjoon_1085_직사각형에서 탈출.ipynb",
      "provenance": [],
      "collapsed_sections": [],
      "authorship_tag": "ABX9TyPu9230V+00R7bBaHhi75Db",
      "include_colab_link": true
    },
    "kernelspec": {
      "name": "python3",
      "display_name": "Python 3"
    },
    "language_info": {
      "name": "python"
    }
  },
  "cells": [
    {
      "cell_type": "markdown",
      "metadata": {
        "id": "view-in-github",
        "colab_type": "text"
      },
      "source": [
        "<a href=\"https://colab.research.google.com/github/Vulter3653/python/blob/main/Baekjoon_1085_%EC%A7%81%EC%82%AC%EA%B0%81%ED%98%95%EC%97%90%EC%84%9C_%ED%83%88%EC%B6%9C.ipynb\" target=\"_parent\"><img src=\"https://colab.research.google.com/assets/colab-badge.svg\" alt=\"Open In Colab\"/></a>"
      ]
    },
    {
      "cell_type": "code",
      "execution_count": 3,
      "metadata": {
        "colab": {
          "base_uri": "https://localhost:8080/"
        },
        "id": "Ofz6_to4CLV5",
        "outputId": "1eafcb93-36f7-4be3-8e07-673487ae447d"
      },
      "outputs": [
        {
          "name": "stdout",
          "output_type": "stream",
          "text": [
            "6 2 10 3\n",
            "1\n",
            "1 1 5 5\n",
            "1\n",
            "653 375 1000 1000\n",
            "347\n",
            "161 181 762 375\n",
            "161\n",
            "-1 0 0 0\n"
          ]
        }
      ],
      "source": [
        "while True:\n",
        "  x,y,w,h = map(int,input().split())\n",
        "  if x <= 0:\n",
        "    break\n",
        "  length = []\n",
        "\n",
        "  length.append(x)\n",
        "  length.append(y)\n",
        "  length.append(w-x)\n",
        "  length.append(h-y)\n",
        "\n",
        "  print(min(length))"
      ]
    },
    {
      "cell_type": "code",
      "source": [
        "x,y,w,h = map(int,input().split())\n",
        "\n",
        "length = []\n",
        "\n",
        "length.append(x)\n",
        "length.append(y)\n",
        "length.append(w-x)\n",
        "length.append(h-y)\n",
        "\n",
        "print(min(length))"
      ],
      "metadata": {
        "id": "_74y5Gf7DmoV"
      },
      "execution_count": null,
      "outputs": []
    },
    {
      "cell_type": "code",
      "source": [
        "import sys\n",
        "\n",
        "x,y,w,h = map(int,sys.stdin.readline().rstrip().split())\n",
        "\n",
        "length = []\n",
        "\n",
        "length.append(x)\n",
        "length.append(y)\n",
        "length.append(w-x)\n",
        "length.append(h-y)\n",
        "\n",
        "print(min(length))"
      ],
      "metadata": {
        "id": "qbnncW2CDts6"
      },
      "execution_count": null,
      "outputs": []
    }
  ]
}