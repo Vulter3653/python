{
  "nbformat": 4,
  "nbformat_minor": 0,
  "metadata": {
    "colab": {
      "name": "Baekjoon_1152_단어의 개수.ipynb",
      "provenance": [],
      "collapsed_sections": [],
      "authorship_tag": "ABX9TyOzPZWLYAWJ8zRWy5u4b1mT",
      "include_colab_link": true
    },
    "kernelspec": {
      "name": "python3",
      "display_name": "Python 3"
    },
    "language_info": {
      "name": "python"
    }
  },
  "cells": [
    {
      "cell_type": "markdown",
      "metadata": {
        "id": "view-in-github",
        "colab_type": "text"
      },
      "source": [
        "<a href=\"https://colab.research.google.com/github/Vulter3653/python/blob/main/Baekjoon_1152_%EB%8B%A8%EC%96%B4%EC%9D%98_%EA%B0%9C%EC%88%98.ipynb\" target=\"_parent\"><img src=\"https://colab.research.google.com/assets/colab-badge.svg\" alt=\"Open In Colab\"/></a>"
      ]
    },
    {
      "cell_type": "code",
      "execution_count": 1,
      "metadata": {
        "colab": {
          "base_uri": "https://localhost:8080/"
        },
        "id": "Cx4bVpadnbYy",
        "outputId": "b06fb127-b682-4387-be36-7ef685e50dad"
      },
      "outputs": [
        {
          "output_type": "stream",
          "name": "stdout",
          "text": [
            "The Curious Case of Benjamin Button\n",
            "6\n"
          ]
        }
      ],
      "source": [
        "a = list(input().rstrip().split())\n",
        "print(len(a))"
      ]
    },
    {
      "cell_type": "code",
      "source": [
        "import sys\n",
        "a = list(sys.stdin.readline().rstrip().split())\n",
        "print(len(a))"
      ],
      "metadata": {
        "id": "9HsbTI3ZoPz1"
      },
      "execution_count": null,
      "outputs": []
    }
  ]
}