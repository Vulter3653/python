{
  "nbformat": 4,
  "nbformat_minor": 0,
  "metadata": {
    "colab": {
      "name": "Baekjoon_2752_세수정렬.ipynb",
      "provenance": [],
      "collapsed_sections": [],
      "authorship_tag": "ABX9TyPKeiSWV/hYf8nUYehlOZjr",
      "include_colab_link": true
    },
    "kernelspec": {
      "name": "python3",
      "display_name": "Python 3"
    },
    "language_info": {
      "name": "python"
    }
  },
  "cells": [
    {
      "cell_type": "markdown",
      "metadata": {
        "id": "view-in-github",
        "colab_type": "text"
      },
      "source": [
        "<a href=\"https://colab.research.google.com/github/Vulter3653/python/blob/main/Baekjoon_2752_%EC%84%B8%EC%88%98%EC%A0%95%EB%A0%AC.ipynb\" target=\"_parent\"><img src=\"https://colab.research.google.com/assets/colab-badge.svg\" alt=\"Open In Colab\"/></a>"
      ]
    },
    {
      "cell_type": "code",
      "execution_count": 1,
      "metadata": {
        "colab": {
          "base_uri": "https://localhost:8080/"
        },
        "id": "0qRdDSPS42v7",
        "outputId": "c922d726-3196-4df6-f058-7401c4bc2888"
      },
      "outputs": [
        {
          "output_type": "stream",
          "name": "stdout",
          "text": [
            "3 1 2\n",
            "1 2 3\n"
          ]
        }
      ],
      "source": [
        "a = list(map(int,input().rstrip().split()))\n",
        "a.sort()\n",
        "print(str(a[0])+' '+str(a[1])+' '+str(a[2]))"
      ]
    },
    {
      "cell_type": "code",
      "source": [
        "import sys\n",
        "a = list(map(int,sys.stdin.readline().rstrip().split()))\n",
        "a.sort()\n",
        "print(str(a[0])+' '+str(a[1])+' '+str(a[2]))"
      ],
      "metadata": {
        "id": "7AiJVrtT5m3Z"
      },
      "execution_count": null,
      "outputs": []
    }
  ]
}