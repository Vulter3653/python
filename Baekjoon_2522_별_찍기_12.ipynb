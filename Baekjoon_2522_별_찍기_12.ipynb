{
  "nbformat": 4,
  "nbformat_minor": 0,
  "metadata": {
    "colab": {
      "name": "Baekjoon_2522_별 찍기 - 12.ipynb",
      "provenance": [],
      "collapsed_sections": [],
      "authorship_tag": "ABX9TyMgTV2CvaraZ67ktNsT/PWe",
      "include_colab_link": true
    },
    "kernelspec": {
      "name": "python3",
      "display_name": "Python 3"
    },
    "language_info": {
      "name": "python"
    }
  },
  "cells": [
    {
      "cell_type": "markdown",
      "metadata": {
        "id": "view-in-github",
        "colab_type": "text"
      },
      "source": [
        "<a href=\"https://colab.research.google.com/github/Vulter3653/python/blob/main/Baekjoon_2522_%EB%B3%84_%EC%B0%8D%EA%B8%B0_12.ipynb\" target=\"_parent\"><img src=\"https://colab.research.google.com/assets/colab-badge.svg\" alt=\"Open In Colab\"/></a>"
      ]
    },
    {
      "cell_type": "code",
      "execution_count": 3,
      "metadata": {
        "colab": {
          "base_uri": "https://localhost:8080/"
        },
        "id": "qLTSpYhtuYsv",
        "outputId": "89931283-5a60-4ba4-cf93-9ba18d9b0075"
      },
      "outputs": [
        {
          "output_type": "stream",
          "name": "stdout",
          "text": [
            "3\n",
            "  *\n",
            " **\n",
            "***\n",
            " **\n",
            "  *\n"
          ]
        }
      ],
      "source": [
        "x = int(input())\n",
        "\n",
        "for a in range(1,x+1):\n",
        "  print(' '*(x-a)+'*'*a)\n",
        "\n",
        "for a in range(1,x):\n",
        "  print(' '*a+'*'*(x-a))"
      ]
    },
    {
      "cell_type": "code",
      "source": [
        "import sys\n",
        "\n",
        "x = int(sys.stdin.readline().rstrip())\n",
        "\n",
        "for a in range(1,x+1):\n",
        "  print(' '*(x-a)+'*'*a)\n",
        "\n",
        "for a in range(1,x):\n",
        "  print(' '*a+'*'*(x-a))"
      ],
      "metadata": {
        "id": "cjK3U4bYw_Fx"
      },
      "execution_count": null,
      "outputs": []
    }
  ]
}