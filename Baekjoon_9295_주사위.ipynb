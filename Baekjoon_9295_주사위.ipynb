{
  "nbformat": 4,
  "nbformat_minor": 0,
  "metadata": {
    "colab": {
      "name": "Baekjoon_9295_주사위.ipynb",
      "provenance": [],
      "authorship_tag": "ABX9TyP9cS1NhqkvjYWEvGvSJ9Qr",
      "include_colab_link": true
    },
    "kernelspec": {
      "name": "python3",
      "display_name": "Python 3"
    },
    "language_info": {
      "name": "python"
    }
  },
  "cells": [
    {
      "cell_type": "markdown",
      "metadata": {
        "id": "view-in-github",
        "colab_type": "text"
      },
      "source": [
        "<a href=\"https://colab.research.google.com/github/Vulter3653/python/blob/main/Baekjoon_9295_%EC%A3%BC%EC%82%AC%EC%9C%84.ipynb\" target=\"_parent\"><img src=\"https://colab.research.google.com/assets/colab-badge.svg\" alt=\"Open In Colab\"/></a>"
      ]
    },
    {
      "cell_type": "code",
      "execution_count": 4,
      "metadata": {
        "colab": {
          "base_uri": "https://localhost:8080/"
        },
        "id": "mcdshse7q8Gd",
        "outputId": "c4715c87-2834-4d5c-a778-35b6b313887f"
      },
      "outputs": [
        {
          "output_type": "stream",
          "name": "stdout",
          "text": [
            "5\n",
            "1 2\n",
            "Case 1: 3\n",
            "1 3\n",
            "Case 2: 4\n",
            "3 5\n",
            "Case 3: 8\n",
            "2 6\n",
            "Case 4: 8\n",
            "3 4\n",
            "Case 5: 7\n"
          ]
        }
      ],
      "source": [
        "t = int(input().rstrip())\n",
        "for x in range(1,t+1):\n",
        "  a,b = map(int,input().rstrip().split())\n",
        "  print(\"Case \"+str(x)+\": \"+str(a+b))"
      ]
    },
    {
      "cell_type": "code",
      "source": [
        "import sys\n",
        "t = int(sys.stdin.readline().rstrip())\n",
        "for x in range(1,t+1):\n",
        "  a,b = map(int,sys.stdin.readline().rstrip().split())\n",
        "  print(\"Case \"+str(x)+\": \"+str(a+b))"
      ],
      "metadata": {
        "id": "uZHkx9G5sqJe"
      },
      "execution_count": null,
      "outputs": []
    }
  ]
}