{
  "nbformat": 4,
  "nbformat_minor": 0,
  "metadata": {
    "colab": {
      "name": "Baekjoon_11286_절대값 힙.ipynb",
      "provenance": [],
      "collapsed_sections": [],
      "authorship_tag": "ABX9TyOwvfaqCD+YTEBhj1AaGf41",
      "include_colab_link": true
    },
    "kernelspec": {
      "name": "python3",
      "display_name": "Python 3"
    },
    "language_info": {
      "name": "python"
    }
  },
  "cells": [
    {
      "cell_type": "markdown",
      "metadata": {
        "id": "view-in-github",
        "colab_type": "text"
      },
      "source": [
        "<a href=\"https://colab.research.google.com/github/Vulter3653/python/blob/main/Baekjoon_11286_%EC%A0%88%EB%8C%80%EA%B0%92_%ED%9E%99.ipynb\" target=\"_parent\"><img src=\"https://colab.research.google.com/assets/colab-badge.svg\" alt=\"Open In Colab\"/></a>"
      ]
    },
    {
      "cell_type": "code",
      "execution_count": 1,
      "metadata": {
        "colab": {
          "base_uri": "https://localhost:8080/"
        },
        "id": "eM8MoUbB8Um3",
        "outputId": "20920ea3-0e6c-452b-f63d-970dda13eca4"
      },
      "outputs": [
        {
          "output_type": "stream",
          "name": "stdout",
          "text": [
            "18\n",
            "1\n",
            "-1\n",
            "0\n",
            "-1\n",
            "0\n",
            "1\n",
            "0\n",
            "0\n",
            "1\n",
            "1\n",
            "-1\n",
            "-1\n",
            "2\n",
            "-2\n",
            "0\n",
            "-1\n",
            "0\n",
            "-1\n",
            "0\n",
            "1\n",
            "0\n",
            "1\n",
            "0\n",
            "-2\n",
            "0\n",
            "2\n",
            "0\n",
            "0\n"
          ]
        }
      ],
      "source": [
        "import heapq\n",
        "import sys\n",
        "\n",
        "N = int(input())\n",
        "arr = []\n",
        "\n",
        "for N in range(N):\n",
        "  x = int(input())\n",
        "  if x != 0:\n",
        "    heapq.heappush(arr, (abs(x), x))\n",
        "  else:\n",
        "    try:\n",
        "      print(heapq.heappop(arr)[1])\n",
        "    except:\n",
        "      print(0)"
      ]
    },
    {
      "cell_type": "code",
      "source": [
        "import heapq\n",
        "import sys\n",
        "\n",
        "arr = []\n",
        "\n",
        "for i in range(int(sys.stdin.readline())):\n",
        "  x = int(sys.stdin.readline())\n",
        "  if x != 0:\n",
        "    heapq.heappush(arr, (abs(x), x))\n",
        "  else:\n",
        "    try:\n",
        "      print(heapq.heappop(arr)[1])\n",
        "    except:\n",
        "      print(0)"
      ],
      "metadata": {
        "id": "KOJhjjbSE4rc"
      },
      "execution_count": null,
      "outputs": []
    },
    {
      "cell_type": "code",
      "source": [
        "## https://www.acmicpc.net/problem/11286\n",
        "\n",
        "import heapq\n",
        "\n",
        "cy = int(input())\n",
        "li = []\n",
        "\n",
        "for cy in range(cy):\n",
        "  x = int(input())\n",
        "\n",
        "  if x != 0:\n",
        "    heapq.heappush(li, (abs(x), x))\n",
        "  else:\n",
        "    try:\n",
        "      print(heapq.heappop(li)[1])\n",
        "    except:\n",
        "      print(0)"
      ],
      "metadata": {
        "id": "y3wMMfb68bJg",
        "outputId": "e061e76e-4bfe-4eaa-845f-15863eebc478",
        "colab": {
          "base_uri": "https://localhost:8080/"
        }
      },
      "execution_count": null,
      "outputs": [
        {
          "name": "stdout",
          "output_type": "stream",
          "text": [
            "5\n",
            "1\n",
            "0\n",
            "1\n",
            "0\n",
            "0\n",
            "2\n",
            "2\n"
          ]
        }
      ]
    }
  ]
}