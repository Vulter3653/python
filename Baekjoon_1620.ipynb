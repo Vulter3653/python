{
  "nbformat": 4,
  "nbformat_minor": 0,
  "metadata": {
    "colab": {
      "name": "Baekjoon_1620.ipynb",
      "provenance": [],
      "collapsed_sections": [],
      "authorship_tag": "ABX9TyN1boCmsNrZRR2UoU/LGeCr",
      "include_colab_link": true
    },
    "kernelspec": {
      "name": "python3",
      "display_name": "Python 3"
    },
    "language_info": {
      "name": "python"
    }
  },
  "cells": [
    {
      "cell_type": "markdown",
      "metadata": {
        "id": "view-in-github",
        "colab_type": "text"
      },
      "source": [
        "<a href=\"https://colab.research.google.com/github/Vulter3653/python/blob/main/Baekjoon_1620.ipynb\" target=\"_parent\"><img src=\"https://colab.research.google.com/assets/colab-badge.svg\" alt=\"Open In Colab\"/></a>"
      ]
    },
    {
      "cell_type": "code",
      "source": [
        "N,M = map(int, input().split())\n",
        "num = []\n",
        "poke = []\n",
        "\n",
        "for N in range(N):\n",
        "  poke.append(input().rstrip())\n",
        "  num.append(str(N+1))\n",
        "\n",
        "poke_dic = dict(zip(num,poke))\n",
        "print(poke_dic)\n",
        "\n",
        "for M in range(M):\n",
        "  x=input().rstrip()\n",
        "  if x in poke_dic.keys():\n",
        "    print(poke_dic[x])\n",
        "  else:\n",
        "    y=poke.index(x)\n",
        "    print(num[y])"
      ],
      "metadata": {
        "colab": {
          "base_uri": "https://localhost:8080/"
        },
        "id": "4P60ujPSSoZd",
        "outputId": "de1830dd-57da-4f92-d1bf-0297f7905305"
      },
      "execution_count": 47,
      "outputs": [
        {
          "output_type": "stream",
          "name": "stdout",
          "text": [
            "26 5\n",
            "Bulbasaur\n",
            "Ivysaur\n",
            "Venusaur\n",
            "Charmander\n",
            "Charmeleon\n",
            "Charizard\n",
            "Squirtle\n",
            "Wartortle\n",
            "Blastoise\n",
            "Caterpie\n",
            "Metapod\n",
            "Butterfree\n",
            "Weedle\n",
            "Kakuna\n",
            "Beedrill\n",
            "Pidgey\n",
            "Pidgeotto\n",
            "Pidgeot\n",
            "Rattata\n",
            "Raticate\n",
            "Spearow\n",
            "Fearow\n",
            "Ekans\n",
            "Arbok\n",
            "Pikachu\n",
            "Raichu\n",
            "{'1': 'Bulbasaur', '2': 'Ivysaur', '3': 'Venusaur', '4': 'Charmander', '5': 'Charmeleon', '6': 'Charizard', '7': 'Squirtle', '8': 'Wartortle', '9': 'Blastoise', '10': 'Caterpie', '11': 'Metapod', '12': 'Butterfree', '13': 'Weedle', '14': 'Kakuna', '15': 'Beedrill', '16': 'Pidgey', '17': 'Pidgeotto', '18': 'Pidgeot', '19': 'Rattata', '20': 'Raticate', '21': 'Spearow', '22': 'Fearow', '23': 'Ekans', '24': 'Arbok', '25': 'Pikachu', '26': 'Raichu'}\n",
            "25\n",
            "Pikachu\n",
            "Raichu\n",
            "26\n",
            "3\n",
            "Venusaur\n",
            "Pidgey\n",
            "16\n",
            "Kakuna\n",
            "14\n"
          ]
        }
      ]
    },
    {
      "cell_type": "code",
      "source": [
        "#Python3 -> 시간초과, PyPy3 -> 맞았습니다!\n",
        "import sys\n",
        "\n",
        "N,M = map(int, sys.stdin.readline().split())\n",
        "num = []\n",
        "poke = []\n",
        "\n",
        "for N in range(N):\n",
        "  poke.append(sys.stdin.readline().rstrip())\n",
        "  num.append(str(N+1))\n",
        "\n",
        "poke_dic = dict(zip(num,poke))\n",
        "\n",
        "for M in range(M):\n",
        "  x=sys.stdin.readline().rstrip()\n",
        "  if x in poke_dic.keys():\n",
        "    print(poke_dic[x])\n",
        "  else:\n",
        "    y=poke.index(x)\n",
        "    print(num[y])"
      ],
      "metadata": {
        "id": "OqM8NYtzcN16"
      },
      "execution_count": null,
      "outputs": []
    }
  ]
}