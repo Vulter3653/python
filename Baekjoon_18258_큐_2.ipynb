{
  "nbformat": 4,
  "nbformat_minor": 0,
  "metadata": {
    "colab": {
      "name": "Baekjoon_18258_큐 2.ipynb",
      "provenance": [],
      "authorship_tag": "ABX9TyN4O/KjdfymkGvgtD7yIuek",
      "include_colab_link": true
    },
    "kernelspec": {
      "name": "python3",
      "display_name": "Python 3"
    },
    "language_info": {
      "name": "python"
    }
  },
  "cells": [
    {
      "cell_type": "markdown",
      "metadata": {
        "id": "view-in-github",
        "colab_type": "text"
      },
      "source": [
        "<a href=\"https://colab.research.google.com/github/Vulter3653/python/blob/main/Baekjoon_18258_%ED%81%90_2.ipynb\" target=\"_parent\"><img src=\"https://colab.research.google.com/assets/colab-badge.svg\" alt=\"Open In Colab\"/></a>"
      ]
    },
    {
      "cell_type": "code",
      "execution_count": 15,
      "metadata": {
        "colab": {
          "base_uri": "https://localhost:8080/"
        },
        "id": "0BFPLGqyjQm8",
        "outputId": "a3623372-f4bc-43b6-c4d9-5184ed8eb8cb"
      },
      "outputs": [
        {
          "output_type": "stream",
          "name": "stdout",
          "text": [
            "15\n",
            "push 1\n",
            "push 2\n",
            "front\n",
            "1\n",
            "brack\n",
            "size\n",
            "2\n",
            "empty\n",
            "0\n",
            "pop\n",
            "1\n",
            "pop\n",
            "2\n",
            "pop\n",
            "-1\n",
            "size\n",
            "0\n",
            "empty\n",
            "1\n",
            "pop\n",
            "-1\n",
            "push 3\n",
            "empty\n",
            "0\n",
            "front\n",
            "3\n"
          ]
        }
      ],
      "source": [
        "from collections import deque\n",
        "\n",
        "N = int(input().rstrip())\n",
        "queue = deque([])\n",
        "\n",
        "for N in range(N):\n",
        "  x = input().rstrip().split()\n",
        "  if x[0] == \"push\":\n",
        "    queue.append(int(x[-1]))\n",
        "  elif x[0] == \"pop\":\n",
        "    if len(queue) != 0:\n",
        "      print(queue.popleft()) #그냥 pop을 사용했을 경우엔 시간초과발생\n",
        "    else:\n",
        "      print(-1)\n",
        "  elif x[0] == \"size\":\n",
        "    print(len(queue))\n",
        "  elif x[0] == \"empty\":\n",
        "    if len(queue) != 0:\n",
        "      print(0)\n",
        "    else:\n",
        "      print(1)\n",
        "  elif x[0] == \"front\":\n",
        "    if len(queue) != 0:\n",
        "      print(queue[0])\n",
        "    else:\n",
        "      print(-1)\n",
        "  elif x[0] == \"back\":\n",
        "    if len(queue) != 0:\n",
        "      print(queue[-1])\n",
        "    else:\n",
        "      print(-1)"
      ]
    },
    {
      "cell_type": "code",
      "source": [
        "import sys\n",
        "from collections import deque\n",
        "\n",
        "N = int(sys.stdin.readline().rstrip())\n",
        "queue = deque([])\n",
        "\n",
        "for N in range(N):\n",
        "  x = sys.stdin.readline().rstrip().split()\n",
        "  if x[0] == \"push\":\n",
        "    queue.append(int(x[-1]))\n",
        "  elif x[0] == \"pop\":\n",
        "    if len(queue) != 0:\n",
        "      print(queue.popleft())\n",
        "    else:\n",
        "      print(-1)\n",
        "  elif x[0] == \"size\":\n",
        "    print(len(queue))\n",
        "  elif x[0] == \"empty\":\n",
        "    if len(queue) != 0:\n",
        "      print(0)\n",
        "    else:\n",
        "      print(1)\n",
        "  elif x[0] == \"front\":\n",
        "    if len(queue) != 0:\n",
        "      print(queue[0])\n",
        "    else:\n",
        "      print(-1)\n",
        "  elif x[0] == \"back\":\n",
        "    if len(queue) != 0:\n",
        "      print(queue[-1])\n",
        "    else:\n",
        "      print(-1)"
      ],
      "metadata": {
        "colab": {
          "base_uri": "https://localhost:8080/",
          "height": 248
        },
        "id": "UZkIHBjfUiBa",
        "outputId": "8dd70d65-4583-475d-b913-2ed68cba1e19"
      },
      "execution_count": 10,
      "outputs": [
        {
          "output_type": "error",
          "ename": "ValueError",
          "evalue": "ignored",
          "traceback": [
            "\u001b[0;31m---------------------------------------------------------------------------\u001b[0m",
            "\u001b[0;31mValueError\u001b[0m                                Traceback (most recent call last)",
            "\u001b[0;32m<ipython-input-10-07f6499d3a3d>\u001b[0m in \u001b[0;36m<module>\u001b[0;34m()\u001b[0m\n\u001b[1;32m      1\u001b[0m \u001b[0;32mimport\u001b[0m \u001b[0msys\u001b[0m\u001b[0;34m\u001b[0m\u001b[0;34m\u001b[0m\u001b[0m\n\u001b[1;32m      2\u001b[0m \u001b[0;34m\u001b[0m\u001b[0m\n\u001b[0;32m----> 3\u001b[0;31m \u001b[0mN\u001b[0m \u001b[0;34m=\u001b[0m \u001b[0mint\u001b[0m\u001b[0;34m(\u001b[0m\u001b[0msys\u001b[0m\u001b[0;34m.\u001b[0m\u001b[0mstdin\u001b[0m\u001b[0;34m.\u001b[0m\u001b[0mreadline\u001b[0m\u001b[0;34m(\u001b[0m\u001b[0;34m)\u001b[0m\u001b[0;34m.\u001b[0m\u001b[0mrstrip\u001b[0m\u001b[0;34m(\u001b[0m\u001b[0;34m)\u001b[0m\u001b[0;34m)\u001b[0m\u001b[0;34m\u001b[0m\u001b[0;34m\u001b[0m\u001b[0m\n\u001b[0m\u001b[1;32m      4\u001b[0m \u001b[0marr\u001b[0m \u001b[0;34m=\u001b[0m \u001b[0;34m[\u001b[0m\u001b[0;34m]\u001b[0m\u001b[0;34m\u001b[0m\u001b[0;34m\u001b[0m\u001b[0m\n\u001b[1;32m      5\u001b[0m \u001b[0mlen_arr\u001b[0m \u001b[0;34m=\u001b[0m \u001b[0mlen\u001b[0m\u001b[0;34m(\u001b[0m\u001b[0marr\u001b[0m\u001b[0;34m)\u001b[0m\u001b[0;34m\u001b[0m\u001b[0;34m\u001b[0m\u001b[0m\n",
            "\u001b[0;31mValueError\u001b[0m: invalid literal for int() with base 10: ''"
          ]
        }
      ]
    },
    {
      "cell_type": "code",
      "source": [
        "y = input().rstrip().split()\n",
        "\n",
        "print(y[0:4])\n",
        "print(y[-1])"
      ],
      "metadata": {
        "colab": {
          "base_uri": "https://localhost:8080/"
        },
        "id": "BzHbAaS_TF_F",
        "outputId": "68394db8-7ed9-4284-e6cd-35f50b74b004"
      },
      "execution_count": 9,
      "outputs": [
        {
          "output_type": "stream",
          "name": "stdout",
          "text": [
            "push 1\n",
            "['push', '1']\n",
            "1\n"
          ]
        }
      ]
    }
  ]
}