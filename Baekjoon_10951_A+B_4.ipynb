{
  "nbformat": 4,
  "nbformat_minor": 0,
  "metadata": {
    "colab": {
      "name": "Baekjoon_10951_A+B - 4.ipynb",
      "provenance": [],
      "collapsed_sections": [],
      "authorship_tag": "ABX9TyMJ0oQCX3eWMT5674euejOT",
      "include_colab_link": true
    },
    "kernelspec": {
      "name": "python3",
      "display_name": "Python 3"
    },
    "language_info": {
      "name": "python"
    }
  },
  "cells": [
    {
      "cell_type": "markdown",
      "metadata": {
        "id": "view-in-github",
        "colab_type": "text"
      },
      "source": [
        "<a href=\"https://colab.research.google.com/github/Vulter3653/python/blob/main/Baekjoon_10951_A%2BB_4.ipynb\" target=\"_parent\"><img src=\"https://colab.research.google.com/assets/colab-badge.svg\" alt=\"Open In Colab\"/></a>"
      ]
    },
    {
      "cell_type": "code",
      "execution_count": null,
      "metadata": {
        "id": "An-Rk2aOgrXb"
      },
      "outputs": [],
      "source": [
        "#EOF 에러 -> 파일의 끝이 올 것을 몰랐는데 끝났을때 발생\n",
        "while True:\n",
        "  try:\n",
        "    a,b = map(int, input().rstrip().split())\n",
        "    print(a+b)\n",
        "  except EOFError:\n",
        "    break"
      ]
    },
    {
      "cell_type": "code",
      "source": [
        "# Value 에러 -> sys 는 아무것도 받은 것이 없어도 비어 있는 상태로 입력됨\n",
        "import sys\n",
        "\n",
        "while True:\n",
        "  try:\n",
        "    a,b = map(int, sys.stdin.readline().rstrip().split())\n",
        "    print(a+b)\n",
        "  except ValueError:\n",
        "    break"
      ],
      "metadata": {
        "id": "rAnfWPu9h8cw"
      },
      "execution_count": null,
      "outputs": []
    }
  ]
}