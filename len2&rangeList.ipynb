{
  "nbformat": 4,
  "nbformat_minor": 0,
  "metadata": {
    "colab": {
      "name": "len2&rangeList.ipynb",
      "provenance": [],
      "authorship_tag": "ABX9TyOSrhaeuR6q28szkXWUOtay",
      "include_colab_link": true
    },
    "kernelspec": {
      "name": "python3",
      "display_name": "Python 3"
    },
    "language_info": {
      "name": "python"
    }
  },
  "cells": [
    {
      "cell_type": "markdown",
      "metadata": {
        "id": "view-in-github",
        "colab_type": "text"
      },
      "source": [
        "<a href=\"https://colab.research.google.com/github/Vulter3653/python/blob/main/len2%26rangeList.ipynb\" target=\"_parent\"><img src=\"https://colab.research.google.com/assets/colab-badge.svg\" alt=\"Open In Colab\"/></a>"
      ]
    },
    {
      "cell_type": "code",
      "execution_count": 4,
      "metadata": {
        "colab": {
          "base_uri": "https://localhost:8080/"
        },
        "id": "g9iPMiaMvnNQ",
        "outputId": "b57ef7e8-ea73-422b-b420-c182b4169754"
      },
      "outputs": [
        {
          "output_type": "execute_result",
          "data": {
            "text/plain": [
              "4"
            ]
          },
          "metadata": {},
          "execution_count": 4
        }
      ],
      "source": [
        "def len2(n):\n",
        "  cnt = 0\n",
        "  while True:\n",
        "    try:\n",
        "      n.pop()\n",
        "      cnt += 1\n",
        "    except:\n",
        "      break\n",
        "  return cnt\n",
        "\n",
        "a = [1,3,4,5]\n",
        "\n",
        "len2(a)"
      ]
    },
    {
      "cell_type": "code",
      "source": [
        "def rangeList(n):\n",
        "  a = []\n",
        "  cnt = 0\n",
        "  while True:\n",
        "    if cnt == n:\n",
        "      break\n",
        "    else:\n",
        "      a.append(cnt)\n",
        "      cnt +=1\n",
        "  return a\n",
        "\n",
        "rangeList(19)"
      ],
      "metadata": {
        "colab": {
          "base_uri": "https://localhost:8080/"
        },
        "id": "sMYr_jJhwkm1",
        "outputId": "a35e6cfe-443a-4540-a8c9-cff4ec8f9bf3"
      },
      "execution_count": 6,
      "outputs": [
        {
          "output_type": "execute_result",
          "data": {
            "text/plain": [
              "[0, 1, 2, 3, 4, 5, 6, 7, 8, 9, 10, 11, 12, 13, 14, 15, 16, 17, 18]"
            ]
          },
          "metadata": {},
          "execution_count": 6
        }
      ]
    }
  ]
}