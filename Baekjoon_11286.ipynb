{
  "nbformat": 4,
  "nbformat_minor": 0,
  "metadata": {
    "colab": {
      "name": "Baekjoon_11286.ipynb",
      "provenance": [],
      "collapsed_sections": [],
      "authorship_tag": "ABX9TyPSGwgTJjLZZEejBHiy7hjE",
      "include_colab_link": true
    },
    "kernelspec": {
      "name": "python3",
      "display_name": "Python 3"
    },
    "language_info": {
      "name": "python"
    }
  },
  "cells": [
    {
      "cell_type": "markdown",
      "metadata": {
        "id": "view-in-github",
        "colab_type": "text"
      },
      "source": [
        "<a href=\"https://colab.research.google.com/github/Vulter3653/python/blob/main/Baekjoon_11286.ipynb\" target=\"_parent\"><img src=\"https://colab.research.google.com/assets/colab-badge.svg\" alt=\"Open In Colab\"/></a>"
      ]
    },
    {
      "cell_type": "code",
      "execution_count": null,
      "metadata": {
        "id": "eM8MoUbB8Um3"
      },
      "outputs": [],
      "source": [
        "import heapq\n",
        "import sys\n",
        "\n",
        "arr = []\n",
        "\n",
        "for i in range(int(sys.stdin.readline())):\n",
        "  x = int(sys.stdin.readline())\n",
        "  if x != 0:\n",
        "    heapq.heappush(arr, (abs(x), x))\n",
        "  else:\n",
        "    try:\n",
        "      print(heapq.heappop(arr)[1])\n",
        "    except:\n",
        "      print(0)"
      ]
    }
  ]
}