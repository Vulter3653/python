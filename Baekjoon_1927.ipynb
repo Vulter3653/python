{
  "nbformat": 4,
  "nbformat_minor": 0,
  "metadata": {
    "colab": {
      "name": "Baekjoon_1927.ipynb",
      "provenance": [],
      "authorship_tag": "ABX9TyOAfosPUWHyRPINzG8DYPQq",
      "include_colab_link": true
    },
    "kernelspec": {
      "name": "python3",
      "display_name": "Python 3"
    },
    "language_info": {
      "name": "python"
    }
  },
  "cells": [
    {
      "cell_type": "markdown",
      "metadata": {
        "id": "view-in-github",
        "colab_type": "text"
      },
      "source": [
        "<a href=\"https://colab.research.google.com/github/Vulter3653/python/blob/main/Baekjoon_1927.ipynb\" target=\"_parent\"><img src=\"https://colab.research.google.com/assets/colab-badge.svg\" alt=\"Open In Colab\"/></a>"
      ]
    },
    {
      "cell_type": "code",
      "execution_count": 10,
      "metadata": {
        "colab": {
          "base_uri": "https://localhost:8080/"
        },
        "id": "fjCXAGnExOvp",
        "outputId": "a14aa1db-aa62-4874-a1f1-cdb7922e42e9"
      },
      "outputs": [
        {
          "name": "stdout",
          "output_type": "stream",
          "text": [
            "9\n",
            "0\n",
            "0\n",
            "12345678\n",
            "1\n",
            "2\n",
            "0\n",
            "1\n",
            "0\n",
            "2\n",
            "0\n",
            "12345678\n",
            "0\n",
            "0\n",
            "32\n"
          ]
        }
      ],
      "source": [
        "#직접 입력하는 경우\n",
        "import heapq\n",
        "\n",
        "arr = []\n",
        "\n",
        "for _ in range(int(input())):\n",
        "  x = int(input())\n",
        "\n",
        "  if x == 0:\n",
        "    if len(arr) == 0:\n",
        "      print(0)\n",
        "    else:\n",
        "      print(heapq.heappop(arr))\n",
        "  else:\n",
        "      heapq.heappush(arr, x)"
      ]
    },
    {
      "cell_type": "code",
      "source": [
        "import heapq\n",
        "import sys\n",
        "input = sys.stdin.readline\n",
        "\n",
        "arr = []\n",
        "\n",
        "for _ in range(int(input())):\n",
        "  x = int(input())\n",
        "\n",
        "  if x == 0:\n",
        "    if len(arr) == 0:\n",
        "      print(0)\n",
        "    else:\n",
        "      print(heapq.heappop(arr))\n",
        "  else:\n",
        "      heapq.heappush(arr, x)"
      ],
      "metadata": {
        "id": "C-L8jBPdymI8"
      },
      "execution_count": null,
      "outputs": []
    },
    {
      "cell_type": "code",
      "source": [
        "#런타임_에러(AttributeError) 발생\n",
        "import heapq\n",
        "import sys\n",
        "\n",
        "arr = []\n",
        "\n",
        "for _ in range(int(sys.stdin.readline())):\n",
        "  x = int(sys.stdin.read.line())\n",
        "  if x == 0:\n",
        "    if len(arr) == 0:\n",
        "      print(0)\n",
        "    else:\n",
        "      print(heapq.heappop(arr))\n",
        "  else:\n",
        "      heapq.heappush(arr, x)"
      ],
      "metadata": {
        "id": "s2zcc-yn36v6"
      },
      "execution_count": null,
      "outputs": []
    }
  ]
}