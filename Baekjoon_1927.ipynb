{
  "nbformat": 4,
  "nbformat_minor": 0,
  "metadata": {
    "colab": {
      "name": "Baekjoon_1927.ipynb",
      "provenance": [],
      "authorship_tag": "ABX9TyOZughZY0A4ufGwrFanJzop",
      "include_colab_link": true
    },
    "kernelspec": {
      "name": "python3",
      "display_name": "Python 3"
    },
    "language_info": {
      "name": "python"
    }
  },
  "cells": [
    {
      "cell_type": "markdown",
      "metadata": {
        "id": "view-in-github",
        "colab_type": "text"
      },
      "source": [
        "<a href=\"https://colab.research.google.com/github/Vulter3653/python/blob/main/Baekjoon_1927.ipynb\" target=\"_parent\"><img src=\"https://colab.research.google.com/assets/colab-badge.svg\" alt=\"Open In Colab\"/></a>"
      ]
    },
    {
      "cell_type": "code",
      "execution_count": null,
      "metadata": {
        "id": "ON5b0gB-7wKb"
      },
      "outputs": [],
      "source": [
        "#직접 입력하는 경우\n",
        "import heapq\n",
        "\n",
        "arr = []\n",
        "\n",
        "for _ in range(int(input())):\n",
        "  x = int(input())\n",
        "\n",
        "  if x == 0:\n",
        "    if len(arr) == 0:\n",
        "      print(0)\n",
        "    else:\n",
        "      print(heapq.heappop(arr))\n",
        "  else:\n",
        "      heapq.heappush(arr, x)"
      ]
    },
    {
      "cell_type": "code",
      "source": [
        "import heapq\n",
        "import sys\n",
        "a = sys.stdin.readline\n",
        "\n",
        "arr = []\n",
        "\n",
        "for _ in range(int(a())):\n",
        "  x = int(a())\n",
        "\n",
        "  if x == 0:\n",
        "    if len(arr) == 0:\n",
        "      print(0)\n",
        "    else:\n",
        "      print(heapq.heappop(arr))\n",
        "  else:\n",
        "      heapq.heappush(arr, x)"
      ],
      "metadata": {
        "id": "BqnoaeTI71QX"
      },
      "execution_count": null,
      "outputs": []
    },
    {
      "cell_type": "code",
      "source": [
        "#런타임_에러(AttributeError) 발생\n",
        "import heapq\n",
        "import sys\n",
        "\n",
        "arr = []\n",
        "\n",
        "for _ in range(int(sys.stdin.readline())):\n",
        "  x = int(sys.stdin.read.line())\n",
        "  if x == 0:\n",
        "    if len(arr) == 0:\n",
        "      print(0)\n",
        "    else:\n",
        "      print(heapq.heappop(arr))\n",
        "  else:\n",
        "      heapq.heappush(arr, x)"
      ],
      "metadata": {
        "id": "tz8YF1vW73dG"
      },
      "execution_count": null,
      "outputs": []
    }
  ]
}