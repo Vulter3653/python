{
  "nbformat": 4,
  "nbformat_minor": 0,
  "metadata": {
    "colab": {
      "name": "Baekjoon_11382_꼬마 정민.ipynb",
      "provenance": [],
      "collapsed_sections": [],
      "authorship_tag": "ABX9TyNhLEvGLVGa32PRWURtvXep",
      "include_colab_link": true
    },
    "kernelspec": {
      "name": "python3",
      "display_name": "Python 3"
    },
    "language_info": {
      "name": "python"
    }
  },
  "cells": [
    {
      "cell_type": "markdown",
      "metadata": {
        "id": "view-in-github",
        "colab_type": "text"
      },
      "source": [
        "<a href=\"https://colab.research.google.com/github/Vulter3653/python/blob/main/Baekjoon_11382_%EA%BC%AC%EB%A7%88_%EC%A0%95%EB%AF%BC.ipynb\" target=\"_parent\"><img src=\"https://colab.research.google.com/assets/colab-badge.svg\" alt=\"Open In Colab\"/></a>"
      ]
    },
    {
      "cell_type": "code",
      "execution_count": 1,
      "metadata": {
        "colab": {
          "base_uri": "https://localhost:8080/"
        },
        "id": "tqcWcHe7ekwE",
        "outputId": "bf0bcd55-deb7-4f56-ea18-409384629bb4"
      },
      "outputs": [
        {
          "output_type": "stream",
          "name": "stdout",
          "text": [
            "77 77 7777\n",
            "7931\n"
          ]
        }
      ],
      "source": [
        "print(sum(list(map(int,input().split()))))"
      ]
    },
    {
      "cell_type": "code",
      "source": [
        "import sys\n",
        "print(sum(list(map(int,sys.stdin.readline().rstrip().split()))))"
      ],
      "metadata": {
        "id": "lmuMoCZ7ezPv"
      },
      "execution_count": null,
      "outputs": []
    }
  ]
}