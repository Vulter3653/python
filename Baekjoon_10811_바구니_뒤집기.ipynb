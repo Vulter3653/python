{
  "nbformat": 4,
  "nbformat_minor": 0,
  "metadata": {
    "colab": {
      "provenance": [],
      "authorship_tag": "ABX9TyO0Ig3tImI0lsacgM5D+JA9",
      "include_colab_link": true
    },
    "kernelspec": {
      "name": "python3",
      "display_name": "Python 3"
    },
    "language_info": {
      "name": "python"
    }
  },
  "cells": [
    {
      "cell_type": "markdown",
      "metadata": {
        "id": "view-in-github",
        "colab_type": "text"
      },
      "source": [
        "<a href=\"https://colab.research.google.com/github/Vulter3653/python/blob/main/Baekjoon_10811_%EB%B0%94%EA%B5%AC%EB%8B%88_%EB%92%A4%EC%A7%91%EA%B8%B0.ipynb\" target=\"_parent\"><img src=\"https://colab.research.google.com/assets/colab-badge.svg\" alt=\"Open In Colab\"/></a>"
      ]
    },
    {
      "cell_type": "code",
      "execution_count": 24,
      "metadata": {
        "colab": {
          "base_uri": "https://localhost:8080/"
        },
        "id": "lIlmW12Uflwb",
        "outputId": "25f18273-06dd-4aa3-8cab-3c5a47cf3fa9"
      },
      "outputs": [
        {
          "output_type": "stream",
          "name": "stdout",
          "text": [
            "[1, 2, 3, 4, 5]\n",
            "[3, 2, 1]\n"
          ]
        }
      ],
      "source": [
        "a = list(range(1,6))\n",
        "print(a)\n",
        "print(a[2::-1])"
      ]
    },
    {
      "cell_type": "code",
      "source": [
        "n,m = map(int,input().split())\n",
        "basket_list=list(range(1,n+1))\n",
        "for _ in range(m):\n",
        "  i,j = map(int,input().split())\n",
        "  basket_list = basket_list[:i-1]+basket_list[i-1:j][::-1]+basket_list[j:]\n",
        "  print(basket_list)\n",
        "print(basket_list)\n",
        "# [1 2 3 4 5]\n",
        "# [2 1 3 4 5]\n",
        "# [2 1 4 3 5]\n",
        "# [3 4 1 2 5]\n",
        "# [3 4 1 2 5]"
      ],
      "metadata": {
        "colab": {
          "base_uri": "https://localhost:8080/"
        },
        "id": "bN41br3cm1rq",
        "outputId": "9891c0f7-50cc-4954-84bc-f2042d1bfc01"
      },
      "execution_count": 33,
      "outputs": [
        {
          "output_type": "stream",
          "name": "stdout",
          "text": [
            "5 4\n",
            "1 2\n",
            "[2, 1, 3, 4, 5]\n",
            "3 4\n",
            "[2, 1, 4, 3, 5]\n",
            "1 4\n",
            "[3, 4, 1, 2, 5]\n",
            "2 2\n",
            "[3, 4, 1, 2, 5]\n",
            "[3, 4, 1, 2, 5]\n"
          ]
        }
      ]
    },
    {
      "cell_type": "code",
      "source": [
        "n,m = map(int,input().split())\n",
        "basket_list=list(range(1,n+1))\n",
        "for _ in range(m):\n",
        "  i,j = map(int,input().split())\n",
        "  basket_list = basket_list[:i-1]+basket_list[i-1:j][::-1]+basket_list[j:]\n",
        "print(' '.join(map(str, basket_list)))"
      ],
      "metadata": {
        "colab": {
          "base_uri": "https://localhost:8080/"
        },
        "id": "xmncswT7o2a-",
        "outputId": "b95fd6ba-400d-4687-ebaf-ee999a8310fb"
      },
      "execution_count": 35,
      "outputs": [
        {
          "output_type": "stream",
          "name": "stdout",
          "text": [
            "5 4\n",
            "1 2\n",
            "3 4\n",
            "1 4\n",
            "2 2\n",
            "3 4 1 2 5\n"
          ]
        }
      ]
    },
    {
      "cell_type": "code",
      "source": [
        "import sys\n",
        "n,m = map(int,sys.stdin.readline().split())\n",
        "basket_list=list(range(1,n+1))\n",
        "for _ in range(m):\n",
        "  i,j = map(int,sys.stdin.readline().split())\n",
        "  basket_list = basket_list[:i-1]+basket_list[i-1:j][::-1]+basket_list[j:]\n",
        "print(' '.join(map(str, basket_list)))"
      ],
      "metadata": {
        "id": "uR-DWeoXnPNv"
      },
      "execution_count": null,
      "outputs": []
    }
  ]
}