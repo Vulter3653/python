{
  "nbformat": 4,
  "nbformat_minor": 0,
  "metadata": {
    "colab": {
      "name": "Baekjoon_2960_에라토스테네스의 체.ipynb",
      "provenance": [],
      "authorship_tag": "ABX9TyOgaoRwf0wPBOHcRFuKn/PK",
      "include_colab_link": true
    },
    "kernelspec": {
      "name": "python3",
      "display_name": "Python 3"
    },
    "language_info": {
      "name": "python"
    }
  },
  "cells": [
    {
      "cell_type": "markdown",
      "metadata": {
        "id": "view-in-github",
        "colab_type": "text"
      },
      "source": [
        "<a href=\"https://colab.research.google.com/github/Vulter3653/python/blob/main/Baekjoon_2960_%EC%97%90%EB%9D%BC%ED%86%A0%EC%8A%A4%ED%85%8C%EB%84%A4%EC%8A%A4%EC%9D%98_%EC%B2%B4.ipynb\" target=\"_parent\"><img src=\"https://colab.research.google.com/assets/colab-badge.svg\" alt=\"Open In Colab\"/></a>"
      ]
    },
    {
      "cell_type": "code",
      "execution_count": 66,
      "metadata": {
        "colab": {
          "base_uri": "https://localhost:8080/"
        },
        "id": "hGCntYIXqtAk",
        "outputId": "28d9edb1-aac9-4a32-da26-52b41ae5cdc3"
      },
      "outputs": [
        {
          "output_type": "stream",
          "name": "stdout",
          "text": [
            "1000 5\n",
            "997\n"
          ]
        }
      ],
      "source": [
        "N,K = map(int,input().split())\n",
        "cnt = 0\n",
        "q = []\n",
        "\n",
        "arr = [True]*(N+1)\n",
        "arr [0] = False\n",
        "arr [1] = False\n",
        "\n",
        "for i in range (2, N+1):\n",
        "  if cnt == K:\n",
        "    break\n",
        "  elif arr[i] == True:\n",
        "    j = 1\n",
        "\n",
        "    while (i*j) <= N:\n",
        "      if arr[i*j] == True:\n",
        "        cnt+=1\n",
        "        q.append(i*j)\n",
        "      arr[i*j] = False\n",
        "      if cnt == K:\n",
        "        break   \n",
        "      j +=1\n",
        "\n",
        "print(q.pop())"
      ]
    },
    {
      "cell_type": "code",
      "source": [
        "import sys\n",
        "N,K = map(int,sys.stdin.readline().split())\n",
        "cnt = 0\n",
        "q = []\n",
        "\n",
        "arr = [True]*(N+1)\n",
        "arr [0] = False\n",
        "arr [1] = False\n",
        "\n",
        "for i in range (2, N+1):\n",
        "  if cnt == K:\n",
        "    break\n",
        "  elif arr[i] == True:\n",
        "    j = 1\n",
        "\n",
        "    while (i*j) <= N:\n",
        "      if arr[i*j] == True:\n",
        "        cnt+=1\n",
        "        q.append(i*j)\n",
        "      arr[i*j] = False\n",
        "      if cnt == K:\n",
        "        break   \n",
        "      j +=1\n",
        "\n",
        "print(q.pop())"
      ],
      "metadata": {
        "id": "Wcqz5Uvo4zDN"
      },
      "execution_count": null,
      "outputs": []
    },
    {
      "cell_type": "code",
      "source": [
        "N,K = map(int,input().split())\n",
        "cnt = 0\n",
        "t = []\n",
        "q = []\n",
        "\n",
        "arr = [True]*(N+1)\n",
        "arr [0] = False\n",
        "arr [1] = False\n",
        "\n",
        "for i in range (2, N+1):\n",
        "  if cnt == K:\n",
        "    break\n",
        "  elif arr[i] == True:\n",
        "    j = 1\n",
        "\n",
        "    while (i*j) <= N:\n",
        "      if arr[i*j] == True:\n",
        "        cnt+=1\n",
        "        q.append(i*j)\n",
        "      arr[i*j] = False   \n",
        "      if cnt == K:\n",
        "        break  \n",
        "      j +=1\n",
        "\n",
        "for i in range(len(arr)):\n",
        "      if arr[i] == True:\n",
        "        t.append(i)\n",
        "\n",
        "print(cnt)\n",
        "print(t)\n",
        "print(q)"
      ],
      "metadata": {
        "colab": {
          "base_uri": "https://localhost:8080/"
        },
        "id": "ZQ04At-urvOI",
        "outputId": "82dd34a0-7e36-4703-8bfb-130e1b22ed80"
      },
      "execution_count": 71,
      "outputs": [
        {
          "output_type": "stream",
          "name": "stdout",
          "text": [
            "100 5\n",
            "5\n",
            "[3, 5, 7, 9, 11, 12, 13, 14, 15, 16, 17, 18, 19, 20, 21, 22, 23, 24, 25, 26, 27, 28, 29, 30, 31, 32, 33, 34, 35, 36, 37, 38, 39, 40, 41, 42, 43, 44, 45, 46, 47, 48, 49, 50, 51, 52, 53, 54, 55, 56, 57, 58, 59, 60, 61, 62, 63, 64, 65, 66, 67, 68, 69, 70, 71, 72, 73, 74, 75, 76, 77, 78, 79, 80, 81, 82, 83, 84, 85, 86, 87, 88, 89, 90, 91, 92, 93, 94, 95, 96, 97, 98, 99, 100]\n",
            "[2, 4, 6, 8, 10]\n"
          ]
        }
      ]
    }
  ]
}