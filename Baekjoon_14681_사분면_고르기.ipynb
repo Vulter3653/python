{
  "nbformat": 4,
  "nbformat_minor": 0,
  "metadata": {
    "colab": {
      "name": "Baekjoon_14681_사분면 고르기.ipynb",
      "provenance": [],
      "authorship_tag": "ABX9TyMalSlp13JaFSeGkFOdgBH6",
      "include_colab_link": true
    },
    "kernelspec": {
      "name": "python3",
      "display_name": "Python 3"
    },
    "language_info": {
      "name": "python"
    }
  },
  "cells": [
    {
      "cell_type": "markdown",
      "metadata": {
        "id": "view-in-github",
        "colab_type": "text"
      },
      "source": [
        "<a href=\"https://colab.research.google.com/github/Vulter3653/python/blob/main/Baekjoon_14681_%EC%82%AC%EB%B6%84%EB%A9%B4_%EA%B3%A0%EB%A5%B4%EA%B8%B0.ipynb\" target=\"_parent\"><img src=\"https://colab.research.google.com/assets/colab-badge.svg\" alt=\"Open In Colab\"/></a>"
      ]
    },
    {
      "cell_type": "code",
      "execution_count": 2,
      "metadata": {
        "colab": {
          "base_uri": "https://localhost:8080/"
        },
        "id": "jZGjI2DeSlfk",
        "outputId": "553a8ad7-3d6b-477a-f9d0-137d65d868dd"
      },
      "outputs": [
        {
          "output_type": "stream",
          "name": "stdout",
          "text": [
            "9\n",
            "-13\n",
            "5\n"
          ]
        }
      ],
      "source": [
        "a = int(input().rstrip())\n",
        "b = int(input().rstrip())\n",
        "\n",
        "if a > 0 and b >0:\n",
        "  print(1)\n",
        "elif a < 0 and b > 0:\n",
        "  print(2)\n",
        "elif a > 0 and b < 0:\n",
        "  print(4)\n",
        "elif a < 0 and b < 0:\n",
        "  print(3)"
      ]
    },
    {
      "cell_type": "code",
      "source": [
        "import sys\n",
        "\n",
        "a = int(sys.stdin.readline().rstrip())\n",
        "b = int(sys.stdin.readline().rstrip())\n",
        "\n",
        "if a > 0 and b >0:\n",
        "  print(1)\n",
        "elif a < 0 and b > 0:\n",
        "  print(2)\n",
        "elif a > 0 and b < 0:\n",
        "  print(4)\n",
        "elif a < 0 and b < 0:\n",
        "  print(3)"
      ],
      "metadata": {
        "id": "mBDlsXKATk0y"
      },
      "execution_count": null,
      "outputs": []
    }
  ]
}