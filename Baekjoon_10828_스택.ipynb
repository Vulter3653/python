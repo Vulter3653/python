{
  "nbformat": 4,
  "nbformat_minor": 0,
  "metadata": {
    "colab": {
      "name": "Baekjoon_10828_스택.ipynb",
      "provenance": [],
      "authorship_tag": "ABX9TyMv7MbrT32ZJQt8KIHLb0sx",
      "include_colab_link": true
    },
    "kernelspec": {
      "name": "python3",
      "display_name": "Python 3"
    },
    "language_info": {
      "name": "python"
    }
  },
  "cells": [
    {
      "cell_type": "markdown",
      "metadata": {
        "id": "view-in-github",
        "colab_type": "text"
      },
      "source": [
        "<a href=\"https://colab.research.google.com/github/Vulter3653/python/blob/main/Baekjoon_10828_%EC%8A%A4%ED%83%9D.ipynb\" target=\"_parent\"><img src=\"https://colab.research.google.com/assets/colab-badge.svg\" alt=\"Open In Colab\"/></a>"
      ]
    },
    {
      "cell_type": "code",
      "execution_count": 2,
      "metadata": {
        "colab": {
          "base_uri": "https://localhost:8080/"
        },
        "id": "aGPv2anwKhm6",
        "outputId": "8feb03d2-f453-4a6c-f638-a412ce8eed50"
      },
      "outputs": [
        {
          "output_type": "stream",
          "name": "stdout",
          "text": [
            "14\n",
            " push 1\n",
            "push 2\n",
            "top\n",
            "2\n",
            "size\n",
            "2\n",
            "empty\n",
            "0\n",
            "pop\n",
            "2\n",
            "pop\n",
            "1\n",
            "pop\n",
            "-1\n",
            "size\n",
            "0\n",
            "empty\n",
            "1\n",
            "pop\n",
            "-1\n",
            "push 3\n",
            "empty\n",
            "0\n",
            "top\n",
            "3\n"
          ]
        }
      ],
      "source": [
        "N = int(input().rstrip())\n",
        "arr = []\n",
        "\n",
        "for N in range(N):\n",
        "  x = input().rstrip().split()\n",
        "  if x[0] == \"push\":\n",
        "    arr.append(int(x[-1]))\n",
        "  elif x[0] == \"pop\":\n",
        "    if len(arr) != 0:\n",
        "      print(arr.pop())\n",
        "    else:\n",
        "      print(-1)\n",
        "  elif x[0] == \"size\":\n",
        "    print(len(arr))\n",
        "  elif x[0] == \"empty\":\n",
        "    if len(arr) != 0:\n",
        "      print(0)\n",
        "    else:\n",
        "      print(1)\n",
        "  elif x[0] == \"top\":\n",
        "    if len(arr) != 0:\n",
        "      print(arr[-1])\n",
        "    else:\n",
        "      print(-1)"
      ]
    },
    {
      "cell_type": "code",
      "source": [
        "import sys\n",
        "N = int(sys.stdin.readline().rstrip())\n",
        "arr = []\n",
        "\n",
        "for N in range(N):\n",
        "  x = sys.stdin.readline().rstrip().split()\n",
        "  if x[0] == \"push\":\n",
        "    arr.append(int(x[-1]))\n",
        "  elif x[0] == \"pop\":\n",
        "    if len(arr) != 0:\n",
        "      print(arr.pop())\n",
        "    else:\n",
        "      print(-1)\n",
        "  elif x[0] == \"size\":\n",
        "    print(len(arr))\n",
        "  elif x[0] == \"empty\":\n",
        "    if len(arr) != 0:\n",
        "      print(0)\n",
        "    else:\n",
        "      print(1)\n",
        "  elif x[0] == \"top\":\n",
        "    if len(arr) != 0:\n",
        "      print(arr[-1])\n",
        "    else:\n",
        "      print(-1)"
      ],
      "metadata": {
        "id": "DNckE5KdL6yt"
      },
      "execution_count": null,
      "outputs": []
    }
  ]
}