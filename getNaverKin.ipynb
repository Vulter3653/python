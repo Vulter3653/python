{
  "cells": [
    {
      "cell_type": "markdown",
      "metadata": {
        "id": "view-in-github",
        "colab_type": "text"
      },
      "source": [
        "<a href=\"https://colab.research.google.com/github/Vulter3653/python/blob/main/getNaverKin.ipynb\" target=\"_parent\"><img src=\"https://colab.research.google.com/assets/colab-badge.svg\" alt=\"Open In Colab\"/></a>"
      ]
    },
    {
      "cell_type": "code",
      "execution_count": null,
      "metadata": {
        "id": "qfJOvzzPdvaN"
      },
      "outputs": [],
      "source": [
        "import requests\n",
        "\n",
        "def getNaverKin(page):\n",
        "  KinList = []\n",
        "  for pageNum in range(page):\n",
        "    print(str(pageNum+1)+\" 번째 페이지를 크롤링 합니다.\"+\" (\"+str(pageNum+1)+\"/\"+str(page)+\")\")\n",
        "    urlStr = \"https://kin.naver.com/qna/list.naver?queryTime=2023-04-22%2014%3A59%3A47&page=\" + str(pageNum+1)\n",
        "    resp = requests.get(urlStr)\n",
        "    htmlText=resp.text\n",
        "\n",
        "    titleFirst = 'rel=\"KIN\" target=\"_blank\" class=\"_nclicks:kls_new.list'\n",
        "    titleMiddle = '\">'\n",
        "    titleLast = '</a>'\n",
        "\n",
        "    titleLastIndex = 0\n",
        "\n",
        "    while True:\n",
        "      try:\n",
        "        titleFirstIndex = htmlText.index(titleFirst, titleLastIndex) + len(titleFirst)\n",
        "      except ValueError:\n",
        "        break\n",
        "      titleMiddleIndex = htmlText.index(titleMiddle,titleFirstIndex) + len(titleMiddle)\n",
        "      titleLastIndex = htmlText.index(titleLast, titleMiddleIndex)\n",
        "      titleStr = htmlText[titleMiddleIndex:titleLastIndex]\n",
        "      KinList.append(titleStr)\n",
        "  return KinList"
      ]
    },
    {
      "cell_type": "code",
      "execution_count": null,
      "metadata": {
        "id": "LEFvmaS3ikkB"
      },
      "outputs": [],
      "source": [
        "getnaverKin(10)"
      ]
    }
  ],
  "metadata": {
    "colab": {
      "provenance": [],
      "authorship_tag": "ABX9TyM697vuo6xs558nPtRxow9q",
      "include_colab_link": true
    },
    "kernelspec": {
      "display_name": "Python 3",
      "name": "python3"
    },
    "language_info": {
      "name": "python"
    }
  },
  "nbformat": 4,
  "nbformat_minor": 0
}