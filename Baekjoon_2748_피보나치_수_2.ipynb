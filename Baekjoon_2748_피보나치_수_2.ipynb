{
  "nbformat": 4,
  "nbformat_minor": 0,
  "metadata": {
    "colab": {
      "name": "Baekjoon_2748_피보나치 수 2.ipynb",
      "provenance": [],
      "authorship_tag": "ABX9TyOpyXShHkwXIAtRrHyILZxj",
      "include_colab_link": true
    },
    "kernelspec": {
      "name": "python3",
      "display_name": "Python 3"
    },
    "language_info": {
      "name": "python"
    }
  },
  "cells": [
    {
      "cell_type": "markdown",
      "metadata": {
        "id": "view-in-github",
        "colab_type": "text"
      },
      "source": [
        "<a href=\"https://colab.research.google.com/github/Vulter3653/python/blob/main/Baekjoon_2748_%ED%94%BC%EB%B3%B4%EB%82%98%EC%B9%98_%EC%88%98_2.ipynb\" target=\"_parent\"><img src=\"https://colab.research.google.com/assets/colab-badge.svg\" alt=\"Open In Colab\"/></a>"
      ]
    },
    {
      "cell_type": "code",
      "execution_count": null,
      "metadata": {
        "id": "D-E4ZSwXFRVz"
      },
      "outputs": [],
      "source": [
        "#백준_10870_피보나치수 5 풀었던 것과 코드가 같음\n",
        "#문제에서의 차이점은 메모리 제한이 5는 256MB 2는 128MB\n",
        "n = int(input())\n",
        "\n",
        "a = 0\n",
        "b = 1\n",
        "\n",
        "if n == 0:\n",
        "  print(a)\n",
        "elif n == 1:\n",
        "  print(b)\n",
        "else:\n",
        "  for n in range(n):\n",
        "    b1 = a + b\n",
        "    a = b\n",
        "    b = b1\n",
        "\n",
        "  print(a)"
      ]
    },
    {
      "cell_type": "code",
      "source": [
        "import sys\n",
        "n = int(sys.stdin.readline())\n",
        "\n",
        "a = 0\n",
        "b = 1\n",
        "\n",
        "if n == 0:\n",
        "  print(a)\n",
        "elif n == 1:\n",
        "  print(b)\n",
        "else:\n",
        "  for n in range(n):\n",
        "    b1 = a + b\n",
        "    a = b\n",
        "    b = b1\n",
        "\n",
        "  print(a)"
      ],
      "metadata": {
        "id": "LJ9upHeeFe7M"
      },
      "execution_count": null,
      "outputs": []
    }
  ]
}