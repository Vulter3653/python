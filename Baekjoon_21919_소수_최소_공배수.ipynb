{
  "nbformat": 4,
  "nbformat_minor": 0,
  "metadata": {
    "colab": {
      "name": "Baekjoon_21919_소수 최소 공배수.ipynb",
      "provenance": [],
      "authorship_tag": "ABX9TyMWYfS3O/NdeyQY3vmQSlVt",
      "include_colab_link": true
    },
    "kernelspec": {
      "name": "python3",
      "display_name": "Python 3"
    },
    "language_info": {
      "name": "python"
    }
  },
  "cells": [
    {
      "cell_type": "markdown",
      "metadata": {
        "id": "view-in-github",
        "colab_type": "text"
      },
      "source": [
        "<a href=\"https://colab.research.google.com/github/Vulter3653/python/blob/main/Baekjoon_21919_%EC%86%8C%EC%88%98_%EC%B5%9C%EC%86%8C_%EA%B3%B5%EB%B0%B0%EC%88%98.ipynb\" target=\"_parent\"><img src=\"https://colab.research.google.com/assets/colab-badge.svg\" alt=\"Open In Colab\"/></a>"
      ]
    },
    {
      "cell_type": "code",
      "execution_count": 22,
      "metadata": {
        "colab": {
          "base_uri": "https://localhost:8080/"
        },
        "id": "ctQuFzn4MSJq",
        "outputId": "77823106-5daf-4604-f6bb-f4a16812119c"
      },
      "outputs": [
        {
          "output_type": "stream",
          "name": "stdout",
          "text": [
            "5\n",
            "2 2 2 2 2\n",
            "2\n"
          ]
        }
      ],
      "source": [
        "import math\n",
        "\n",
        "def primeNum(n):\n",
        "  for i in range(2,int(math.sqrt(n)+1)):\n",
        "    if n % i == 0:\n",
        "      return False\n",
        "  return True\n",
        "\n",
        "N = int(input())\n",
        "A = list(map(int,input().split()))\n",
        "a = 1\n",
        "t = set([])\n",
        "\n",
        "for N in range(N):\n",
        "  m = A.pop(0)\n",
        "  if primeNum(m) == True:\n",
        "    t.add(m)\n",
        "\n",
        "if len(t) == 0:\n",
        "  print(-1)\n",
        "else:\n",
        "  while True:\n",
        "    try:\n",
        "      a = a*t.pop()\n",
        "    except:\n",
        "      break\n",
        "  print(a)"
      ]
    },
    {
      "cell_type": "code",
      "source": [
        "import math\n",
        "import sys\n",
        "\n",
        "def primeNum(n):\n",
        "  for i in range(2,int(math.sqrt(n)+1)):\n",
        "    if n % i == 0:\n",
        "      return False\n",
        "  return True\n",
        "\n",
        "N = int(sys.stdin.readline())\n",
        "A = list(map(int,sys.stdin.readline().rstrip().split()))\n",
        "a = 1\n",
        "t = set([])\n",
        "\n",
        "for N in range(N):\n",
        "  m = A.pop(0)\n",
        "  if primeNum(m) == True:\n",
        "    t.add(m)\n",
        "\n",
        "if len(t) == 0:\n",
        "  print(-1)\n",
        "else:\n",
        "  while True:\n",
        "    try:\n",
        "      a = a*t.pop()\n",
        "    except:\n",
        "      break\n",
        "  print(a)"
      ],
      "metadata": {
        "id": "MJ3XCeNzTzsf"
      },
      "execution_count": null,
      "outputs": []
    },
    {
      "cell_type": "code",
      "source": [
        "#출력초과 발생 (반례: 5 \\n 2 2 2 2 2 -> output->32 but answer => 2)\n",
        "import math\n",
        "\n",
        "def primeNum(n):\n",
        "  for i in range(2,int(math.sqrt(n)+1)):\n",
        "    if n % i == 0:\n",
        "      return False\n",
        "  return True\n",
        "\n",
        "N = int(input())\n",
        "A = list(map(int,input().split()))\n",
        "a = 1\n",
        "t = [] \n",
        "\n",
        "for N in range(N):\n",
        "  m = A.pop(0)\n",
        "  if primeNum(m) == True:\n",
        "    t.add(m)\n",
        "\n",
        "if len(t) == 0:\n",
        "  print(-1)\n",
        "else:\n",
        "  while True:\n",
        "    try:\n",
        "      a = a*t.pop()\n",
        "    except:\n",
        "      break\n",
        "  print(a)"
      ],
      "metadata": {
        "id": "EqouxIueULXM"
      },
      "execution_count": null,
      "outputs": []
    }
  ]
}