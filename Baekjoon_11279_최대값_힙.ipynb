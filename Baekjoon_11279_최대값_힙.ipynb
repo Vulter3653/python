{
  "nbformat": 4,
  "nbformat_minor": 0,
  "metadata": {
    "colab": {
      "name": "Baekjoon_11279_최대값 힙.ipynb",
      "provenance": [],
      "authorship_tag": "ABX9TyN9Ceml4yoQPW3mktngEt+Z",
      "include_colab_link": true
    },
    "kernelspec": {
      "name": "python3",
      "display_name": "Python 3"
    },
    "language_info": {
      "name": "python"
    }
  },
  "cells": [
    {
      "cell_type": "markdown",
      "metadata": {
        "id": "view-in-github",
        "colab_type": "text"
      },
      "source": [
        "<a href=\"https://colab.research.google.com/github/Vulter3653/python/blob/main/Baekjoon_11279_%EC%B5%9C%EB%8C%80%EA%B0%92_%ED%9E%99.ipynb\" target=\"_parent\"><img src=\"https://colab.research.google.com/assets/colab-badge.svg\" alt=\"Open In Colab\"/></a>"
      ]
    },
    {
      "cell_type": "code",
      "execution_count": null,
      "metadata": {
        "colab": {
          "base_uri": "https://localhost:8080/"
        },
        "id": "u6jhUs0Um-ln",
        "outputId": "3040161e-708d-4e28-8912-ae113c8156a7"
      },
      "outputs": [
        {
          "output_type": "stream",
          "name": "stdout",
          "text": [
            "13\n",
            "0\n",
            "0\n",
            "1\n",
            "2\n",
            "0\n",
            "2\n",
            "0\n",
            "1\n",
            "3\n",
            "2\n",
            "1\n",
            "0\n",
            "3\n",
            "0\n",
            "2\n",
            "0\n",
            "1\n",
            "0\n",
            "0\n",
            "0\n",
            "0\n"
          ]
        }
      ],
      "source": [
        "#직접 입력\n",
        "import heapq\n",
        "\n",
        "N = int(input())\n",
        "\n",
        "arr = []\n",
        "\n",
        "for N in range(N):\n",
        "  x = int(input())\n",
        "  if x != 0:\n",
        "    heapq.heappush(arr, (-x, x))\n",
        "  else:\n",
        "    try:\n",
        "      print(heapq.heappop(arr)[1])\n",
        "    except:\n",
        "      print(0)"
      ]
    },
    {
      "cell_type": "code",
      "source": [
        "#sys 이용\n",
        "import heapq\n",
        "import sys\n",
        "\n",
        "arr = []\n",
        "\n",
        "for N in range(int(sys.stdin.readline())):\n",
        "  x = int(sys.stdin.readline())\n",
        "  if x != 0:\n",
        "    heapq.heappush(arr, (-x, x))\n",
        "  else:\n",
        "    try:\n",
        "      print(heapq.heappop(arr)[1])\n",
        "    except:\n",
        "      print(0)"
      ],
      "metadata": {
        "id": "Fbxtc3Ocvd90"
      },
      "execution_count": null,
      "outputs": []
    }
  ]
}