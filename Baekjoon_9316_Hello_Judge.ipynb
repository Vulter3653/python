{
  "nbformat": 4,
  "nbformat_minor": 0,
  "metadata": {
    "colab": {
      "name": "Baekjoon_9316_Hello Judge.ipynb",
      "provenance": [],
      "authorship_tag": "ABX9TyNqczGwaU+o7IKoGp+2NDWE",
      "include_colab_link": true
    },
    "kernelspec": {
      "name": "python3",
      "display_name": "Python 3"
    },
    "language_info": {
      "name": "python"
    }
  },
  "cells": [
    {
      "cell_type": "markdown",
      "metadata": {
        "id": "view-in-github",
        "colab_type": "text"
      },
      "source": [
        "<a href=\"https://colab.research.google.com/github/Vulter3653/python/blob/main/Baekjoon_9316_Hello_Judge.ipynb\" target=\"_parent\"><img src=\"https://colab.research.google.com/assets/colab-badge.svg\" alt=\"Open In Colab\"/></a>"
      ]
    },
    {
      "cell_type": "code",
      "execution_count": 2,
      "metadata": {
        "colab": {
          "base_uri": "https://localhost:8080/"
        },
        "id": "T8N8iRknyslr",
        "outputId": "18a78a7f-eb03-4056-f6dc-9e8bd3bd4f4b"
      },
      "outputs": [
        {
          "output_type": "stream",
          "name": "stdout",
          "text": [
            "3\n",
            "Hello World, Judge 1!\n",
            "Hello World, Judge 2!\n",
            "Hello World, Judge 3!\n"
          ]
        }
      ],
      "source": [
        "for x in range(1,(int(input().rstrip()))+1):\n",
        "  print(\"Hello World, Judge \"+str(x)+\"!\")"
      ]
    },
    {
      "cell_type": "code",
      "source": [
        "import sys\n",
        "\n",
        "for x in range(1,(int(sys.stdin.readline().rstrip()))+1):\n",
        "  print(\"Hello World, Judge \"+str(x)+\"!\")"
      ],
      "metadata": {
        "id": "YWiJdu1zy6sv"
      },
      "execution_count": null,
      "outputs": []
    }
  ]
}