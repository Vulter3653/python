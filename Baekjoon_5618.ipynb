{
  "nbformat": 4,
  "nbformat_minor": 0,
  "metadata": {
    "colab": {
      "name": "Baekjoon_5618.ipynb",
      "provenance": [],
      "authorship_tag": "ABX9TyOq2dI4DJbye7f/yGE9YOik",
      "include_colab_link": true
    },
    "kernelspec": {
      "name": "python3",
      "display_name": "Python 3"
    },
    "language_info": {
      "name": "python"
    }
  },
  "cells": [
    {
      "cell_type": "markdown",
      "metadata": {
        "id": "view-in-github",
        "colab_type": "text"
      },
      "source": [
        "<a href=\"https://colab.research.google.com/github/Vulter3653/python/blob/main/Baekjoon_5618.ipynb\" target=\"_parent\"><img src=\"https://colab.research.google.com/assets/colab-badge.svg\" alt=\"Open In Colab\"/></a>"
      ]
    },
    {
      "cell_type": "code",
      "execution_count": 5,
      "metadata": {
        "colab": {
          "base_uri": "https://localhost:8080/"
        },
        "id": "W1qfi7hWwsHr",
        "outputId": "05ef5ef9-7101-4d3d-ab74-6fbbfe46ad38"
      },
      "outputs": [
        {
          "output_type": "stream",
          "name": "stdout",
          "text": [
            "3\n",
            "110 22 88\n",
            "1\n",
            "2\n",
            "11\n",
            "22\n"
          ]
        }
      ],
      "source": [
        "x = input()\n",
        "\n",
        "if x == '2':\n",
        "  a,b = map(int, input().split())\n",
        "  for i in range(1, a+1):\n",
        "    if (a % i == 0) & (b % i== 0):\n",
        "      print(i)\n",
        "else:\n",
        "  a,b,c = map(int,input().split())\n",
        "  for i in range(1, a+1):\n",
        "    if (a % i == 0) & (b % i== 0) & (c % i ==0):\n",
        "      print(i)"
      ]
    },
    {
      "cell_type": "code",
      "source": [
        "import sys\n",
        "x = sys.stdin.readline()\n",
        "\n",
        "if x == '2':\n",
        "  a,b = map(int, sys.stdin.readline().split())\n",
        "  for i in range(1, a+1):\n",
        "    if (a % i == 0) & (b % i== 0):\n",
        "      print(i)\n",
        "else:\n",
        "  a,b,c = map(int,sys.stdin.readline().split())\n",
        "  for i in range(1, a+1):\n",
        "    if (a % i == 0) & (b % i== 0) & (c % i ==0):\n",
        "      print(i)"
      ],
      "metadata": {
        "id": "Su3G7eb_HOgu"
      },
      "execution_count": null,
      "outputs": []
    }
  ]
}