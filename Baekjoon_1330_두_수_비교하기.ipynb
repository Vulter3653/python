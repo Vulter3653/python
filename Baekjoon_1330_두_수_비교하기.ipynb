{
  "nbformat": 4,
  "nbformat_minor": 0,
  "metadata": {
    "colab": {
      "name": "Baekjoon_1330_두 수 비교하기.ipynb",
      "provenance": [],
      "authorship_tag": "ABX9TyMDymg2S48nMMMYSBdZqCsJ",
      "include_colab_link": true
    },
    "kernelspec": {
      "name": "python3",
      "display_name": "Python 3"
    },
    "language_info": {
      "name": "python"
    }
  },
  "cells": [
    {
      "cell_type": "markdown",
      "metadata": {
        "id": "view-in-github",
        "colab_type": "text"
      },
      "source": [
        "<a href=\"https://colab.research.google.com/github/Vulter3653/python/blob/main/Baekjoon_1330_%EB%91%90_%EC%88%98_%EB%B9%84%EA%B5%90%ED%95%98%EA%B8%B0.ipynb\" target=\"_parent\"><img src=\"https://colab.research.google.com/assets/colab-badge.svg\" alt=\"Open In Colab\"/></a>"
      ]
    },
    {
      "cell_type": "code",
      "execution_count": null,
      "metadata": {
        "id": "DIHxCTlUGSrb"
      },
      "outputs": [],
      "source": [
        "a,b = map(int,input().rstrip().split())\n",
        "if a == b:\n",
        "  print(\"==\")\n",
        "elif a>b:\n",
        "  print(\">\")\n",
        "else:\n",
        "  print(\"<\")"
      ]
    },
    {
      "cell_type": "code",
      "source": [
        "import sys\n",
        "\n",
        "a,b = map(int,sys.stdin.readline().rstrip().split())\n",
        "if a == b:\n",
        "  print(\"==\")\n",
        "elif a>b:\n",
        "  print(\">\")\n",
        "else:\n",
        "  print(\"<\")"
      ],
      "metadata": {
        "id": "PKfGDrYGGpZf"
      },
      "execution_count": null,
      "outputs": []
    }
  ]
}