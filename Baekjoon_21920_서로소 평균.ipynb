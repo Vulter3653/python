{
  "nbformat": 4,
  "nbformat_minor": 0,
  "metadata": {
    "colab": {
      "name": "Baekjoon_21920_서로소 평균.ipynb",
      "provenance": [],
      "authorship_tag": "ABX9TyOOMFD4965q5yRrdGwhfmoi",
      "include_colab_link": true
    },
    "kernelspec": {
      "name": "python3",
      "display_name": "Python 3"
    },
    "language_info": {
      "name": "python"
    }
  },
  "cells": [
    {
      "cell_type": "markdown",
      "metadata": {
        "id": "view-in-github",
        "colab_type": "text"
      },
      "source": [
        "<a href=\"https://colab.research.google.com/github/Vulter3653/python/blob/main/Baekjoon_21920_%EC%84%9C%EB%A1%9C%EC%86%8C%20%ED%8F%89%EA%B7%A0.ipynb\" target=\"_parent\"><img src=\"https://colab.research.google.com/assets/colab-badge.svg\" alt=\"Open In Colab\"/></a>"
      ]
    },
    {
      "cell_type": "code",
      "execution_count": 27,
      "metadata": {
        "colab": {
          "base_uri": "https://localhost:8080/"
        },
        "id": "ms-c2p7RTRae",
        "outputId": "2d34d901-1850-427c-f50d-d787c0f8e9c9"
      },
      "outputs": [
        {
          "output_type": "stream",
          "name": "stdout",
          "text": [
            "5\n",
            " 4 2 8 5 7\n",
            "4\n",
            "[7]\n",
            "[7, 5]\n",
            "[7, 5]\n",
            "[7, 5]\n",
            "[7, 5]\n",
            "12\n",
            "2\n",
            "6\n"
          ]
        }
      ],
      "source": [
        "#시간초과\n",
        "n = int(input().rstrip())\n",
        "a = list(map(int,input().rstrip().split()))\n",
        "x = int(input().rstrip())\n",
        "b = []\n",
        "\n",
        "for n in range(n):\n",
        "  num1 = a.pop()\n",
        "  c = []\n",
        "  for i in range(1, num1+1):\n",
        "    if (num1 % i == 0) & (x % i== 0):\n",
        "      c.append(i)\n",
        "\n",
        "  if c.pop() == 1:\n",
        "    b.append(num1)\n",
        "\n",
        "print(sum(b)//len(b))"
      ]
    },
    {
      "cell_type": "code",
      "source": [
        "#시간초과\n",
        "import sys\n",
        "\n",
        "n = int(sys.stdin.readline().rstrip())\n",
        "a = list(map(int,sys.stdin.readline().rstrip().split()))\n",
        "x = int(sys.stdin.readline().rstrip())\n",
        "b = []\n",
        "\n",
        "for n in range(n):\n",
        "  num1 = a.pop()\n",
        "  c = []\n",
        "  for i in range(1, num1+1):\n",
        "    if (num1 % i == 0) & (x % i== 0):\n",
        "      c.append(i)\n",
        "\n",
        "  if c.pop() == 1:\n",
        "    b.append(num1)\n",
        "    \n",
        "print(sum(b)//len(b))"
      ],
      "metadata": {
        "id": "pVxfunyzfvlC"
      },
      "execution_count": null,
      "outputs": []
    },
    {
      "cell_type": "code",
      "source": [
        "import math\n",
        "n = int(input().rstrip())\n",
        "a = list(map(int,input().rstrip().split()))\n",
        "x = int(input().rstrip())\n",
        "b = []\n",
        "\n",
        "for n in range(n):\n",
        "  num1 = a.pop()\n",
        "  c = []\n",
        "  if math.gcd(num1,x) == 1:\n",
        "    b.append(num1)\n",
        "\n",
        "print(sum(b)/len(b)) #절대/상대 오차에 의해 //의 경우 에러 발생"
      ],
      "metadata": {
        "colab": {
          "base_uri": "https://localhost:8080/"
        },
        "id": "CzgTTOrOgEyP",
        "outputId": "cdfeb9e4-1409-48c6-f063-aa764e98e4dc"
      },
      "execution_count": 30,
      "outputs": [
        {
          "output_type": "stream",
          "name": "stdout",
          "text": [
            "5\n",
            "4 2 8 5 7\n",
            "4\n",
            "6.0\n"
          ]
        }
      ]
    },
    {
      "cell_type": "code",
      "source": [
        "import math\n",
        "import sys\n",
        "\n",
        "n = int(sys.stdin.readline().rstrip())\n",
        "a = list(map(int,sys.stdin.readline().rstrip().split()))\n",
        "x = int(sys.stdin.readline().rstrip())\n",
        "b = []\n",
        "\n",
        "for n in range(n):\n",
        "  num1 = a.pop()\n",
        "  c = []\n",
        "  if math.gcd(num1,x) == 1:\n",
        "    b.append(num1)\n",
        "\n",
        "print(sum(b)/len(b))"
      ],
      "metadata": {
        "id": "l5hTardthpNo"
      },
      "execution_count": null,
      "outputs": []
    }
  ]
}