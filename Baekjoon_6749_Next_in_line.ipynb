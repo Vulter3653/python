{
  "nbformat": 4,
  "nbformat_minor": 0,
  "metadata": {
    "colab": {
      "name": "Baekjoon_6749_Next in line.ipynb",
      "provenance": [],
      "collapsed_sections": [],
      "authorship_tag": "ABX9TyMxjUhkGRMykXxKEaOCVK5a",
      "include_colab_link": true
    },
    "kernelspec": {
      "name": "python3",
      "display_name": "Python 3"
    },
    "language_info": {
      "name": "python"
    }
  },
  "cells": [
    {
      "cell_type": "markdown",
      "metadata": {
        "id": "view-in-github",
        "colab_type": "text"
      },
      "source": [
        "<a href=\"https://colab.research.google.com/github/Vulter3653/python/blob/main/Baekjoon_6749_Next_in_line.ipynb\" target=\"_parent\"><img src=\"https://colab.research.google.com/assets/colab-badge.svg\" alt=\"Open In Colab\"/></a>"
      ]
    },
    {
      "cell_type": "code",
      "execution_count": 1,
      "metadata": {
        "colab": {
          "base_uri": "https://localhost:8080/"
        },
        "id": "tFWggYoV7mOt",
        "outputId": "62b8bec9-7ad1-4c4f-9bd8-ba6927083025"
      },
      "outputs": [
        {
          "output_type": "stream",
          "name": "stdout",
          "text": [
            "1\n",
            "5\n",
            "9\n"
          ]
        }
      ],
      "source": [
        "Y = int(input())\n",
        "M = int(input())\n",
        "print(2*M-Y)"
      ]
    },
    {
      "cell_type": "code",
      "source": [
        "import sys\n",
        "Y = int(sys.stdin.readline().rstrip())\n",
        "M = int(sys.stdin.readline().rstrip())\n",
        "print(2*M-Y)"
      ],
      "metadata": {
        "id": "zIRLGdZl72SQ"
      },
      "execution_count": null,
      "outputs": []
    }
  ]
}