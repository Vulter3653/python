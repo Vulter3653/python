{
  "nbformat": 4,
  "nbformat_minor": 0,
  "metadata": {
    "colab": {
      "provenance": [],
      "authorship_tag": "ABX9TyMJM1m5OrV/2e+389lzEOJj",
      "include_colab_link": true
    },
    "kernelspec": {
      "name": "python3",
      "display_name": "Python 3"
    },
    "language_info": {
      "name": "python"
    }
  },
  "cells": [
    {
      "cell_type": "markdown",
      "metadata": {
        "id": "view-in-github",
        "colab_type": "text"
      },
      "source": [
        "<a href=\"https://colab.research.google.com/github/Vulter3653/python/blob/main/Baekjoon_11656_%EC%A0%91%EB%AF%B8%EC%82%AC_%EB%B0%B0%EC%97%B4.ipynb\" target=\"_parent\"><img src=\"https://colab.research.google.com/assets/colab-badge.svg\" alt=\"Open In Colab\"/></a>"
      ]
    },
    {
      "cell_type": "code",
      "execution_count": 11,
      "metadata": {
        "colab": {
          "base_uri": "https://localhost:8080/"
        },
        "id": "lrgoynBHMsnj",
        "outputId": "3da48605-af16-4b12-ae80-55e618ec8d2e"
      },
      "outputs": [
        {
          "output_type": "stream",
          "name": "stdout",
          "text": [
            "baekjoon\n",
            "aekjoon\n",
            "baekjoon\n",
            "ekjoon\n",
            "joon\n",
            "kjoon\n",
            "n\n",
            "on\n",
            "oon\n"
          ]
        }
      ],
      "source": [
        "S = input()\n",
        "lst_S = []\n",
        "for _ in range(len(S)):\n",
        "  lst_S.append(S)\n",
        "  S = S[1:]\n",
        "lst_S.sort()\n",
        "\n",
        "for x in range(len(lst_S)):\n",
        "  print(lst_S[x])"
      ]
    },
    {
      "cell_type": "code",
      "source": [
        "import sys\n",
        "\n",
        "S = sys.stdin.readline().rstrip()\n",
        "lst_S = []\n",
        "for _ in range(len(S)):\n",
        "  lst_S.append(S)\n",
        "  S = S[1:]\n",
        "lst_S.sort()\n",
        "\n",
        "for x in range(len(lst_S)):\n",
        "  print(lst_S[x])"
      ],
      "metadata": {
        "id": "rguuTIYpPL2K"
      },
      "execution_count": null,
      "outputs": []
    }
  ]
}