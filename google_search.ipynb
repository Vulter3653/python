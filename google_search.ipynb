{
  "nbformat": 4,
  "nbformat_minor": 0,
  "metadata": {
    "colab": {
      "name": "google_search.ipynb",
      "provenance": [],
      "collapsed_sections": [],
      "authorship_tag": "ABX9TyMg2yatTtAoGAm5Rr73vTjD",
      "include_colab_link": true
    },
    "kernelspec": {
      "name": "python3",
      "display_name": "Python 3"
    },
    "language_info": {
      "name": "python"
    }
  },
  "cells": [
    {
      "cell_type": "markdown",
      "metadata": {
        "id": "view-in-github",
        "colab_type": "text"
      },
      "source": [
        "<a href=\"https://colab.research.google.com/github/Vulter3653/python/blob/main/google_search.ipynb\" target=\"_parent\"><img src=\"https://colab.research.google.com/assets/colab-badge.svg\" alt=\"Open In Colab\"/></a>"
      ]
    },
    {
      "cell_type": "code",
      "execution_count": null,
      "metadata": {
        "id": "oWOmaU2gvIBg"
      },
      "outputs": [],
      "source": [
        "import requests\n",
        "from bs4 import BeautifulSoup\n",
        "\n",
        "headerData = {'User-Agent':''}\n",
        "pageNum = 0\n",
        "\n",
        "a = []\n",
        "def getGoogle(searchword, page):\n",
        "    for pageNum in range(page):\n",
        "        urlStr = 'https://www.google.com/search?q='+searchword+'&sxsrf=APq-WBvJpwcRYqL7eqhEGsXbyppcFbvQNA:1649921804148&ei=DM9XYurXCNeW-AaOmKN4&start='+str(pageNum)+'0&sa=N&ved=2ahUKEwjqjazYhZP3AhVXC94KHQ7MCA8Q8tMDegQIARBD&biw=927&bih=976&dpr=1'\n",
        "        resp = requests.get(urlStr, headers = headerData)\n",
        "        htmlText = resp.text\n",
        "\n",
        "        html_full_element = BeautifulSoup(htmlText, 'html.parser')\n",
        "        search_element_list = html_full_element.find_all('div', {'class':\"yuRUbf\"})\n",
        "\n",
        "        for search_element in search_element_list:\n",
        "            search_element_result = search_element.find('h3', {'class':\"LC20lb MBeuO DKV0Md\"})\n",
        "            a.append(search_element_result.text)\n",
        "\n",
        "            search_link = search_element.find('a')['href']\n",
        "            a.append(search_link)\n",
        "\n",
        "getGoogle('검색 키워드', 페이지수)\n",
        "print(a)\n",
        "\n",
        "with open('텍스트 파일명 .txt','w',encoding='UTF-8') as f:\n",
        "    for name in a:\n",
        "        f.write(name+'\\n')"
      ]
    }
  ]
}