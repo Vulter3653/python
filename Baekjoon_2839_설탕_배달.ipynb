{
  "nbformat": 4,
  "nbformat_minor": 0,
  "metadata": {
    "colab": {
      "name": "Baekjoon_2839_설탕 배달.ipynb",
      "provenance": [],
      "authorship_tag": "ABX9TyMLZj6tHKuHlK0CJpnKHNrw",
      "include_colab_link": true
    },
    "kernelspec": {
      "name": "python3",
      "display_name": "Python 3"
    },
    "language_info": {
      "name": "python"
    }
  },
  "cells": [
    {
      "cell_type": "markdown",
      "metadata": {
        "id": "view-in-github",
        "colab_type": "text"
      },
      "source": [
        "<a href=\"https://colab.research.google.com/github/Vulter3653/python/blob/main/Baekjoon_2839_%EC%84%A4%ED%83%95_%EB%B0%B0%EB%8B%AC.ipynb\" target=\"_parent\"><img src=\"https://colab.research.google.com/assets/colab-badge.svg\" alt=\"Open In Colab\"/></a>"
      ]
    },
    {
      "cell_type": "code",
      "execution_count": 132,
      "metadata": {
        "id": "ZhEZnj1ITok1",
        "colab": {
          "base_uri": "https://localhost:8080/"
        },
        "outputId": "0974b4ef-a941-4a08-dd09-d31d9f42e5f1"
      },
      "outputs": [
        {
          "output_type": "stream",
          "name": "stdout",
          "text": [
            "4999\n",
            "1001\n"
          ]
        }
      ],
      "source": [
        "N = int(input())\n",
        "\n",
        "a = N//5\n",
        "c = N%5\n",
        "\n",
        "while a >= 0:\n",
        "  if c == 0:\n",
        "    print(a)\n",
        "    break\n",
        "  elif (c%3) == 0:\n",
        "    b = c//3\n",
        "    print(a+b)\n",
        "    break\n",
        "  else:\n",
        "    a -= 1\n",
        "    c += 5\n",
        "\n",
        "if a == -1:\n",
        "  print(a)"
      ]
    }
  ]
}