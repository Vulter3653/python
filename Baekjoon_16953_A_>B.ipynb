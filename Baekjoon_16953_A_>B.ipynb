{
  "nbformat": 4,
  "nbformat_minor": 0,
  "metadata": {
    "colab": {
      "name": "Baekjoon_16953_A->B.ipynb",
      "provenance": [],
      "collapsed_sections": [],
      "authorship_tag": "ABX9TyMYMr6nu0PLRYrRKetx/n4i",
      "include_colab_link": true
    },
    "kernelspec": {
      "name": "python3",
      "display_name": "Python 3"
    },
    "language_info": {
      "name": "python"
    }
  },
  "cells": [
    {
      "cell_type": "markdown",
      "metadata": {
        "id": "view-in-github",
        "colab_type": "text"
      },
      "source": [
        "<a href=\"https://colab.research.google.com/github/Vulter3653/python/blob/main/Baekjoon_16953_A_%3EB.ipynb\" target=\"_parent\"><img src=\"https://colab.research.google.com/assets/colab-badge.svg\" alt=\"Open In Colab\"/></a>"
      ]
    },
    {
      "cell_type": "code",
      "execution_count": null,
      "metadata": {
        "colab": {
          "base_uri": "https://localhost:8080/"
        },
        "id": "iAk93hm5TUMP",
        "outputId": "03beb69e-71e5-4861-e059-e0e04b766e01"
      },
      "outputs": [
        {
          "output_type": "stream",
          "name": "stdout",
          "text": [
            "100\n",
            "40021\n",
            "5\n"
          ]
        }
      ],
      "source": [
        "#https://www.acmicpc.net/problem/16953\n",
        "#ValueError\n",
        "A = int(input())\n",
        "B = int(input())\n",
        "C = str(B)\n",
        "cnt = 1\n",
        "\n",
        "while True:\n",
        "  try:\n",
        "    if A == B:\n",
        "      print(cnt)\n",
        "      break\n",
        "    else:\n",
        "      if B%2==0:\n",
        "        B = B//2\n",
        "        C = str(B)\n",
        "        cnt += 1  \n",
        "      elif C[-1] == '1':\n",
        "        B = int(C[:-1])\n",
        "        cnt +=1\n",
        "        B = B//2\n",
        "        C = str(B)\n",
        "        cnt += 1\n",
        "      else:\n",
        "        print(-1)\n",
        "        break\n",
        "  except:\n",
        "    print(-1)\n",
        "    break"
      ]
    },
    {
      "cell_type": "code",
      "source": [
        "#ValueError\n",
        "A = int(input())\n",
        "B = int(input())\n",
        "C = str(B)\n",
        "cnt = 1\n",
        "\n",
        "while True:\n",
        "  if A > B or (B%2==1 and str(B%2)[-1] != '1'):\n",
        "    print(-1)\n",
        "    break\n",
        "  elif A == B:\n",
        "    print(cnt)\n",
        "    break\n",
        "  else:\n",
        "    if B%2==0:\n",
        "        B = B//2\n",
        "        C = str(B)\n",
        "        cnt += 1  \n",
        "    elif C[-1] == '1':\n",
        "      B = int(C[:-1])\n",
        "      B = B//2\n",
        "      C = str(B)\n",
        "      cnt += 2"
      ],
      "metadata": {
        "colab": {
          "base_uri": "https://localhost:8080/"
        },
        "id": "i53NKqAJWpNW",
        "outputId": "53940189-587f-4506-d01c-ad3ad7e2a37b"
      },
      "execution_count": null,
      "outputs": [
        {
          "output_type": "stream",
          "name": "stdout",
          "text": [
            "100\n",
            "40021\n",
            "5\n"
          ]
        }
      ]
    },
    {
      "cell_type": "code",
      "source": [
        "import sys\n",
        "A,B = map(int, sys.stdin.readline().split())\n",
        "C = str(B)\n",
        "cnt = 1\n",
        "\n",
        "while True:\n",
        "  try:\n",
        "    if A == B:\n",
        "      print(cnt)\n",
        "      break\n",
        "    else:\n",
        "      if B%2==0:\n",
        "        B = B//2\n",
        "        C = str(B)\n",
        "        cnt += 1  \n",
        "      elif C[-1] == '1':\n",
        "        B = int(C[:-1])\n",
        "        cnt +=1\n",
        "        B = B//2\n",
        "        C = str(B)\n",
        "        cnt += 1\n",
        "      else:\n",
        "        print(-1)\n",
        "        break\n",
        "  except:\n",
        "    print(-1)\n",
        "    break"
      ],
      "metadata": {
        "id": "3Yg8kAJZjoQL"
      },
      "execution_count": null,
      "outputs": []
    },
    {
      "cell_type": "code",
      "source": [
        "#time_over\n",
        "import sys\n",
        "A,B = map(int, sys.stdin.readline().split())\n",
        "C = str(B)\n",
        "cnt = 1\n",
        "\n",
        "while True:\n",
        "  if B%2==1 and str(B%2)[-1] != '1':\n",
        "    print(-1)\n",
        "    break\n",
        "  elif A == B:\n",
        "    print(cnt)\n",
        "    break\n",
        "  else:\n",
        "    if B%2==0:\n",
        "        B = B//2\n",
        "        C = str(B)\n",
        "        cnt += 1  \n",
        "    elif C[-1] == '1':\n",
        "      B = int(C[:-1])\n",
        "      B = B//2\n",
        "      C = str(B)\n",
        "      cnt += 2"
      ],
      "metadata": {
        "id": "3uqeHleWkEGp"
      },
      "execution_count": null,
      "outputs": []
    },
    {
      "cell_type": "code",
      "source": [
        "#time_over\n",
        "import sys\n",
        "#A,B = map(int, sys.stdin.readline().split())\n",
        "A = int(input()) \n",
        "B = int(input())\n",
        "C = str(B)\n",
        "cnt = 1\n",
        "\n",
        "while True:\n",
        "  if A > B or (B%2==1 and str(B%2)[-1] != '1'):\n",
        "    print(-1)\n",
        "    break\n",
        "  elif A == B:\n",
        "    print(cnt)\n",
        "    break\n",
        "  else:\n",
        "    if B%2==0:\n",
        "        B = B//2\n",
        "        C = str(B)\n",
        "        cnt += 1  \n",
        "    elif C[-1] == '1':\n",
        "      B = int(C[:-1])\n",
        "      B = B//2\n",
        "      C = str(B)\n",
        "      cnt += 2"
      ],
      "metadata": {
        "colab": {
          "base_uri": "https://localhost:8080/"
        },
        "id": "YfZkOSGxk6c6",
        "outputId": "7ea7e727-59af-496e-f961-90848ea0789c"
      },
      "execution_count": null,
      "outputs": [
        {
          "output_type": "stream",
          "name": "stdout",
          "text": [
            "4\n",
            "24\n",
            "-1\n"
          ]
        }
      ]
    },
    {
      "cell_type": "code",
      "source": [
        "#time_over\n",
        "import sys\n",
        "#A,B = map(int, sys.stdin.readline().split())\n",
        "A = int(input()) \n",
        "B = int(input())\n",
        "C = str(B)\n",
        "cnt = 1\n",
        "\n",
        "while True:\n",
        "  try:\n",
        "    if A == B:\n",
        "      print(cnt)\n",
        "      break\n",
        "    else:\n",
        "      if B%2==0:\n",
        "          B = B//2\n",
        "          C = str(B)\n",
        "          cnt += 1  \n",
        "      elif C[-1] == '1':\n",
        "        B = int(C[:-1])\n",
        "        B = B//2\n",
        "        C = str(B)\n",
        "        cnt += 2\n",
        "  except:\n",
        "    print(-1)\n",
        "    break"
      ],
      "metadata": {
        "id": "sMAYQdiVmdOa"
      },
      "execution_count": null,
      "outputs": []
    },
    {
      "cell_type": "code",
      "source": [
        "import sys\n",
        "\n",
        "A,B = map(int, sys.stdin.readline().split())\n",
        "cnt = 1\n",
        "\n",
        "while True:\n",
        "  try:\n",
        "    if A == B:\n",
        "      print(cnt)\n",
        "      break\n",
        "    else:\n",
        "      if B%2==0:\n",
        "        B = B//2\n",
        "        cnt += 1  \n",
        "      elif B%10 == 1:\n",
        "        B = int(str(B)[:-1])\n",
        "        B = B//2\n",
        "        cnt += 2\n",
        "      else:\n",
        "        print(-1)\n",
        "        break\n",
        "  except:\n",
        "    print(-1)\n",
        "    break"
      ],
      "metadata": {
        "id": "vdH0F7k5nOkL"
      },
      "execution_count": null,
      "outputs": []
    },
    {
      "cell_type": "code",
      "source": [
        "A = int(input()) \n",
        "B = int(input())\n",
        "cnt = 1\n",
        "\n",
        "while True:\n",
        "  try:\n",
        "    if A == B:\n",
        "      print(cnt)\n",
        "      break\n",
        "    else:\n",
        "      if B%2==0:\n",
        "        B = B//2\n",
        "        cnt += 1  \n",
        "      elif B%10 == 1:\n",
        "        B = int(str(B)[:-1])\n",
        "        cnt += 1\n",
        "      else:\n",
        "        print(-1)\n",
        "        break\n",
        "  except:\n",
        "    print(-1)\n",
        "    break"
      ],
      "metadata": {
        "colab": {
          "base_uri": "https://localhost:8080/"
        },
        "id": "E3XmKfWJncfG",
        "outputId": "a932ec8a-7e3b-4aab-ee1e-4c2fa7f08e24"
      },
      "execution_count": null,
      "outputs": [
        {
          "output_type": "stream",
          "name": "stdout",
          "text": [
            "2\n",
            "211\n",
            "3\n"
          ]
        }
      ]
    },
    {
      "cell_type": "code",
      "source": [
        "import sys\n",
        "\n",
        "A,B = map(int, sys.stdin.readline().split())\n",
        "cnt = 1\n",
        "\n",
        "while True:\n",
        "  try:\n",
        "    if A == B:\n",
        "      print(cnt)\n",
        "      break\n",
        "    else:\n",
        "      if B%2==0:\n",
        "        B = B//2\n",
        "        cnt += 1  \n",
        "      elif B%10 == 1:\n",
        "        B = int(str(B)[:-1])\n",
        "        cnt += 1\n",
        "      else:\n",
        "        print(-1)\n",
        "        break\n",
        "  except:\n",
        "    print(-1)\n",
        "    break"
      ],
      "metadata": {
        "id": "93y5_ecqoV1a"
      },
      "execution_count": null,
      "outputs": []
    },
    {
      "cell_type": "code",
      "source": [
        "A,B = map(int, input().split())\n",
        "cnt = 1\n",
        "\n",
        "while True:\n",
        "  try:\n",
        "    if A == B:\n",
        "      print(cnt)\n",
        "      break\n",
        "    else:\n",
        "      if B%2==0:\n",
        "        B = B//2\n",
        "        cnt += 1  \n",
        "      elif B%10 == 1:\n",
        "        B = int(str(B)[:-1])\n",
        "        cnt += 1\n",
        "      else:\n",
        "        print(-1)\n",
        "        break\n",
        "  except:\n",
        "    print(-1)\n",
        "    break"
      ],
      "metadata": {
        "id": "G_Yz6W7KGNhA"
      },
      "execution_count": null,
      "outputs": []
    }
  ]
}