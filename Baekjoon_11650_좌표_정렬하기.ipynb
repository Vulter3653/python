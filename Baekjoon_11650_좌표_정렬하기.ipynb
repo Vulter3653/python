{
  "nbformat": 4,
  "nbformat_minor": 0,
  "metadata": {
    "colab": {
      "name": "Baekjoon_11650_좌표 정렬하기.ipynb",
      "provenance": [],
      "collapsed_sections": [],
      "authorship_tag": "ABX9TyOzJXUV1UnfE5AV/0bNHgpZ",
      "include_colab_link": true
    },
    "kernelspec": {
      "name": "python3",
      "display_name": "Python 3"
    },
    "language_info": {
      "name": "python"
    }
  },
  "cells": [
    {
      "cell_type": "markdown",
      "metadata": {
        "id": "view-in-github",
        "colab_type": "text"
      },
      "source": [
        "<a href=\"https://colab.research.google.com/github/Vulter3653/python/blob/main/Baekjoon_11650_%EC%A2%8C%ED%91%9C_%EC%A0%95%EB%A0%AC%ED%95%98%EA%B8%B0.ipynb\" target=\"_parent\"><img src=\"https://colab.research.google.com/assets/colab-badge.svg\" alt=\"Open In Colab\"/></a>"
      ]
    },
    {
      "cell_type": "code",
      "execution_count": 9,
      "metadata": {
        "colab": {
          "base_uri": "https://localhost:8080/"
        },
        "id": "JLRgpwsSrBWR",
        "outputId": "cb7bc813-4675-44ae-dcb0-2f1d6dc2b364"
      },
      "outputs": [
        {
          "output_type": "stream",
          "name": "stdout",
          "text": [
            "5\n",
            "3 4\n",
            "1 1\n",
            "1 -1\n",
            "2 2\n",
            "3 3\n",
            "1 -1\n",
            "1 1\n",
            "2 2\n",
            "3 3\n",
            "3 4\n"
          ]
        }
      ],
      "source": [
        "import heapq\n",
        "a = []\n",
        "for _ in range(int(input().rstrip())):\n",
        "  x,y = map(int,input().rstrip().split())\n",
        "  heapq.heappush(a,(x,y))\n",
        "\n",
        "for _ in range(len(a)):\n",
        "  i = heapq.heappop(a)\n",
        "  print('{} {}'.format(i[0],i[1]))"
      ]
    },
    {
      "cell_type": "code",
      "source": [
        "import heapq\n",
        "import sys\n",
        "\n",
        "a = []\n",
        "for _ in range(int(sys.stdin.readline().rstrip())):\n",
        "  x,y = map(int,sys.stdin.readline().rstrip().split())\n",
        "  heapq.heappush(a,(x,y))\n",
        "\n",
        "for _ in range(len(a)):\n",
        "  i = heapq.heappop(a)\n",
        "  print('{} {}'.format(i[0],i[1]))"
      ],
      "metadata": {
        "id": "Ma9EdrRJsuJq"
      },
      "execution_count": null,
      "outputs": []
    }
  ]
}